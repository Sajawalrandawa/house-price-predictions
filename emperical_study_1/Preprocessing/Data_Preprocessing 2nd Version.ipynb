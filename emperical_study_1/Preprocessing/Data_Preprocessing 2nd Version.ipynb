{
 "cells": [
  {
   "cell_type": "markdown",
   "metadata": {},
   "source": [
    "# Data Preprocessing"
   ]
  },
  {
   "cell_type": "markdown",
   "metadata": {},
   "source": [
    "## Import Libraries\n"
   ]
  },
  {
   "cell_type": "code",
   "execution_count": null,
   "metadata": {},
   "outputs": [],
   "source": [
    "# Import Libraries\n",
    "\n",
    "import matplotlib.dates as dates\n",
    "import pandas as pd\n",
    "import matplotlib as mpl\n",
    "import seaborn as sns\n",
    "import matplotlib.pyplot as plt\n",
    "import numpy as np\n",
    "import warnings\n",
    "warnings.filterwarnings(\"ignore\")"
   ]
  },
  {
   "cell_type": "code",
   "execution_count": null,
   "metadata": {},
   "outputs": [],
   "source": [
    "housing = pd.read_csv('../data/AmesHousing.csv', index_col = 0)\n",
    "real_estate = pd.read_csv('../data/Ames Real Estate Data.csv', index_col = 0)"
   ]
  },
  {
   "cell_type": "code",
   "execution_count": null,
   "metadata": {},
   "outputs": [],
   "source": [
    "housing.shape"
   ]
  },
  {
   "cell_type": "code",
   "execution_count": null,
   "metadata": {},
   "outputs": [],
   "source": [
    "real_estate.shape"
   ]
  },
  {
   "cell_type": "code",
   "execution_count": null,
   "metadata": {},
   "outputs": [],
   "source": [
    "housing.columns"
   ]
  },
  {
   "cell_type": "code",
   "execution_count": null,
   "metadata": {},
   "outputs": [],
   "source": [
    "real_estate.columns"
   ]
  },
  {
   "cell_type": "markdown",
   "metadata": {},
   "source": [
    "## Dealing with Missing Data\n"
   ]
  },
  {
   "cell_type": "code",
   "execution_count": null,
   "metadata": {},
   "outputs": [],
   "source": [
    "from IPython.display import display, HTML\n",
    "\n",
    "cm = sns.light_palette(\"green\",as_cmap=True)\n",
    "plt.figure(figsize=(14,20))\n",
    "\n",
    "# Housing Dataframe\n",
    "plt.subplot(1,2,1)\n",
    "sns.heatmap(pd.DataFrame(housing.isnull().sum()/housing.shape[0]*100),annot=True,cmap=sns.color_palette(\"Blues\"),\n",
    "           linewidth=2,linecolor=\"white\")\n",
    "plt.title(\"Housing Dataframe NA Values\")\n",
    "\n",
    "# Real Estate Dataframe\n",
    "plt.subplot(1,2,2)\n",
    "sns.heatmap(pd.DataFrame(real_estate.isnull().sum()/real_estate.shape[0]*100),annot=True,cmap=sns.color_palette(\"Reds\"),\n",
    "           linewidth=2,linecolor=\"white\")\n",
    "plt.title(\"Real Estate Dataframe NA Values\")\n"
   ]
  },
  {
   "cell_type": "markdown",
   "metadata": {},
   "source": [
    "## Mutating Columns"
   ]
  },
  {
   "cell_type": "code",
   "execution_count": null,
   "metadata": {},
   "outputs": [],
   "source": [
    "# Create a new column MasVnrArea2 where if MasVnrArea ==0, 0 else 1\n",
    "housing['MasVnrArea2'] = np.where(housing['Mas Vnr Area']== 0, 0, 1)"
   ]
  },
  {
   "cell_type": "code",
   "execution_count": null,
   "metadata": {},
   "outputs": [],
   "source": [
    "# Create a new colulmn GarageArea2 where the NA values are now 0\n",
    "housing['GarageArea2'] = housing['Garage Area'].fillna(0)"
   ]
  },
  {
   "cell_type": "code",
   "execution_count": null,
   "metadata": {},
   "outputs": [],
   "source": [
    "# Create a new colulmn PoolArea2 where the NA values are now 0\n",
    "housing['PoolArea2'] = housing['Pool Area'].fillna(0)"
   ]
  },
  {
   "cell_type": "code",
   "execution_count": null,
   "metadata": {},
   "outputs": [],
   "source": [
    "# replace NA values with 0\n",
    "housing['2ndFlrSF'] = housing['2nd Flr SF'].fillna(0)"
   ]
  },
  {
   "cell_type": "code",
   "execution_count": null,
   "metadata": {},
   "outputs": [],
   "source": [
    "# Create a new column HalfBath2 and BsmtHalfBath where having a half bathroom = 0.5 for future mutation\n",
    "housing['HalfBath2'] = np.where(housing['Half Bath']==1, 0.5, 0)\n",
    "housing['BsmtHalfBath2'] = np.where(housing['Bsmt Half Bath']==1, 0.5, 0)"
   ]
  },
  {
   "cell_type": "code",
   "execution_count": null,
   "metadata": {},
   "outputs": [],
   "source": [
    "# If BsmtFinType1 is GLQ or ALQ, we use the BsmtFinSF1\n",
    "housing['BasmtFinSF1']=np.where((housing['BsmtFin Type 1']=='ALQ')|(housing['BsmtFin Type 1']=='GLQ'),\\\n",
    "                                 housing['BsmtFin SF 1'],0)"
   ]
  },
  {
   "cell_type": "code",
   "execution_count": null,
   "metadata": {},
   "outputs": [],
   "source": [
    "# If BsmtFinType2 is GLQ or ALQ, we use the BsmtFinSF2\n",
    "housing['BasmtFinSF2']=np.where((housing['BsmtFin Type 2']=='ALQ')|(housing['BsmtFin Type 2']=='GLQ'),\\\n",
    "                                 housing['BsmtFin SF 2'],0)"
   ]
  },
  {
   "cell_type": "code",
   "execution_count": null,
   "metadata": {},
   "outputs": [],
   "source": [
    "# The Total Square Feet of Basement Finish is BasmtFinSF1 + BasmtFinSF2\n",
    "housing['BasmtFinSF'] = housing['BasmtFinSF1'] + housing['BasmtFinSF2']"
   ]
  },
  {
   "cell_type": "code",
   "execution_count": null,
   "metadata": {},
   "outputs": [],
   "source": [
    "# Total Living Area is GrLivArea + BasmtFinSF\n",
    "housing['total_LivArea'] = housing['Gr Liv Area'] + housing['BasmtFinSF']"
   ]
  },
  {
   "cell_type": "code",
   "execution_count": null,
   "metadata": {},
   "outputs": [],
   "source": [
    "# Create num_bathroom\n",
    "housing['num_bathroom'] = housing['BsmtHalfBath2'] + housing['HalfBath2'] + \\\n",
    "                          housing['Full Bath'] + housing['Bsmt Full Bath']"
   ]
  },
  {
   "cell_type": "code",
   "execution_count": null,
   "metadata": {},
   "outputs": [],
   "source": [
    "# Check the newly created columns\n",
    "housing[['PID','BasmtFinSF1', 'BasmtFinSF2', 'BasmtFinSF', 'total_LivArea', 'num_bathroom']]"
   ]
  },
  {
   "cell_type": "code",
   "execution_count": null,
   "metadata": {},
   "outputs": [],
   "source": [
    "housing.columns"
   ]
  },
  {
   "cell_type": "code",
   "execution_count": null,
   "metadata": {},
   "outputs": [],
   "source": [
    "housing.shape\n",
    "\n",
    "# 91 columns (created 10 new columns)"
   ]
  },
  {
   "cell_type": "markdown",
   "metadata": {},
   "source": [
    "## Merge Data"
   ]
  },
  {
   "cell_type": "code",
   "execution_count": null,
   "metadata": {},
   "outputs": [],
   "source": [
    "# Merge housing and real_estate dataframe\n",
    "ames_df = pd.merge(housing, real_estate, how = 'left', left_on = ['PID'], right_on = ['MapRefNo'], \\\n",
    "                   suffixes=('', '_y'))\n",
    "ames_df.drop(ames_df.filter(regex = '_y$').columns.tolist(), axis = 1, inplace = True)"
   ]
  },
  {
   "cell_type": "code",
   "execution_count": null,
   "metadata": {},
   "outputs": [],
   "source": [
    "pd.set_option('display.max_columns', None)\n",
    "ames_df.head()"
   ]
  },
  {
   "cell_type": "code",
   "execution_count": null,
   "metadata": {},
   "outputs": [],
   "source": [
    "ames_df.shape"
   ]
  },
  {
   "cell_type": "code",
   "execution_count": null,
   "metadata": {},
   "outputs": [],
   "source": [
    "ames_housing = ames_df"
   ]
  },
  {
   "cell_type": "markdown",
   "metadata": {},
   "source": [
    "#### Create new column - Iowa State University Latitude and Longtitude"
   ]
  },
  {
   "cell_type": "code",
   "execution_count": null,
   "metadata": {},
   "outputs": [],
   "source": [
    "# Create a new column with Iowa State University Latitude and Longtitude\n",
    "Iowa_state = [] \n",
    "Iowa_state_lat = []\n",
    "Iowa_state_long = []\n",
    "for index,row in ames_housing.iterrows():\n",
    "    Iowa_state.append('(42.02704410769817, -93.64641075013807)')\n",
    "    Iowa_state_lat.append(42.02704410769817)\n",
    "    Iowa_state_long.append(-93.64641075013807)\n",
    "    \n",
    "ames_housing[\"ISU_lat_long\"] = Iowa_state\n",
    "ames_housing[\"ISU_lat\"] = Iowa_state_lat\n",
    "ames_housing[\"ISU_long\"] = Iowa_state_long"
   ]
  },
  {
   "cell_type": "code",
   "execution_count": null,
   "metadata": {},
   "outputs": [],
   "source": [
    "ames_housing[['ISU_lat_long', 'ISU_lat', 'ISU_long']]"
   ]
  },
  {
   "cell_type": "markdown",
   "metadata": {},
   "source": [
    "#### Calculate Distance using Geopy"
   ]
  },
  {
   "cell_type": "code",
   "execution_count": null,
   "metadata": {},
   "outputs": [],
   "source": [
    "# Importing the geodesic module from the library \n",
    "from geopy.distance import geodesic \n",
    "  \n",
    "# Loading the lat-long data for Kolkata & Delhi \n",
    "kolkata = (22.5726, 88.3639) \n",
    "delhi = (28.7041, 77.1025) \n",
    "  \n",
    "# Print the distance calculated in km \n",
    "print(geodesic(kolkata, delhi).km) "
   ]
  },
  {
   "cell_type": "markdown",
   "metadata": {},
   "source": [
    "## Final Look into the Data"
   ]
  },
  {
   "cell_type": "code",
   "execution_count": null,
   "metadata": {},
   "outputs": [],
   "source": [
    "pd.set_option('display.max_columns', None)\n",
    "ames_housing.head()"
   ]
  },
  {
   "cell_type": "code",
   "execution_count": null,
   "metadata": {},
   "outputs": [],
   "source": [
    "ames_housing.shape"
   ]
  },
  {
   "cell_type": "code",
   "execution_count": null,
   "metadata": {},
   "outputs": [],
   "source": [
    "ames_housing.isnull().sum()"
   ]
  },
  {
   "cell_type": "markdown",
   "metadata": {},
   "source": [
    "## Export Data\n"
   ]
  },
  {
   "cell_type": "code",
   "execution_count": null,
   "metadata": {},
   "outputs": [],
   "source": [
    "ames_housing.to_csv('../data/final_df.csv')"
   ]
  },
  {
   "cell_type": "code",
   "execution_count": null,
   "metadata": {},
   "outputs": [],
   "source": []
  }
 ],
 "metadata": {
  "kernelspec": {
   "display_name": "Python 3 (ipykernel)",
   "language": "python",
   "name": "python3"
  },
  "language_info": {
   "codemirror_mode": {
    "name": "ipython",
    "version": 3
   },
   "file_extension": ".py",
   "mimetype": "text/x-python",
   "name": "python",
   "nbconvert_exporter": "python",
   "pygments_lexer": "ipython3",
   "version": "3.9.12"
  },
  "toc": {
   "base_numbering": 1,
   "nav_menu": {},
   "number_sections": false,
   "sideBar": true,
   "skip_h1_title": false,
   "title_cell": "Table of Contents",
   "title_sidebar": "Contents",
   "toc_cell": false,
   "toc_position": {},
   "toc_section_display": true,
   "toc_window_display": false
  }
 },
 "nbformat": 4,
 "nbformat_minor": 4
}
