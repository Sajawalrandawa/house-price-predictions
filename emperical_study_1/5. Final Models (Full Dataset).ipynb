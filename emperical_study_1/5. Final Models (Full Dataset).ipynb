{
 "cells": [
  {
   "cell_type": "markdown",
   "metadata": {},
   "source": [
    "## 5. Final Models (Full Dataset)"
   ]
  },
  {
   "cell_type": "markdown",
   "metadata": {},
   "source": [
    "## Import Packages and Load dataset"
   ]
  },
  {
   "cell_type": "code",
   "execution_count": 1,
   "metadata": {},
   "outputs": [],
   "source": [
    "# Import\n",
    "import pandas as pd\n",
    "import numpy as np\n",
    "import matplotlib.pyplot as plt\n",
    "import seaborn as sns\n",
    "from scipy import stats\n",
    "from scipy.stats import norm, skew\n",
    "from sklearn.preprocessing import LabelEncoder\n",
    "%matplotlib inline\n",
    "pd.set_option(\"display.max_columns\", 101)"
   ]
  },
  {
   "cell_type": "code",
   "execution_count": 2,
   "metadata": {},
   "outputs": [],
   "source": [
    "# Load train dataset\n",
    "df_train = pd.read_csv('./house-prices-advanced-regression-techniques/train.csv')\n",
    "df_test = pd.read_csv('./house-prices-advanced-regression-techniques/test.csv')"
   ]
  },
  {
   "cell_type": "markdown",
   "metadata": {},
   "source": [
    "## Overview of Dataset"
   ]
  },
  {
   "cell_type": "code",
   "execution_count": 3,
   "metadata": {},
   "outputs": [
    {
     "data": {
      "text/html": [
       "<div>\n",
       "<style scoped>\n",
       "    .dataframe tbody tr th:only-of-type {\n",
       "        vertical-align: middle;\n",
       "    }\n",
       "\n",
       "    .dataframe tbody tr th {\n",
       "        vertical-align: top;\n",
       "    }\n",
       "\n",
       "    .dataframe thead th {\n",
       "        text-align: right;\n",
       "    }\n",
       "</style>\n",
       "<table border=\"1\" class=\"dataframe\">\n",
       "  <thead>\n",
       "    <tr style=\"text-align: right;\">\n",
       "      <th></th>\n",
       "      <th>Id</th>\n",
       "      <th>MSSubClass</th>\n",
       "      <th>MSZoning</th>\n",
       "      <th>LotFrontage</th>\n",
       "      <th>LotArea</th>\n",
       "      <th>Street</th>\n",
       "      <th>Alley</th>\n",
       "      <th>LotShape</th>\n",
       "      <th>LandContour</th>\n",
       "      <th>Utilities</th>\n",
       "      <th>LotConfig</th>\n",
       "      <th>LandSlope</th>\n",
       "      <th>Neighborhood</th>\n",
       "      <th>Condition1</th>\n",
       "      <th>Condition2</th>\n",
       "      <th>BldgType</th>\n",
       "      <th>HouseStyle</th>\n",
       "      <th>OverallQual</th>\n",
       "      <th>OverallCond</th>\n",
       "      <th>YearBuilt</th>\n",
       "      <th>YearRemodAdd</th>\n",
       "      <th>RoofStyle</th>\n",
       "      <th>RoofMatl</th>\n",
       "      <th>Exterior1st</th>\n",
       "      <th>Exterior2nd</th>\n",
       "      <th>MasVnrType</th>\n",
       "      <th>MasVnrArea</th>\n",
       "      <th>ExterQual</th>\n",
       "      <th>ExterCond</th>\n",
       "      <th>Foundation</th>\n",
       "      <th>BsmtQual</th>\n",
       "      <th>BsmtCond</th>\n",
       "      <th>BsmtExposure</th>\n",
       "      <th>BsmtFinType1</th>\n",
       "      <th>BsmtFinSF1</th>\n",
       "      <th>BsmtFinType2</th>\n",
       "      <th>BsmtFinSF2</th>\n",
       "      <th>BsmtUnfSF</th>\n",
       "      <th>TotalBsmtSF</th>\n",
       "      <th>Heating</th>\n",
       "      <th>HeatingQC</th>\n",
       "      <th>CentralAir</th>\n",
       "      <th>Electrical</th>\n",
       "      <th>1stFlrSF</th>\n",
       "      <th>2ndFlrSF</th>\n",
       "      <th>LowQualFinSF</th>\n",
       "      <th>GrLivArea</th>\n",
       "      <th>BsmtFullBath</th>\n",
       "      <th>BsmtHalfBath</th>\n",
       "      <th>FullBath</th>\n",
       "      <th>HalfBath</th>\n",
       "      <th>BedroomAbvGr</th>\n",
       "      <th>KitchenAbvGr</th>\n",
       "      <th>KitchenQual</th>\n",
       "      <th>TotRmsAbvGrd</th>\n",
       "      <th>Functional</th>\n",
       "      <th>Fireplaces</th>\n",
       "      <th>FireplaceQu</th>\n",
       "      <th>GarageType</th>\n",
       "      <th>GarageYrBlt</th>\n",
       "      <th>GarageFinish</th>\n",
       "      <th>GarageCars</th>\n",
       "      <th>GarageArea</th>\n",
       "      <th>GarageQual</th>\n",
       "      <th>GarageCond</th>\n",
       "      <th>PavedDrive</th>\n",
       "      <th>WoodDeckSF</th>\n",
       "      <th>OpenPorchSF</th>\n",
       "      <th>EnclosedPorch</th>\n",
       "      <th>3SsnPorch</th>\n",
       "      <th>ScreenPorch</th>\n",
       "      <th>PoolArea</th>\n",
       "      <th>PoolQC</th>\n",
       "      <th>Fence</th>\n",
       "      <th>MiscFeature</th>\n",
       "      <th>MiscVal</th>\n",
       "      <th>MoSold</th>\n",
       "      <th>YrSold</th>\n",
       "      <th>SaleType</th>\n",
       "      <th>SaleCondition</th>\n",
       "    </tr>\n",
       "  </thead>\n",
       "  <tbody>\n",
       "    <tr>\n",
       "      <th>58</th>\n",
       "      <td>1519</td>\n",
       "      <td>20</td>\n",
       "      <td>RL</td>\n",
       "      <td>70.0</td>\n",
       "      <td>8197</td>\n",
       "      <td>Pave</td>\n",
       "      <td>NaN</td>\n",
       "      <td>Reg</td>\n",
       "      <td>Lvl</td>\n",
       "      <td>AllPub</td>\n",
       "      <td>Inside</td>\n",
       "      <td>Gtl</td>\n",
       "      <td>NAmes</td>\n",
       "      <td>Norm</td>\n",
       "      <td>Norm</td>\n",
       "      <td>1Fam</td>\n",
       "      <td>1Story</td>\n",
       "      <td>7</td>\n",
       "      <td>5</td>\n",
       "      <td>2003</td>\n",
       "      <td>2009</td>\n",
       "      <td>Gable</td>\n",
       "      <td>CompShg</td>\n",
       "      <td>VinylSd</td>\n",
       "      <td>VinylSd</td>\n",
       "      <td>BrkFace</td>\n",
       "      <td>506.0</td>\n",
       "      <td>Gd</td>\n",
       "      <td>TA</td>\n",
       "      <td>PConc</td>\n",
       "      <td>Gd</td>\n",
       "      <td>TA</td>\n",
       "      <td>No</td>\n",
       "      <td>GLQ</td>\n",
       "      <td>1188.0</td>\n",
       "      <td>Unf</td>\n",
       "      <td>0.0</td>\n",
       "      <td>292.0</td>\n",
       "      <td>1480.0</td>\n",
       "      <td>GasA</td>\n",
       "      <td>Ex</td>\n",
       "      <td>Y</td>\n",
       "      <td>SBrkr</td>\n",
       "      <td>1480</td>\n",
       "      <td>0</td>\n",
       "      <td>0</td>\n",
       "      <td>1480</td>\n",
       "      <td>1.0</td>\n",
       "      <td>0.0</td>\n",
       "      <td>2</td>\n",
       "      <td>0</td>\n",
       "      <td>3</td>\n",
       "      <td>1</td>\n",
       "      <td>Gd</td>\n",
       "      <td>7</td>\n",
       "      <td>Typ</td>\n",
       "      <td>0</td>\n",
       "      <td>NaN</td>\n",
       "      <td>Attchd</td>\n",
       "      <td>2003.0</td>\n",
       "      <td>RFn</td>\n",
       "      <td>2.0</td>\n",
       "      <td>620.0</td>\n",
       "      <td>TA</td>\n",
       "      <td>TA</td>\n",
       "      <td>Y</td>\n",
       "      <td>252</td>\n",
       "      <td>73</td>\n",
       "      <td>0</td>\n",
       "      <td>0</td>\n",
       "      <td>0</td>\n",
       "      <td>0</td>\n",
       "      <td>NaN</td>\n",
       "      <td>MnPrv</td>\n",
       "      <td>Shed</td>\n",
       "      <td>300</td>\n",
       "      <td>2</td>\n",
       "      <td>2010</td>\n",
       "      <td>WD</td>\n",
       "      <td>Normal</td>\n",
       "    </tr>\n",
       "    <tr>\n",
       "      <th>1398</th>\n",
       "      <td>2859</td>\n",
       "      <td>70</td>\n",
       "      <td>RL</td>\n",
       "      <td>67.0</td>\n",
       "      <td>8777</td>\n",
       "      <td>Pave</td>\n",
       "      <td>NaN</td>\n",
       "      <td>Reg</td>\n",
       "      <td>Bnk</td>\n",
       "      <td>AllPub</td>\n",
       "      <td>Inside</td>\n",
       "      <td>Gtl</td>\n",
       "      <td>Edwards</td>\n",
       "      <td>Feedr</td>\n",
       "      <td>Norm</td>\n",
       "      <td>1Fam</td>\n",
       "      <td>2Story</td>\n",
       "      <td>4</td>\n",
       "      <td>6</td>\n",
       "      <td>1910</td>\n",
       "      <td>2000</td>\n",
       "      <td>Gable</td>\n",
       "      <td>CompShg</td>\n",
       "      <td>Plywood</td>\n",
       "      <td>Plywood</td>\n",
       "      <td>None</td>\n",
       "      <td>0.0</td>\n",
       "      <td>TA</td>\n",
       "      <td>Gd</td>\n",
       "      <td>CBlock</td>\n",
       "      <td>Gd</td>\n",
       "      <td>TA</td>\n",
       "      <td>No</td>\n",
       "      <td>Rec</td>\n",
       "      <td>173.0</td>\n",
       "      <td>BLQ</td>\n",
       "      <td>337.0</td>\n",
       "      <td>166.0</td>\n",
       "      <td>676.0</td>\n",
       "      <td>GasA</td>\n",
       "      <td>Gd</td>\n",
       "      <td>Y</td>\n",
       "      <td>SBrkr</td>\n",
       "      <td>760</td>\n",
       "      <td>676</td>\n",
       "      <td>0</td>\n",
       "      <td>1436</td>\n",
       "      <td>1.0</td>\n",
       "      <td>0.0</td>\n",
       "      <td>2</td>\n",
       "      <td>0</td>\n",
       "      <td>3</td>\n",
       "      <td>1</td>\n",
       "      <td>TA</td>\n",
       "      <td>6</td>\n",
       "      <td>Min1</td>\n",
       "      <td>0</td>\n",
       "      <td>NaN</td>\n",
       "      <td>Attchd</td>\n",
       "      <td>1950.0</td>\n",
       "      <td>Unf</td>\n",
       "      <td>2.0</td>\n",
       "      <td>528.0</td>\n",
       "      <td>TA</td>\n",
       "      <td>TA</td>\n",
       "      <td>Y</td>\n",
       "      <td>147</td>\n",
       "      <td>0</td>\n",
       "      <td>0</td>\n",
       "      <td>0</td>\n",
       "      <td>0</td>\n",
       "      <td>0</td>\n",
       "      <td>NaN</td>\n",
       "      <td>NaN</td>\n",
       "      <td>Shed</td>\n",
       "      <td>420</td>\n",
       "      <td>10</td>\n",
       "      <td>2006</td>\n",
       "      <td>WD</td>\n",
       "      <td>Normal</td>\n",
       "    </tr>\n",
       "    <tr>\n",
       "      <th>46</th>\n",
       "      <td>1507</td>\n",
       "      <td>60</td>\n",
       "      <td>RL</td>\n",
       "      <td>80.0</td>\n",
       "      <td>10791</td>\n",
       "      <td>Pave</td>\n",
       "      <td>NaN</td>\n",
       "      <td>Reg</td>\n",
       "      <td>Lvl</td>\n",
       "      <td>AllPub</td>\n",
       "      <td>Inside</td>\n",
       "      <td>Gtl</td>\n",
       "      <td>NWAmes</td>\n",
       "      <td>Norm</td>\n",
       "      <td>Norm</td>\n",
       "      <td>1Fam</td>\n",
       "      <td>2Story</td>\n",
       "      <td>6</td>\n",
       "      <td>5</td>\n",
       "      <td>1993</td>\n",
       "      <td>1993</td>\n",
       "      <td>Gable</td>\n",
       "      <td>CompShg</td>\n",
       "      <td>MetalSd</td>\n",
       "      <td>MetalSd</td>\n",
       "      <td>None</td>\n",
       "      <td>0.0</td>\n",
       "      <td>TA</td>\n",
       "      <td>TA</td>\n",
       "      <td>PConc</td>\n",
       "      <td>Gd</td>\n",
       "      <td>TA</td>\n",
       "      <td>Mn</td>\n",
       "      <td>GLQ</td>\n",
       "      <td>1137.0</td>\n",
       "      <td>Unf</td>\n",
       "      <td>0.0</td>\n",
       "      <td>143.0</td>\n",
       "      <td>1280.0</td>\n",
       "      <td>GasA</td>\n",
       "      <td>Ex</td>\n",
       "      <td>Y</td>\n",
       "      <td>SBrkr</td>\n",
       "      <td>1280</td>\n",
       "      <td>1215</td>\n",
       "      <td>0</td>\n",
       "      <td>2495</td>\n",
       "      <td>1.0</td>\n",
       "      <td>0.0</td>\n",
       "      <td>2</td>\n",
       "      <td>1</td>\n",
       "      <td>4</td>\n",
       "      <td>1</td>\n",
       "      <td>Gd</td>\n",
       "      <td>9</td>\n",
       "      <td>Typ</td>\n",
       "      <td>1</td>\n",
       "      <td>TA</td>\n",
       "      <td>Attchd</td>\n",
       "      <td>1993.0</td>\n",
       "      <td>Unf</td>\n",
       "      <td>2.0</td>\n",
       "      <td>660.0</td>\n",
       "      <td>TA</td>\n",
       "      <td>TA</td>\n",
       "      <td>Y</td>\n",
       "      <td>224</td>\n",
       "      <td>32</td>\n",
       "      <td>0</td>\n",
       "      <td>0</td>\n",
       "      <td>0</td>\n",
       "      <td>0</td>\n",
       "      <td>NaN</td>\n",
       "      <td>NaN</td>\n",
       "      <td>NaN</td>\n",
       "      <td>0</td>\n",
       "      <td>3</td>\n",
       "      <td>2010</td>\n",
       "      <td>WD</td>\n",
       "      <td>Normal</td>\n",
       "    </tr>\n",
       "    <tr>\n",
       "      <th>1443</th>\n",
       "      <td>2904</td>\n",
       "      <td>20</td>\n",
       "      <td>RL</td>\n",
       "      <td>88.0</td>\n",
       "      <td>11577</td>\n",
       "      <td>Pave</td>\n",
       "      <td>NaN</td>\n",
       "      <td>Reg</td>\n",
       "      <td>Lvl</td>\n",
       "      <td>AllPub</td>\n",
       "      <td>Inside</td>\n",
       "      <td>Gtl</td>\n",
       "      <td>Timber</td>\n",
       "      <td>Norm</td>\n",
       "      <td>Norm</td>\n",
       "      <td>1Fam</td>\n",
       "      <td>1Story</td>\n",
       "      <td>9</td>\n",
       "      <td>5</td>\n",
       "      <td>2005</td>\n",
       "      <td>2006</td>\n",
       "      <td>Hip</td>\n",
       "      <td>CompShg</td>\n",
       "      <td>VinylSd</td>\n",
       "      <td>VinylSd</td>\n",
       "      <td>BrkFace</td>\n",
       "      <td>382.0</td>\n",
       "      <td>Ex</td>\n",
       "      <td>TA</td>\n",
       "      <td>PConc</td>\n",
       "      <td>Gd</td>\n",
       "      <td>TA</td>\n",
       "      <td>Gd</td>\n",
       "      <td>GLQ</td>\n",
       "      <td>1455.0</td>\n",
       "      <td>Unf</td>\n",
       "      <td>0.0</td>\n",
       "      <td>383.0</td>\n",
       "      <td>1838.0</td>\n",
       "      <td>GasA</td>\n",
       "      <td>Ex</td>\n",
       "      <td>Y</td>\n",
       "      <td>SBrkr</td>\n",
       "      <td>1838</td>\n",
       "      <td>0</td>\n",
       "      <td>0</td>\n",
       "      <td>1838</td>\n",
       "      <td>1.0</td>\n",
       "      <td>0.0</td>\n",
       "      <td>2</td>\n",
       "      <td>0</td>\n",
       "      <td>3</td>\n",
       "      <td>1</td>\n",
       "      <td>Ex</td>\n",
       "      <td>9</td>\n",
       "      <td>Typ</td>\n",
       "      <td>1</td>\n",
       "      <td>Gd</td>\n",
       "      <td>Attchd</td>\n",
       "      <td>2005.0</td>\n",
       "      <td>Fin</td>\n",
       "      <td>3.0</td>\n",
       "      <td>682.0</td>\n",
       "      <td>TA</td>\n",
       "      <td>TA</td>\n",
       "      <td>Y</td>\n",
       "      <td>161</td>\n",
       "      <td>225</td>\n",
       "      <td>0</td>\n",
       "      <td>0</td>\n",
       "      <td>0</td>\n",
       "      <td>0</td>\n",
       "      <td>NaN</td>\n",
       "      <td>NaN</td>\n",
       "      <td>NaN</td>\n",
       "      <td>0</td>\n",
       "      <td>9</td>\n",
       "      <td>2006</td>\n",
       "      <td>New</td>\n",
       "      <td>Partial</td>\n",
       "    </tr>\n",
       "    <tr>\n",
       "      <th>620</th>\n",
       "      <td>2081</td>\n",
       "      <td>50</td>\n",
       "      <td>RL</td>\n",
       "      <td>60.0</td>\n",
       "      <td>7200</td>\n",
       "      <td>Pave</td>\n",
       "      <td>NaN</td>\n",
       "      <td>Reg</td>\n",
       "      <td>Lvl</td>\n",
       "      <td>AllPub</td>\n",
       "      <td>Inside</td>\n",
       "      <td>Gtl</td>\n",
       "      <td>NAmes</td>\n",
       "      <td>Norm</td>\n",
       "      <td>Norm</td>\n",
       "      <td>1Fam</td>\n",
       "      <td>1.5Fin</td>\n",
       "      <td>6</td>\n",
       "      <td>5</td>\n",
       "      <td>1954</td>\n",
       "      <td>1954</td>\n",
       "      <td>Gable</td>\n",
       "      <td>CompShg</td>\n",
       "      <td>MetalSd</td>\n",
       "      <td>MetalSd</td>\n",
       "      <td>None</td>\n",
       "      <td>0.0</td>\n",
       "      <td>TA</td>\n",
       "      <td>TA</td>\n",
       "      <td>CBlock</td>\n",
       "      <td>TA</td>\n",
       "      <td>TA</td>\n",
       "      <td>No</td>\n",
       "      <td>Rec</td>\n",
       "      <td>673.0</td>\n",
       "      <td>Unf</td>\n",
       "      <td>0.0</td>\n",
       "      <td>181.0</td>\n",
       "      <td>854.0</td>\n",
       "      <td>GasA</td>\n",
       "      <td>Fa</td>\n",
       "      <td>Y</td>\n",
       "      <td>FuseA</td>\n",
       "      <td>854</td>\n",
       "      <td>424</td>\n",
       "      <td>0</td>\n",
       "      <td>1278</td>\n",
       "      <td>0.0</td>\n",
       "      <td>0.0</td>\n",
       "      <td>1</td>\n",
       "      <td>0</td>\n",
       "      <td>4</td>\n",
       "      <td>1</td>\n",
       "      <td>TA</td>\n",
       "      <td>6</td>\n",
       "      <td>Typ</td>\n",
       "      <td>0</td>\n",
       "      <td>NaN</td>\n",
       "      <td>Attchd</td>\n",
       "      <td>1954.0</td>\n",
       "      <td>Unf</td>\n",
       "      <td>1.0</td>\n",
       "      <td>240.0</td>\n",
       "      <td>TA</td>\n",
       "      <td>TA</td>\n",
       "      <td>Y</td>\n",
       "      <td>0</td>\n",
       "      <td>0</td>\n",
       "      <td>0</td>\n",
       "      <td>0</td>\n",
       "      <td>0</td>\n",
       "      <td>0</td>\n",
       "      <td>NaN</td>\n",
       "      <td>MnWw</td>\n",
       "      <td>NaN</td>\n",
       "      <td>0</td>\n",
       "      <td>4</td>\n",
       "      <td>2008</td>\n",
       "      <td>WD</td>\n",
       "      <td>Normal</td>\n",
       "    </tr>\n",
       "    <tr>\n",
       "      <th>67</th>\n",
       "      <td>1528</td>\n",
       "      <td>50</td>\n",
       "      <td>RL</td>\n",
       "      <td>60.0</td>\n",
       "      <td>8064</td>\n",
       "      <td>Pave</td>\n",
       "      <td>NaN</td>\n",
       "      <td>Reg</td>\n",
       "      <td>Lvl</td>\n",
       "      <td>AllPub</td>\n",
       "      <td>Inside</td>\n",
       "      <td>Gtl</td>\n",
       "      <td>NAmes</td>\n",
       "      <td>Artery</td>\n",
       "      <td>Norm</td>\n",
       "      <td>1Fam</td>\n",
       "      <td>1.5Fin</td>\n",
       "      <td>6</td>\n",
       "      <td>8</td>\n",
       "      <td>1948</td>\n",
       "      <td>2004</td>\n",
       "      <td>Gable</td>\n",
       "      <td>CompShg</td>\n",
       "      <td>WdShing</td>\n",
       "      <td>Wd Shng</td>\n",
       "      <td>None</td>\n",
       "      <td>0.0</td>\n",
       "      <td>TA</td>\n",
       "      <td>TA</td>\n",
       "      <td>CBlock</td>\n",
       "      <td>TA</td>\n",
       "      <td>TA</td>\n",
       "      <td>No</td>\n",
       "      <td>ALQ</td>\n",
       "      <td>481.0</td>\n",
       "      <td>Rec</td>\n",
       "      <td>174.0</td>\n",
       "      <td>161.0</td>\n",
       "      <td>816.0</td>\n",
       "      <td>GasA</td>\n",
       "      <td>TA</td>\n",
       "      <td>Y</td>\n",
       "      <td>SBrkr</td>\n",
       "      <td>816</td>\n",
       "      <td>408</td>\n",
       "      <td>0</td>\n",
       "      <td>1224</td>\n",
       "      <td>1.0</td>\n",
       "      <td>0.0</td>\n",
       "      <td>1</td>\n",
       "      <td>0</td>\n",
       "      <td>3</td>\n",
       "      <td>1</td>\n",
       "      <td>TA</td>\n",
       "      <td>5</td>\n",
       "      <td>Typ</td>\n",
       "      <td>0</td>\n",
       "      <td>NaN</td>\n",
       "      <td>Detchd</td>\n",
       "      <td>1950.0</td>\n",
       "      <td>Unf</td>\n",
       "      <td>1.0</td>\n",
       "      <td>280.0</td>\n",
       "      <td>TA</td>\n",
       "      <td>TA</td>\n",
       "      <td>Y</td>\n",
       "      <td>414</td>\n",
       "      <td>0</td>\n",
       "      <td>0</td>\n",
       "      <td>0</td>\n",
       "      <td>0</td>\n",
       "      <td>0</td>\n",
       "      <td>NaN</td>\n",
       "      <td>GdWo</td>\n",
       "      <td>NaN</td>\n",
       "      <td>0</td>\n",
       "      <td>5</td>\n",
       "      <td>2010</td>\n",
       "      <td>WD</td>\n",
       "      <td>Normal</td>\n",
       "    </tr>\n",
       "    <tr>\n",
       "      <th>476</th>\n",
       "      <td>1937</td>\n",
       "      <td>60</td>\n",
       "      <td>RL</td>\n",
       "      <td>NaN</td>\n",
       "      <td>15038</td>\n",
       "      <td>Pave</td>\n",
       "      <td>NaN</td>\n",
       "      <td>IR2</td>\n",
       "      <td>Lvl</td>\n",
       "      <td>AllPub</td>\n",
       "      <td>Corner</td>\n",
       "      <td>Gtl</td>\n",
       "      <td>Gilbert</td>\n",
       "      <td>Norm</td>\n",
       "      <td>Norm</td>\n",
       "      <td>1Fam</td>\n",
       "      <td>2Story</td>\n",
       "      <td>6</td>\n",
       "      <td>5</td>\n",
       "      <td>1996</td>\n",
       "      <td>1996</td>\n",
       "      <td>Gable</td>\n",
       "      <td>CompShg</td>\n",
       "      <td>HdBoard</td>\n",
       "      <td>HdBoard</td>\n",
       "      <td>None</td>\n",
       "      <td>0.0</td>\n",
       "      <td>TA</td>\n",
       "      <td>TA</td>\n",
       "      <td>PConc</td>\n",
       "      <td>Gd</td>\n",
       "      <td>TA</td>\n",
       "      <td>No</td>\n",
       "      <td>Rec</td>\n",
       "      <td>138.0</td>\n",
       "      <td>Unf</td>\n",
       "      <td>0.0</td>\n",
       "      <td>778.0</td>\n",
       "      <td>916.0</td>\n",
       "      <td>GasA</td>\n",
       "      <td>Gd</td>\n",
       "      <td>Y</td>\n",
       "      <td>SBrkr</td>\n",
       "      <td>916</td>\n",
       "      <td>720</td>\n",
       "      <td>0</td>\n",
       "      <td>1636</td>\n",
       "      <td>0.0</td>\n",
       "      <td>0.0</td>\n",
       "      <td>2</td>\n",
       "      <td>1</td>\n",
       "      <td>3</td>\n",
       "      <td>1</td>\n",
       "      <td>TA</td>\n",
       "      <td>7</td>\n",
       "      <td>Typ</td>\n",
       "      <td>1</td>\n",
       "      <td>TA</td>\n",
       "      <td>Attchd</td>\n",
       "      <td>1996.0</td>\n",
       "      <td>Fin</td>\n",
       "      <td>2.0</td>\n",
       "      <td>386.0</td>\n",
       "      <td>TA</td>\n",
       "      <td>TA</td>\n",
       "      <td>Y</td>\n",
       "      <td>168</td>\n",
       "      <td>84</td>\n",
       "      <td>0</td>\n",
       "      <td>0</td>\n",
       "      <td>0</td>\n",
       "      <td>0</td>\n",
       "      <td>NaN</td>\n",
       "      <td>NaN</td>\n",
       "      <td>NaN</td>\n",
       "      <td>0</td>\n",
       "      <td>11</td>\n",
       "      <td>2008</td>\n",
       "      <td>WD</td>\n",
       "      <td>Normal</td>\n",
       "    </tr>\n",
       "    <tr>\n",
       "      <th>822</th>\n",
       "      <td>2283</td>\n",
       "      <td>160</td>\n",
       "      <td>RM</td>\n",
       "      <td>21.0</td>\n",
       "      <td>2205</td>\n",
       "      <td>Pave</td>\n",
       "      <td>NaN</td>\n",
       "      <td>Reg</td>\n",
       "      <td>Lvl</td>\n",
       "      <td>AllPub</td>\n",
       "      <td>Inside</td>\n",
       "      <td>Gtl</td>\n",
       "      <td>BrDale</td>\n",
       "      <td>Norm</td>\n",
       "      <td>Norm</td>\n",
       "      <td>Twnhs</td>\n",
       "      <td>2Story</td>\n",
       "      <td>6</td>\n",
       "      <td>6</td>\n",
       "      <td>1973</td>\n",
       "      <td>1973</td>\n",
       "      <td>Gable</td>\n",
       "      <td>CompShg</td>\n",
       "      <td>HdBoard</td>\n",
       "      <td>HdBoard</td>\n",
       "      <td>BrkFace</td>\n",
       "      <td>567.0</td>\n",
       "      <td>TA</td>\n",
       "      <td>TA</td>\n",
       "      <td>CBlock</td>\n",
       "      <td>TA</td>\n",
       "      <td>TA</td>\n",
       "      <td>No</td>\n",
       "      <td>ALQ</td>\n",
       "      <td>312.0</td>\n",
       "      <td>Unf</td>\n",
       "      <td>0.0</td>\n",
       "      <td>213.0</td>\n",
       "      <td>525.0</td>\n",
       "      <td>GasA</td>\n",
       "      <td>TA</td>\n",
       "      <td>Y</td>\n",
       "      <td>SBrkr</td>\n",
       "      <td>525</td>\n",
       "      <td>567</td>\n",
       "      <td>0</td>\n",
       "      <td>1092</td>\n",
       "      <td>0.0</td>\n",
       "      <td>0.0</td>\n",
       "      <td>1</td>\n",
       "      <td>1</td>\n",
       "      <td>3</td>\n",
       "      <td>1</td>\n",
       "      <td>TA</td>\n",
       "      <td>6</td>\n",
       "      <td>Typ</td>\n",
       "      <td>0</td>\n",
       "      <td>NaN</td>\n",
       "      <td>Detchd</td>\n",
       "      <td>1973.0</td>\n",
       "      <td>Unf</td>\n",
       "      <td>1.0</td>\n",
       "      <td>264.0</td>\n",
       "      <td>TA</td>\n",
       "      <td>TA</td>\n",
       "      <td>Y</td>\n",
       "      <td>144</td>\n",
       "      <td>0</td>\n",
       "      <td>0</td>\n",
       "      <td>0</td>\n",
       "      <td>0</td>\n",
       "      <td>0</td>\n",
       "      <td>NaN</td>\n",
       "      <td>NaN</td>\n",
       "      <td>NaN</td>\n",
       "      <td>0</td>\n",
       "      <td>2</td>\n",
       "      <td>2007</td>\n",
       "      <td>WD</td>\n",
       "      <td>Normal</td>\n",
       "    </tr>\n",
       "    <tr>\n",
       "      <th>1143</th>\n",
       "      <td>2604</td>\n",
       "      <td>160</td>\n",
       "      <td>RM</td>\n",
       "      <td>21.0</td>\n",
       "      <td>1495</td>\n",
       "      <td>Pave</td>\n",
       "      <td>NaN</td>\n",
       "      <td>Reg</td>\n",
       "      <td>Lvl</td>\n",
       "      <td>AllPub</td>\n",
       "      <td>Inside</td>\n",
       "      <td>Gtl</td>\n",
       "      <td>MeadowV</td>\n",
       "      <td>Norm</td>\n",
       "      <td>Norm</td>\n",
       "      <td>TwnhsE</td>\n",
       "      <td>2Story</td>\n",
       "      <td>4</td>\n",
       "      <td>6</td>\n",
       "      <td>1970</td>\n",
       "      <td>1970</td>\n",
       "      <td>Gable</td>\n",
       "      <td>CompShg</td>\n",
       "      <td>CemntBd</td>\n",
       "      <td>CmentBd</td>\n",
       "      <td>BrkFace</td>\n",
       "      <td>189.0</td>\n",
       "      <td>TA</td>\n",
       "      <td>TA</td>\n",
       "      <td>CBlock</td>\n",
       "      <td>TA</td>\n",
       "      <td>TA</td>\n",
       "      <td>No</td>\n",
       "      <td>ALQ</td>\n",
       "      <td>384.0</td>\n",
       "      <td>Unf</td>\n",
       "      <td>0.0</td>\n",
       "      <td>162.0</td>\n",
       "      <td>546.0</td>\n",
       "      <td>GasA</td>\n",
       "      <td>Ex</td>\n",
       "      <td>Y</td>\n",
       "      <td>SBrkr</td>\n",
       "      <td>546</td>\n",
       "      <td>546</td>\n",
       "      <td>0</td>\n",
       "      <td>1092</td>\n",
       "      <td>0.0</td>\n",
       "      <td>0.0</td>\n",
       "      <td>1</td>\n",
       "      <td>1</td>\n",
       "      <td>3</td>\n",
       "      <td>1</td>\n",
       "      <td>TA</td>\n",
       "      <td>5</td>\n",
       "      <td>Typ</td>\n",
       "      <td>0</td>\n",
       "      <td>NaN</td>\n",
       "      <td>NaN</td>\n",
       "      <td>NaN</td>\n",
       "      <td>NaN</td>\n",
       "      <td>0.0</td>\n",
       "      <td>0.0</td>\n",
       "      <td>NaN</td>\n",
       "      <td>NaN</td>\n",
       "      <td>Y</td>\n",
       "      <td>0</td>\n",
       "      <td>64</td>\n",
       "      <td>0</td>\n",
       "      <td>0</td>\n",
       "      <td>0</td>\n",
       "      <td>0</td>\n",
       "      <td>NaN</td>\n",
       "      <td>NaN</td>\n",
       "      <td>NaN</td>\n",
       "      <td>0</td>\n",
       "      <td>5</td>\n",
       "      <td>2007</td>\n",
       "      <td>WD</td>\n",
       "      <td>Normal</td>\n",
       "    </tr>\n",
       "    <tr>\n",
       "      <th>959</th>\n",
       "      <td>2420</td>\n",
       "      <td>20</td>\n",
       "      <td>RL</td>\n",
       "      <td>70.0</td>\n",
       "      <td>8400</td>\n",
       "      <td>Pave</td>\n",
       "      <td>NaN</td>\n",
       "      <td>Reg</td>\n",
       "      <td>Lvl</td>\n",
       "      <td>AllPub</td>\n",
       "      <td>Corner</td>\n",
       "      <td>Gtl</td>\n",
       "      <td>NAmes</td>\n",
       "      <td>Norm</td>\n",
       "      <td>Norm</td>\n",
       "      <td>1Fam</td>\n",
       "      <td>1Story</td>\n",
       "      <td>5</td>\n",
       "      <td>5</td>\n",
       "      <td>1955</td>\n",
       "      <td>1955</td>\n",
       "      <td>Gable</td>\n",
       "      <td>CompShg</td>\n",
       "      <td>MetalSd</td>\n",
       "      <td>MetalSd</td>\n",
       "      <td>None</td>\n",
       "      <td>0.0</td>\n",
       "      <td>TA</td>\n",
       "      <td>Gd</td>\n",
       "      <td>CBlock</td>\n",
       "      <td>TA</td>\n",
       "      <td>TA</td>\n",
       "      <td>No</td>\n",
       "      <td>BLQ</td>\n",
       "      <td>793.0</td>\n",
       "      <td>Unf</td>\n",
       "      <td>0.0</td>\n",
       "      <td>130.0</td>\n",
       "      <td>923.0</td>\n",
       "      <td>GasA</td>\n",
       "      <td>TA</td>\n",
       "      <td>Y</td>\n",
       "      <td>SBrkr</td>\n",
       "      <td>925</td>\n",
       "      <td>0</td>\n",
       "      <td>0</td>\n",
       "      <td>925</td>\n",
       "      <td>1.0</td>\n",
       "      <td>0.0</td>\n",
       "      <td>1</td>\n",
       "      <td>0</td>\n",
       "      <td>3</td>\n",
       "      <td>1</td>\n",
       "      <td>TA</td>\n",
       "      <td>5</td>\n",
       "      <td>Typ</td>\n",
       "      <td>2</td>\n",
       "      <td>TA</td>\n",
       "      <td>Attchd</td>\n",
       "      <td>1955.0</td>\n",
       "      <td>Unf</td>\n",
       "      <td>1.0</td>\n",
       "      <td>390.0</td>\n",
       "      <td>TA</td>\n",
       "      <td>TA</td>\n",
       "      <td>Y</td>\n",
       "      <td>81</td>\n",
       "      <td>0</td>\n",
       "      <td>0</td>\n",
       "      <td>0</td>\n",
       "      <td>0</td>\n",
       "      <td>0</td>\n",
       "      <td>NaN</td>\n",
       "      <td>GdWo</td>\n",
       "      <td>NaN</td>\n",
       "      <td>0</td>\n",
       "      <td>3</td>\n",
       "      <td>2007</td>\n",
       "      <td>WD</td>\n",
       "      <td>Normal</td>\n",
       "    </tr>\n",
       "  </tbody>\n",
       "</table>\n",
       "</div>"
      ],
      "text/plain": [
       "        Id  MSSubClass MSZoning  LotFrontage  LotArea Street Alley LotShape  \\\n",
       "58    1519          20       RL         70.0     8197   Pave   NaN      Reg   \n",
       "1398  2859          70       RL         67.0     8777   Pave   NaN      Reg   \n",
       "46    1507          60       RL         80.0    10791   Pave   NaN      Reg   \n",
       "1443  2904          20       RL         88.0    11577   Pave   NaN      Reg   \n",
       "620   2081          50       RL         60.0     7200   Pave   NaN      Reg   \n",
       "67    1528          50       RL         60.0     8064   Pave   NaN      Reg   \n",
       "476   1937          60       RL          NaN    15038   Pave   NaN      IR2   \n",
       "822   2283         160       RM         21.0     2205   Pave   NaN      Reg   \n",
       "1143  2604         160       RM         21.0     1495   Pave   NaN      Reg   \n",
       "959   2420          20       RL         70.0     8400   Pave   NaN      Reg   \n",
       "\n",
       "     LandContour Utilities LotConfig LandSlope Neighborhood Condition1  \\\n",
       "58           Lvl    AllPub    Inside       Gtl        NAmes       Norm   \n",
       "1398         Bnk    AllPub    Inside       Gtl      Edwards      Feedr   \n",
       "46           Lvl    AllPub    Inside       Gtl       NWAmes       Norm   \n",
       "1443         Lvl    AllPub    Inside       Gtl       Timber       Norm   \n",
       "620          Lvl    AllPub    Inside       Gtl        NAmes       Norm   \n",
       "67           Lvl    AllPub    Inside       Gtl        NAmes     Artery   \n",
       "476          Lvl    AllPub    Corner       Gtl      Gilbert       Norm   \n",
       "822          Lvl    AllPub    Inside       Gtl       BrDale       Norm   \n",
       "1143         Lvl    AllPub    Inside       Gtl      MeadowV       Norm   \n",
       "959          Lvl    AllPub    Corner       Gtl        NAmes       Norm   \n",
       "\n",
       "     Condition2 BldgType HouseStyle  OverallQual  OverallCond  YearBuilt  \\\n",
       "58         Norm     1Fam     1Story            7            5       2003   \n",
       "1398       Norm     1Fam     2Story            4            6       1910   \n",
       "46         Norm     1Fam     2Story            6            5       1993   \n",
       "1443       Norm     1Fam     1Story            9            5       2005   \n",
       "620        Norm     1Fam     1.5Fin            6            5       1954   \n",
       "67         Norm     1Fam     1.5Fin            6            8       1948   \n",
       "476        Norm     1Fam     2Story            6            5       1996   \n",
       "822        Norm    Twnhs     2Story            6            6       1973   \n",
       "1143       Norm   TwnhsE     2Story            4            6       1970   \n",
       "959        Norm     1Fam     1Story            5            5       1955   \n",
       "\n",
       "      YearRemodAdd RoofStyle RoofMatl Exterior1st Exterior2nd MasVnrType  \\\n",
       "58            2009     Gable  CompShg     VinylSd     VinylSd    BrkFace   \n",
       "1398          2000     Gable  CompShg     Plywood     Plywood       None   \n",
       "46            1993     Gable  CompShg     MetalSd     MetalSd       None   \n",
       "1443          2006       Hip  CompShg     VinylSd     VinylSd    BrkFace   \n",
       "620           1954     Gable  CompShg     MetalSd     MetalSd       None   \n",
       "67            2004     Gable  CompShg     WdShing     Wd Shng       None   \n",
       "476           1996     Gable  CompShg     HdBoard     HdBoard       None   \n",
       "822           1973     Gable  CompShg     HdBoard     HdBoard    BrkFace   \n",
       "1143          1970     Gable  CompShg     CemntBd     CmentBd    BrkFace   \n",
       "959           1955     Gable  CompShg     MetalSd     MetalSd       None   \n",
       "\n",
       "      MasVnrArea ExterQual ExterCond Foundation BsmtQual BsmtCond  \\\n",
       "58         506.0        Gd        TA      PConc       Gd       TA   \n",
       "1398         0.0        TA        Gd     CBlock       Gd       TA   \n",
       "46           0.0        TA        TA      PConc       Gd       TA   \n",
       "1443       382.0        Ex        TA      PConc       Gd       TA   \n",
       "620          0.0        TA        TA     CBlock       TA       TA   \n",
       "67           0.0        TA        TA     CBlock       TA       TA   \n",
       "476          0.0        TA        TA      PConc       Gd       TA   \n",
       "822        567.0        TA        TA     CBlock       TA       TA   \n",
       "1143       189.0        TA        TA     CBlock       TA       TA   \n",
       "959          0.0        TA        Gd     CBlock       TA       TA   \n",
       "\n",
       "     BsmtExposure BsmtFinType1  BsmtFinSF1 BsmtFinType2  BsmtFinSF2  \\\n",
       "58             No          GLQ      1188.0          Unf         0.0   \n",
       "1398           No          Rec       173.0          BLQ       337.0   \n",
       "46             Mn          GLQ      1137.0          Unf         0.0   \n",
       "1443           Gd          GLQ      1455.0          Unf         0.0   \n",
       "620            No          Rec       673.0          Unf         0.0   \n",
       "67             No          ALQ       481.0          Rec       174.0   \n",
       "476            No          Rec       138.0          Unf         0.0   \n",
       "822            No          ALQ       312.0          Unf         0.0   \n",
       "1143           No          ALQ       384.0          Unf         0.0   \n",
       "959            No          BLQ       793.0          Unf         0.0   \n",
       "\n",
       "      BsmtUnfSF  TotalBsmtSF Heating HeatingQC CentralAir Electrical  \\\n",
       "58        292.0       1480.0    GasA        Ex          Y      SBrkr   \n",
       "1398      166.0        676.0    GasA        Gd          Y      SBrkr   \n",
       "46        143.0       1280.0    GasA        Ex          Y      SBrkr   \n",
       "1443      383.0       1838.0    GasA        Ex          Y      SBrkr   \n",
       "620       181.0        854.0    GasA        Fa          Y      FuseA   \n",
       "67        161.0        816.0    GasA        TA          Y      SBrkr   \n",
       "476       778.0        916.0    GasA        Gd          Y      SBrkr   \n",
       "822       213.0        525.0    GasA        TA          Y      SBrkr   \n",
       "1143      162.0        546.0    GasA        Ex          Y      SBrkr   \n",
       "959       130.0        923.0    GasA        TA          Y      SBrkr   \n",
       "\n",
       "      1stFlrSF  2ndFlrSF  LowQualFinSF  GrLivArea  BsmtFullBath  BsmtHalfBath  \\\n",
       "58        1480         0             0       1480           1.0           0.0   \n",
       "1398       760       676             0       1436           1.0           0.0   \n",
       "46        1280      1215             0       2495           1.0           0.0   \n",
       "1443      1838         0             0       1838           1.0           0.0   \n",
       "620        854       424             0       1278           0.0           0.0   \n",
       "67         816       408             0       1224           1.0           0.0   \n",
       "476        916       720             0       1636           0.0           0.0   \n",
       "822        525       567             0       1092           0.0           0.0   \n",
       "1143       546       546             0       1092           0.0           0.0   \n",
       "959        925         0             0        925           1.0           0.0   \n",
       "\n",
       "      FullBath  HalfBath  BedroomAbvGr  KitchenAbvGr KitchenQual  \\\n",
       "58           2         0             3             1          Gd   \n",
       "1398         2         0             3             1          TA   \n",
       "46           2         1             4             1          Gd   \n",
       "1443         2         0             3             1          Ex   \n",
       "620          1         0             4             1          TA   \n",
       "67           1         0             3             1          TA   \n",
       "476          2         1             3             1          TA   \n",
       "822          1         1             3             1          TA   \n",
       "1143         1         1             3             1          TA   \n",
       "959          1         0             3             1          TA   \n",
       "\n",
       "      TotRmsAbvGrd Functional  Fireplaces FireplaceQu GarageType  GarageYrBlt  \\\n",
       "58               7        Typ           0         NaN     Attchd       2003.0   \n",
       "1398             6       Min1           0         NaN     Attchd       1950.0   \n",
       "46               9        Typ           1          TA     Attchd       1993.0   \n",
       "1443             9        Typ           1          Gd     Attchd       2005.0   \n",
       "620              6        Typ           0         NaN     Attchd       1954.0   \n",
       "67               5        Typ           0         NaN     Detchd       1950.0   \n",
       "476              7        Typ           1          TA     Attchd       1996.0   \n",
       "822              6        Typ           0         NaN     Detchd       1973.0   \n",
       "1143             5        Typ           0         NaN        NaN          NaN   \n",
       "959              5        Typ           2          TA     Attchd       1955.0   \n",
       "\n",
       "     GarageFinish  GarageCars  GarageArea GarageQual GarageCond PavedDrive  \\\n",
       "58            RFn         2.0       620.0         TA         TA          Y   \n",
       "1398          Unf         2.0       528.0         TA         TA          Y   \n",
       "46            Unf         2.0       660.0         TA         TA          Y   \n",
       "1443          Fin         3.0       682.0         TA         TA          Y   \n",
       "620           Unf         1.0       240.0         TA         TA          Y   \n",
       "67            Unf         1.0       280.0         TA         TA          Y   \n",
       "476           Fin         2.0       386.0         TA         TA          Y   \n",
       "822           Unf         1.0       264.0         TA         TA          Y   \n",
       "1143          NaN         0.0         0.0        NaN        NaN          Y   \n",
       "959           Unf         1.0       390.0         TA         TA          Y   \n",
       "\n",
       "      WoodDeckSF  OpenPorchSF  EnclosedPorch  3SsnPorch  ScreenPorch  \\\n",
       "58           252           73              0          0            0   \n",
       "1398         147            0              0          0            0   \n",
       "46           224           32              0          0            0   \n",
       "1443         161          225              0          0            0   \n",
       "620            0            0              0          0            0   \n",
       "67           414            0              0          0            0   \n",
       "476          168           84              0          0            0   \n",
       "822          144            0              0          0            0   \n",
       "1143           0           64              0          0            0   \n",
       "959           81            0              0          0            0   \n",
       "\n",
       "      PoolArea PoolQC  Fence MiscFeature  MiscVal  MoSold  YrSold SaleType  \\\n",
       "58           0    NaN  MnPrv        Shed      300       2    2010       WD   \n",
       "1398         0    NaN    NaN        Shed      420      10    2006       WD   \n",
       "46           0    NaN    NaN         NaN        0       3    2010       WD   \n",
       "1443         0    NaN    NaN         NaN        0       9    2006      New   \n",
       "620          0    NaN   MnWw         NaN        0       4    2008       WD   \n",
       "67           0    NaN   GdWo         NaN        0       5    2010       WD   \n",
       "476          0    NaN    NaN         NaN        0      11    2008       WD   \n",
       "822          0    NaN    NaN         NaN        0       2    2007       WD   \n",
       "1143         0    NaN    NaN         NaN        0       5    2007       WD   \n",
       "959          0    NaN   GdWo         NaN        0       3    2007       WD   \n",
       "\n",
       "     SaleCondition  \n",
       "58          Normal  \n",
       "1398        Normal  \n",
       "46          Normal  \n",
       "1443       Partial  \n",
       "620         Normal  \n",
       "67          Normal  \n",
       "476         Normal  \n",
       "822         Normal  \n",
       "1143        Normal  \n",
       "959         Normal  "
      ]
     },
     "execution_count": 3,
     "metadata": {},
     "output_type": "execute_result"
    }
   ],
   "source": [
    "# View a Sample\n",
    "df_train.sample(10)\n",
    "df_test.sample(10)"
   ]
  },
  {
   "cell_type": "code",
   "execution_count": 4,
   "metadata": {},
   "outputs": [
    {
     "data": {
      "text/plain": [
       "(1459, 80)"
      ]
     },
     "execution_count": 4,
     "metadata": {},
     "output_type": "execute_result"
    }
   ],
   "source": [
    "df_train.shape\n",
    "df_test.shape"
   ]
  },
  {
   "cell_type": "code",
   "execution_count": 5,
   "metadata": {},
   "outputs": [
    {
     "data": {
      "text/plain": [
       "Index(['Id', 'MSSubClass', 'MSZoning', 'LotFrontage', 'LotArea', 'Street',\n",
       "       'Alley', 'LotShape', 'LandContour', 'Utilities', 'LotConfig',\n",
       "       'LandSlope', 'Neighborhood', 'Condition1', 'Condition2', 'BldgType',\n",
       "       'HouseStyle', 'OverallQual', 'OverallCond', 'YearBuilt', 'YearRemodAdd',\n",
       "       'RoofStyle', 'RoofMatl', 'Exterior1st', 'Exterior2nd', 'MasVnrType',\n",
       "       'MasVnrArea', 'ExterQual', 'ExterCond', 'Foundation', 'BsmtQual',\n",
       "       'BsmtCond', 'BsmtExposure', 'BsmtFinType1', 'BsmtFinSF1',\n",
       "       'BsmtFinType2', 'BsmtFinSF2', 'BsmtUnfSF', 'TotalBsmtSF', 'Heating',\n",
       "       'HeatingQC', 'CentralAir', 'Electrical', '1stFlrSF', '2ndFlrSF',\n",
       "       'LowQualFinSF', 'GrLivArea', 'BsmtFullBath', 'BsmtHalfBath', 'FullBath',\n",
       "       'HalfBath', 'BedroomAbvGr', 'KitchenAbvGr', 'KitchenQual',\n",
       "       'TotRmsAbvGrd', 'Functional', 'Fireplaces', 'FireplaceQu', 'GarageType',\n",
       "       'GarageYrBlt', 'GarageFinish', 'GarageCars', 'GarageArea', 'GarageQual',\n",
       "       'GarageCond', 'PavedDrive', 'WoodDeckSF', 'OpenPorchSF',\n",
       "       'EnclosedPorch', '3SsnPorch', 'ScreenPorch', 'PoolArea', 'PoolQC',\n",
       "       'Fence', 'MiscFeature', 'MiscVal', 'MoSold', 'YrSold', 'SaleType',\n",
       "       'SaleCondition', 'SalePrice'],\n",
       "      dtype='object')"
      ]
     },
     "execution_count": 5,
     "metadata": {},
     "output_type": "execute_result"
    }
   ],
   "source": [
    "df_train.columns"
   ]
  },
  {
   "cell_type": "code",
   "execution_count": 6,
   "metadata": {},
   "outputs": [
    {
     "name": "stdout",
     "output_type": "stream",
     "text": [
      "Duplicatedt train values: 0\n",
      "Duplicated test values: 0\n"
     ]
    }
   ],
   "source": [
    "# Check for missing values\n",
    "print('Duplicatedt train values:', df_train.duplicated().sum())\n",
    "print('Duplicated test values:', df_test.duplicated().sum())"
   ]
  },
  {
   "cell_type": "markdown",
   "metadata": {},
   "source": [
    "### Merge Datasets for Processing"
   ]
  },
  {
   "cell_type": "code",
   "execution_count": 7,
   "metadata": {},
   "outputs": [],
   "source": [
    "# Drop ID Column\n",
    "df_train = df_train.drop(columns=['Id'])\n",
    "df_test = df_test.drop(columns=['Id'])"
   ]
  },
  {
   "cell_type": "code",
   "execution_count": 8,
   "metadata": {},
   "outputs": [],
   "source": [
    "# Create a set variable to differnetiate between train and test\n",
    "df_train['section'] = \"Train\"\n",
    "df_test['section'] = \"Test\""
   ]
  },
  {
   "cell_type": "code",
   "execution_count": 9,
   "metadata": {},
   "outputs": [],
   "source": [
    "# Create a Sale Price column for df_test and set to 0 as a placeholder\n",
    "df_test['SalePrice'] = 0"
   ]
  },
  {
   "cell_type": "code",
   "execution_count": 10,
   "metadata": {},
   "outputs": [],
   "source": [
    "# Stack the datasets\n",
    "df = pd.concat([df_train, df_test], ignore_index=True, axis = 0, sort = False)"
   ]
  },
  {
   "cell_type": "markdown",
   "metadata": {},
   "source": [
    "## Missing Values & Imputation"
   ]
  },
  {
   "cell_type": "code",
   "execution_count": 11,
   "metadata": {},
   "outputs": [
    {
     "data": {
      "text/plain": [
       "Text(0.5, 1.0, 'Missing Values by Feature')"
      ]
     },
     "execution_count": 11,
     "metadata": {},
     "output_type": "execute_result"
    },
    {
     "data": {
      "image/png": "[encoded data removed]",
      "text/plain": [
       "<Figure size 720x360 with 1 Axes>"
      ]
     },
     "metadata": {
      "needs_background": "light"
     },
     "output_type": "display_data"
    }
   ],
   "source": [
    "# Check for Columns with NA values\n",
    "missing = df.isnull().sum()\n",
    "\n",
    "# Vizualize missing value count\n",
    "missing = missing[missing > 0]\n",
    "missing.sort_values(inplace=True)\n",
    "missing.plot.bar(figsize = (10,5))\n",
    "plt.xlabel('Feature',fontsize=15)\n",
    "plt.ylabel('Missing Count',fontsize = 15)\n",
    "plt.title('Missing Values by Feature', fontsize=20)"
   ]
  },
  {
   "cell_type": "code",
   "execution_count": 12,
   "metadata": {},
   "outputs": [
    {
     "name": "stdout",
     "output_type": "stream",
     "text": [
      "TotalBsmtSF        1\n",
      "GarageArea         1\n",
      "GarageCars         1\n",
      "KitchenQual        1\n",
      "Electrical         1\n",
      "BsmtUnfSF          1\n",
      "BsmtFinSF2         1\n",
      "BsmtFinSF1         1\n",
      "SaleType           1\n",
      "Exterior1st        1\n",
      "Exterior2nd        1\n",
      "Functional         2\n",
      "Utilities          2\n",
      "BsmtHalfBath       2\n",
      "BsmtFullBath       2\n",
      "MSZoning           4\n",
      "MasVnrArea        23\n",
      "MasVnrType        24\n",
      "BsmtFinType1      79\n",
      "BsmtFinType2      80\n",
      "BsmtQual          81\n",
      "BsmtCond          82\n",
      "BsmtExposure      82\n",
      "GarageType       157\n",
      "GarageCond       159\n",
      "GarageQual       159\n",
      "GarageYrBlt      159\n",
      "GarageFinish     159\n",
      "LotFrontage      486\n",
      "FireplaceQu     1420\n",
      "Fence           2348\n",
      "Alley           2721\n",
      "MiscFeature     2814\n",
      "PoolQC          2909\n",
      "dtype: int64\n"
     ]
    }
   ],
   "source": [
    "# Check Number of missing numerically\n",
    "print(missing)"
   ]
  },
  {
   "cell_type": "markdown",
   "metadata": {},
   "source": [
    "### Impute using Mode"
   ]
  },
  {
   "cell_type": "code",
   "execution_count": 13,
   "metadata": {},
   "outputs": [],
   "source": [
    "temp = ['Exterior1st','Exterior2nd','KitchenQual','SaleType','Functional','Electrical','BsmtHalfBath','BsmtFullBath','MSZoning','Utilities']\n",
    "\n",
    "for col in temp:\n",
    "    df[col]=df[col].fillna(df[col].mode()[0])"
   ]
  },
  {
   "cell_type": "markdown",
   "metadata": {},
   "source": [
    "#### Impute Garage Features for observations that have a garage"
   ]
  },
  {
   "cell_type": "code",
   "execution_count": 14,
   "metadata": {},
   "outputs": [],
   "source": [
    "# Calcs\n",
    "fin_mode = df['GarageFinish'].mode()[0]\n",
    "qual_mode = df['GarageQual'].mode()[0]\n",
    "cond_mode = df['GarageCond'].mode()[0]\n",
    "\n",
    "# Impute where Garage Exists\n",
    "\n",
    "df['GarageCars']=df['GarageCars'].fillna(df['GarageCars'].mode()[0])\n",
    "\n",
    "df['GarageArea']=df['GarageArea'].fillna(df['GarageArea'].mean())\n",
    "\n",
    "df['GarageFinish']=np.where((df.GarageFinish.isna())&\\\n",
    "                          (df.GarageType.isna()==False),fin_mode,df['GarageFinish'])\n",
    "\n",
    "df['GarageQual']=np.where((df.GarageQual.isna())&\\\n",
    "                          (df.GarageType.isna()==False),qual_mode,df['GarageQual'])\n",
    "\n",
    "df['GarageCond']=np.where((df.GarageCond.isna())&\\\n",
    "                          (df.GarageType.isna()==False),cond_mode,df['GarageCond'])\n",
    "\n",
    "df['GarageYrBlt']=np.where((df.GarageYrBlt.isna())&\\\n",
    "                          (df.GarageType.isna()==False),df['YearBuilt'],df['GarageYrBlt'])"
   ]
  },
  {
   "cell_type": "markdown",
   "metadata": {},
   "source": [
    "#### Impute MasVnrType for observations that have MasVnr\n"
   ]
  },
  {
   "cell_type": "code",
   "execution_count": 15,
   "metadata": {},
   "outputs": [],
   "source": [
    "vnr_mode = df['MasVnrType'].mode()[0]\n",
    "\n",
    "df['MasVnrType']=np.where((df.MasVnrType.isna())&\\\n",
    "                          (df.MasVnrArea.isna()==False),vnr_mode,df['MasVnrType'])"
   ]
  },
  {
   "cell_type": "markdown",
   "metadata": {},
   "source": [
    "#### Impute Basement Variables for houses with a Bsmt"
   ]
  },
  {
   "cell_type": "code",
   "execution_count": 16,
   "metadata": {},
   "outputs": [],
   "source": [
    "qual_mode = df['BsmtQual'].mode()[0]\n",
    "\n",
    "df['BsmtQual'] = np.where((df.BsmtQual.isna())&\\\n",
    "                          (df.BsmtFinType1.isna()==False),qual_mode,df['BsmtQual'])"
   ]
  },
  {
   "cell_type": "code",
   "execution_count": 17,
   "metadata": {},
   "outputs": [],
   "source": [
    "cond_mode = df['BsmtCond'].mode()[0]\n",
    "\n",
    "df['BsmtCond'] = np.where((df.BsmtCond.isna())&\\\n",
    "                          (df.BsmtFinType1.isna()==False),cond_mode,df['BsmtCond'])"
   ]
  },
  {
   "cell_type": "code",
   "execution_count": 18,
   "metadata": {},
   "outputs": [],
   "source": [
    "#  Find mode of BsmtExposure\n",
    "bsmt_exposure_mode = df['BsmtExposure'].mode()[0]\n",
    "\n",
    "# Fill in for observation with basement\n",
    "df['BsmtExposure']=np.where((df.BsmtExposure.isna())&(df.BsmtQual.isna()==False),bsmt_exposure_mode,df['BsmtExposure'])"
   ]
  },
  {
   "cell_type": "code",
   "execution_count": 19,
   "metadata": {},
   "outputs": [],
   "source": [
    "#  Find mode of BsmtFinType2\n",
    "bsmt2_exposure_mode = df['BsmtFinType2'].mode()[0]\n",
    "\n",
    "# Fill in for observation with basement\n",
    "df['BsmtFinType2']=np.where((df.BsmtFinType2.isna())&(df.BsmtQual.isna()==False),bsmt2_exposure_mode,df['BsmtFinType2'])"
   ]
  },
  {
   "cell_type": "markdown",
   "metadata": {},
   "source": [
    "#### Impute Mode for LotFrontage by Neighborhood"
   ]
  },
  {
   "cell_type": "code",
   "execution_count": 20,
   "metadata": {},
   "outputs": [],
   "source": [
    "# Impute Lot Frontage based on mean of neighborhood\n",
    "df[\"LotFrontage\"] = df.groupby(\"Neighborhood\")[\"LotFrontage\"].transform(lambda x: x.fillna(x.median()))"
   ]
  },
  {
   "cell_type": "markdown",
   "metadata": {},
   "source": [
    "#### Impute PoolQC for houses with a Pool\n"
   ]
  },
  {
   "cell_type": "code",
   "execution_count": 21,
   "metadata": {},
   "outputs": [],
   "source": [
    "#Find mode of PoolQC\n",
    "pool_mode = df['PoolQC'].mode()[0]\n",
    "\n",
    "# Fill in for observation with basement\n",
    "df['PoolQC']=np.where((df.PoolQC.isna())&(df.PoolArea > 0),pool_mode,df['PoolQC'])"
   ]
  },
  {
   "cell_type": "markdown",
   "metadata": {},
   "source": [
    "### Impute none for variables in which NA means None "
   ]
  },
  {
   "cell_type": "code",
   "execution_count": 22,
   "metadata": {},
   "outputs": [],
   "source": [
    "# Create List of Columns to impute None for missing\n",
    "temp = ['PoolQC','BsmtQual','BsmtCond','BsmtExposure','BsmtFinType1','BsmtFinType2',\"MasVnrType\",'GarageType','GarageFinish','GarageQual','GarageCond','FireplaceQu','Fence','MiscFeature','Alley']\n",
    "\n",
    "# Impute None\n",
    "df[temp] = df[temp].fillna('None')"
   ]
  },
  {
   "cell_type": "markdown",
   "metadata": {},
   "source": [
    "### Impute 0 for MasVnrArea and GarageYrBlt"
   ]
  },
  {
   "cell_type": "code",
   "execution_count": 23,
   "metadata": {},
   "outputs": [],
   "source": [
    "# Create List of Columns to impute 0 for missing\n",
    "temp2 = ['MasVnrArea','GarageYrBlt','BsmtFinSF1','BsmtFinSF2','BsmtUnfSF','TotalBsmtSF']\n",
    "\n",
    "# Impute 0\n",
    "df[temp2] = df[temp2].fillna(0)"
   ]
  },
  {
   "cell_type": "markdown",
   "metadata": {},
   "source": [
    "### Get ride of Street"
   ]
  },
  {
   "cell_type": "code",
   "execution_count": 24,
   "metadata": {},
   "outputs": [],
   "source": [
    "# Drop Utilities and Street as values are mostly all the same\n",
    "df = df.drop(columns=['Street'])"
   ]
  },
  {
   "cell_type": "markdown",
   "metadata": {},
   "source": [
    "### Check Missingness"
   ]
  },
  {
   "cell_type": "code",
   "execution_count": 25,
   "metadata": {},
   "outputs": [
    {
     "name": "stdout",
     "output_type": "stream",
     "text": [
      "Missing Values: 0\n"
     ]
    }
   ],
   "source": [
    "missing = df.isnull().sum()\n",
    "missing = missing[missing > 0]\n",
    "print('Missing Values:',missing.sum())"
   ]
  },
  {
   "cell_type": "markdown",
   "metadata": {},
   "source": [
    "### Fix Garageyear 2207"
   ]
  },
  {
   "cell_type": "code",
   "execution_count": 26,
   "metadata": {},
   "outputs": [],
   "source": [
    "df.loc[2592, 'GarageYrBlt'] = 2007"
   ]
  },
  {
   "cell_type": "markdown",
   "metadata": {},
   "source": [
    "## Feature Engineering"
   ]
  },
  {
   "cell_type": "code",
   "execution_count": 27,
   "metadata": {},
   "outputs": [],
   "source": [
    "# Convert MSSubClass to String since it is really categorical\n",
    "df['MSSubClass'] = df['MSSubClass'].apply(str)"
   ]
  },
  {
   "cell_type": "markdown",
   "metadata": {},
   "source": [
    "### Numerical Data"
   ]
  },
  {
   "cell_type": "code",
   "execution_count": 28,
   "metadata": {},
   "outputs": [],
   "source": [
    "# Change Pool Area to Yes/No pool\n",
    "df['PoolArea'] = df['PoolArea'].apply(lambda x: 1 if x > 0 else x)\n",
    "\n",
    "# Rename Column\n",
    "df=df.rename(columns = {'PoolArea':'Pool'})"
   ]
  },
  {
   "cell_type": "code",
   "execution_count": 29,
   "metadata": {},
   "outputs": [],
   "source": [
    "# Create a total porch SF\n",
    "df['PorchSF'] = df['OpenPorchSF']+df['EnclosedPorch']+\\\n",
    "df['3SsnPorch']+df['ScreenPorch']"
   ]
  },
  {
   "cell_type": "code",
   "execution_count": 30,
   "metadata": {},
   "outputs": [],
   "source": [
    "# Turn PorchTypes to Binary\n",
    "temp = ['OpenPorchSF','EnclosedPorch','3SsnPorch','ScreenPorch']\n",
    "\n",
    "for col in temp:\n",
    "    df[col] = df[col].apply(lambda x: 1 if x > 0 else x)"
   ]
  },
  {
   "cell_type": "code",
   "execution_count": 31,
   "metadata": {},
   "outputs": [
    {
     "data": {
      "text/html": [
       "<div>\n",
       "<style scoped>\n",
       "    .dataframe tbody tr th:only-of-type {\n",
       "        vertical-align: middle;\n",
       "    }\n",
       "\n",
       "    .dataframe tbody tr th {\n",
       "        vertical-align: top;\n",
       "    }\n",
       "\n",
       "    .dataframe thead th {\n",
       "        text-align: right;\n",
       "    }\n",
       "</style>\n",
       "<table border=\"1\" class=\"dataframe\">\n",
       "  <thead>\n",
       "    <tr style=\"text-align: right;\">\n",
       "      <th></th>\n",
       "      <th>LotFrontage</th>\n",
       "      <th>MasVnrArea</th>\n",
       "      <th>BsmtFinSF1</th>\n",
       "      <th>BsmtFinSF2</th>\n",
       "      <th>BsmtUnfSF</th>\n",
       "      <th>TotalBsmtSF</th>\n",
       "      <th>BsmtFullBath</th>\n",
       "      <th>BsmtHalfBath</th>\n",
       "      <th>GarageYrBlt</th>\n",
       "      <th>GarageCars</th>\n",
       "      <th>GarageArea</th>\n",
       "    </tr>\n",
       "  </thead>\n",
       "  <tbody>\n",
       "    <tr>\n",
       "      <th>0</th>\n",
       "      <td>65.0</td>\n",
       "      <td>196.0</td>\n",
       "      <td>706.0</td>\n",
       "      <td>0.0</td>\n",
       "      <td>150.0</td>\n",
       "      <td>856.0</td>\n",
       "      <td>1.0</td>\n",
       "      <td>0.0</td>\n",
       "      <td>2003.0</td>\n",
       "      <td>2.0</td>\n",
       "      <td>548.0</td>\n",
       "    </tr>\n",
       "    <tr>\n",
       "      <th>1</th>\n",
       "      <td>80.0</td>\n",
       "      <td>0.0</td>\n",
       "      <td>978.0</td>\n",
       "      <td>0.0</td>\n",
       "      <td>284.0</td>\n",
       "      <td>1262.0</td>\n",
       "      <td>0.0</td>\n",
       "      <td>1.0</td>\n",
       "      <td>1976.0</td>\n",
       "      <td>2.0</td>\n",
       "      <td>460.0</td>\n",
       "    </tr>\n",
       "    <tr>\n",
       "      <th>2</th>\n",
       "      <td>68.0</td>\n",
       "      <td>162.0</td>\n",
       "      <td>486.0</td>\n",
       "      <td>0.0</td>\n",
       "      <td>434.0</td>\n",
       "      <td>920.0</td>\n",
       "      <td>1.0</td>\n",
       "      <td>0.0</td>\n",
       "      <td>2001.0</td>\n",
       "      <td>2.0</td>\n",
       "      <td>608.0</td>\n",
       "    </tr>\n",
       "    <tr>\n",
       "      <th>3</th>\n",
       "      <td>60.0</td>\n",
       "      <td>0.0</td>\n",
       "      <td>216.0</td>\n",
       "      <td>0.0</td>\n",
       "      <td>540.0</td>\n",
       "      <td>756.0</td>\n",
       "      <td>1.0</td>\n",
       "      <td>0.0</td>\n",
       "      <td>1998.0</td>\n",
       "      <td>3.0</td>\n",
       "      <td>642.0</td>\n",
       "    </tr>\n",
       "    <tr>\n",
       "      <th>4</th>\n",
       "      <td>84.0</td>\n",
       "      <td>350.0</td>\n",
       "      <td>655.0</td>\n",
       "      <td>0.0</td>\n",
       "      <td>490.0</td>\n",
       "      <td>1145.0</td>\n",
       "      <td>1.0</td>\n",
       "      <td>0.0</td>\n",
       "      <td>2000.0</td>\n",
       "      <td>3.0</td>\n",
       "      <td>836.0</td>\n",
       "    </tr>\n",
       "    <tr>\n",
       "      <th>...</th>\n",
       "      <td>...</td>\n",
       "      <td>...</td>\n",
       "      <td>...</td>\n",
       "      <td>...</td>\n",
       "      <td>...</td>\n",
       "      <td>...</td>\n",
       "      <td>...</td>\n",
       "      <td>...</td>\n",
       "      <td>...</td>\n",
       "      <td>...</td>\n",
       "      <td>...</td>\n",
       "    </tr>\n",
       "    <tr>\n",
       "      <th>2914</th>\n",
       "      <td>21.0</td>\n",
       "      <td>0.0</td>\n",
       "      <td>0.0</td>\n",
       "      <td>0.0</td>\n",
       "      <td>546.0</td>\n",
       "      <td>546.0</td>\n",
       "      <td>0.0</td>\n",
       "      <td>0.0</td>\n",
       "      <td>0.0</td>\n",
       "      <td>0.0</td>\n",
       "      <td>0.0</td>\n",
       "    </tr>\n",
       "    <tr>\n",
       "      <th>2915</th>\n",
       "      <td>21.0</td>\n",
       "      <td>0.0</td>\n",
       "      <td>252.0</td>\n",
       "      <td>0.0</td>\n",
       "      <td>294.0</td>\n",
       "      <td>546.0</td>\n",
       "      <td>0.0</td>\n",
       "      <td>0.0</td>\n",
       "      <td>1970.0</td>\n",
       "      <td>1.0</td>\n",
       "      <td>286.0</td>\n",
       "    </tr>\n",
       "    <tr>\n",
       "      <th>2916</th>\n",
       "      <td>160.0</td>\n",
       "      <td>0.0</td>\n",
       "      <td>1224.0</td>\n",
       "      <td>0.0</td>\n",
       "      <td>0.0</td>\n",
       "      <td>1224.0</td>\n",
       "      <td>1.0</td>\n",
       "      <td>0.0</td>\n",
       "      <td>1960.0</td>\n",
       "      <td>2.0</td>\n",
       "      <td>576.0</td>\n",
       "    </tr>\n",
       "    <tr>\n",
       "      <th>2917</th>\n",
       "      <td>62.0</td>\n",
       "      <td>0.0</td>\n",
       "      <td>337.0</td>\n",
       "      <td>0.0</td>\n",
       "      <td>575.0</td>\n",
       "      <td>912.0</td>\n",
       "      <td>0.0</td>\n",
       "      <td>1.0</td>\n",
       "      <td>0.0</td>\n",
       "      <td>0.0</td>\n",
       "      <td>0.0</td>\n",
       "    </tr>\n",
       "    <tr>\n",
       "      <th>2918</th>\n",
       "      <td>74.0</td>\n",
       "      <td>94.0</td>\n",
       "      <td>758.0</td>\n",
       "      <td>0.0</td>\n",
       "      <td>238.0</td>\n",
       "      <td>996.0</td>\n",
       "      <td>0.0</td>\n",
       "      <td>0.0</td>\n",
       "      <td>1993.0</td>\n",
       "      <td>3.0</td>\n",
       "      <td>650.0</td>\n",
       "    </tr>\n",
       "  </tbody>\n",
       "</table>\n",
       "<p>2919 rows × 11 columns</p>\n",
       "</div>"
      ],
      "text/plain": [
       "      LotFrontage  MasVnrArea  BsmtFinSF1  BsmtFinSF2  BsmtUnfSF  TotalBsmtSF  \\\n",
       "0            65.0       196.0       706.0         0.0      150.0        856.0   \n",
       "1            80.0         0.0       978.0         0.0      284.0       1262.0   \n",
       "2            68.0       162.0       486.0         0.0      434.0        920.0   \n",
       "3            60.0         0.0       216.0         0.0      540.0        756.0   \n",
       "4            84.0       350.0       655.0         0.0      490.0       1145.0   \n",
       "...           ...         ...         ...         ...        ...          ...   \n",
       "2914         21.0         0.0         0.0         0.0      546.0        546.0   \n",
       "2915         21.0         0.0       252.0         0.0      294.0        546.0   \n",
       "2916        160.0         0.0      1224.0         0.0        0.0       1224.0   \n",
       "2917         62.0         0.0       337.0         0.0      575.0        912.0   \n",
       "2918         74.0        94.0       758.0         0.0      238.0        996.0   \n",
       "\n",
       "      BsmtFullBath  BsmtHalfBath  GarageYrBlt  GarageCars  GarageArea  \n",
       "0              1.0           0.0       2003.0         2.0       548.0  \n",
       "1              0.0           1.0       1976.0         2.0       460.0  \n",
       "2              1.0           0.0       2001.0         2.0       608.0  \n",
       "3              1.0           0.0       1998.0         3.0       642.0  \n",
       "4              1.0           0.0       2000.0         3.0       836.0  \n",
       "...            ...           ...          ...         ...         ...  \n",
       "2914           0.0           0.0          0.0         0.0         0.0  \n",
       "2915           0.0           0.0       1970.0         1.0       286.0  \n",
       "2916           1.0           0.0       1960.0         2.0       576.0  \n",
       "2917           0.0           1.0          0.0         0.0         0.0  \n",
       "2918           0.0           0.0       1993.0         3.0       650.0  \n",
       "\n",
       "[2919 rows x 11 columns]"
      ]
     },
     "execution_count": 31,
     "metadata": {},
     "output_type": "execute_result"
    }
   ],
   "source": [
    "num_cols = df.columns[(df.dtypes == float) | (df.dtypes == int)].tolist()\n",
    "num_cols\n",
    "\n",
    "num = df[num_cols].copy()\n",
    "num"
   ]
  },
  {
   "cell_type": "code",
   "execution_count": 32,
   "metadata": {},
   "outputs": [
    {
     "name": "stderr",
     "output_type": "stream",
     "text": [
      "C:\\Users\\Sajawal_Randawa\\AppData\\Local\\Temp\\ipykernel_1060\\1192427398.py:9: DeprecationWarning: `np.bool` is a deprecated alias for the builtin `bool`. To silence this warning, use `bool` by itself. Doing this will not modify any behavior and is safe. If you specifically wanted the numpy scalar type, use `np.bool_` here.\n",
      "Deprecated in NumPy 1.20; for more details and guidance: https://numpy.org/devdocs/release/1.20.0-notes.html#deprecations\n",
      "  mask = np.zeros_like(corr, dtype=np.bool)\n"
     ]
    },
    {
     "data": {
      "text/plain": [
       "<AxesSubplot:>"
      ]
     },
     "execution_count": 32,
     "metadata": {},
     "output_type": "execute_result"
    },
    {
     "data": {
      "image/png": "[encoded data removed]",
      "text/plain": [
       "<Figure size 792x648 with 2 Axes>"
      ]
     },
     "metadata": {},
     "output_type": "display_data"
    }
   ],
   "source": [
    "# Correlation Matrix - Numerically\n",
    "corr = num.corr()\n",
    "corr\n",
    "\n",
    "# Correlation Matrix - Graphically\n",
    "sns.set(style=\"white\")\n",
    "\n",
    "# Generate a mask for the upper triangle\n",
    "mask = np.zeros_like(corr, dtype=np.bool)\n",
    "mask[np.triu_indices_from(mask)] = True\n",
    "\n",
    "# Set up the matplotlib figure\n",
    "f, ax = plt.subplots(figsize=(11, 9))\n",
    "\n",
    "# Generate a custom diverging colormap\n",
    "cmap = sns.diverging_palette(20,220, as_cmap=True)\n",
    "\n",
    "# Draw the heatmap with the mask and correct aspect ratio\n",
    "sns.heatmap(corr, mask=mask, cmap=cmap, center=0,\n",
    "            square=True, linewidths=.5, cbar_kws={\"shrink\": .5})"
   ]
  },
  {
   "cell_type": "markdown",
   "metadata": {},
   "source": [
    "### Aditional Features"
   ]
  },
  {
   "cell_type": "code",
   "execution_count": 33,
   "metadata": {},
   "outputs": [],
   "source": [
    "# Create a total bath column\n",
    "df['TotalBath'] = df['BsmtFullBath']+(0.5*df['BsmtHalfBath'])+\\\n",
    "df['FullBath']+(0.5*df['HalfBath'])"
   ]
  },
  {
   "cell_type": "code",
   "execution_count": 34,
   "metadata": {},
   "outputs": [],
   "source": [
    "# Create a total Square Feet Column\n",
    "df['TotalSF'] = df['GrLivArea']+df['TotalBsmtSF']"
   ]
  },
  {
   "cell_type": "code",
   "execution_count": 35,
   "metadata": {},
   "outputs": [],
   "source": [
    "df['MultiFloor'] = df['2ndFlrSF'].apply(lambda x: 1 if x > 0 else 0)"
   ]
  },
  {
   "cell_type": "markdown",
   "metadata": {},
   "source": [
    "### Ordinal Encoding"
   ]
  },
  {
   "cell_type": "code",
   "execution_count": 36,
   "metadata": {},
   "outputs": [],
   "source": [
    "ordinal = df[['FireplaceQu', 'BsmtQual', 'BsmtCond', 'GarageQual', 'GarageCond','ExterQual', 'ExterCond','HeatingQC',\\\n",
    "           'PoolQC', 'KitchenQual', 'BsmtFinType1','BsmtFinType2', 'GarageFinish', 'Functional',\\\n",
    "           'Fence','LandSlope','BsmtExposure','LotShape', 'PavedDrive','CentralAir']].copy()"
   ]
  },
  {
   "cell_type": "code",
   "execution_count": 37,
   "metadata": {},
   "outputs": [],
   "source": [
    "# Create a dictionary of all ordinal values\n",
    "temp = {}\n",
    "\n",
    "for col in ordinal:\n",
    "    temp[col] = ordinal[col].unique().tolist()"
   ]
  },
  {
   "cell_type": "code",
   "execution_count": 38,
   "metadata": {},
   "outputs": [
    {
     "data": {
      "text/plain": [
       "{'FireplaceQu': ['None', 'TA', 'Gd', 'Fa', 'Ex', 'Po'],\n",
       " 'BsmtQual': ['Gd', 'TA', 'Ex', 'None', 'Fa'],\n",
       " 'BsmtCond': ['TA', 'Gd', 'None', 'Fa', 'Po'],\n",
       " 'GarageQual': ['TA', 'Fa', 'Gd', 'None', 'Ex', 'Po'],\n",
       " 'GarageCond': ['TA', 'Fa', 'None', 'Gd', 'Po', 'Ex'],\n",
       " 'ExterQual': ['Gd', 'TA', 'Ex', 'Fa'],\n",
       " 'ExterCond': ['TA', 'Gd', 'Fa', 'Po', 'Ex'],\n",
       " 'HeatingQC': ['Ex', 'Gd', 'TA', 'Fa', 'Po'],\n",
       " 'PoolQC': ['None', 'Ex', 'Fa', 'Gd'],\n",
       " 'KitchenQual': ['Gd', 'TA', 'Ex', 'Fa'],\n",
       " 'BsmtFinType1': ['GLQ', 'ALQ', 'Unf', 'Rec', 'BLQ', 'None', 'LwQ'],\n",
       " 'BsmtFinType2': ['Unf', 'BLQ', 'None', 'ALQ', 'Rec', 'LwQ', 'GLQ'],\n",
       " 'GarageFinish': ['RFn', 'Unf', 'Fin', 'None'],\n",
       " 'Functional': ['Typ', 'Min1', 'Maj1', 'Min2', 'Mod', 'Maj2', 'Sev'],\n",
       " 'Fence': ['None', 'MnPrv', 'GdWo', 'GdPrv', 'MnWw'],\n",
       " 'LandSlope': ['Gtl', 'Mod', 'Sev'],\n",
       " 'BsmtExposure': ['No', 'Gd', 'Mn', 'Av', 'None'],\n",
       " 'LotShape': ['Reg', 'IR1', 'IR2', 'IR3'],\n",
       " 'PavedDrive': ['Y', 'N', 'P'],\n",
       " 'CentralAir': ['Y', 'N']}"
      ]
     },
     "execution_count": 38,
     "metadata": {},
     "output_type": "execute_result"
    }
   ],
   "source": [
    "# Take a look at Values\n",
    "temp"
   ]
  },
  {
   "cell_type": "code",
   "execution_count": 39,
   "metadata": {},
   "outputs": [],
   "source": [
    "# Create dict based on dict\n",
    "temp_dict = {'None': 0, 'Po': 1, 'Fa': 2, 'TA': 3, 'Gd': 4, 'Ex': 5,'Mn': 2, 'Av': 3,'No': 1,\\\n",
    "             'Unf': 1, 'LwQ': 2, 'Rec': 3, 'BLQ': 4, 'ALQ': 5, 'GLQ': 6,'RFn': 4, 'Fin': 6,\\\n",
    "             'Sal': 0, 'Sev': 1, 'Maj2': 2, 'Maj1': 3, 'Mod': 4, 'Min2': 5, 'Min1': 6, 'Typ': 7,\\\n",
    "             'MnWw': 1, 'GdWo': 2, 'MnPrv': 3, 'GdPrv': 4,'Sev': 0, 'Mod': 1, 'Gtl': 2,'Y':1,'N':0,\\\n",
    "             'Reg':3, 'IR1':2, 'IR2':1, 'IR3':0}\n",
    "\n",
    "# Convert Paved Drive on its own\n",
    "ordinal['PavedDrive'] = ordinal['PavedDrive'].map({'Y': 2, 'P': 1, 'N': 0}).astype(int)\n",
    "\n",
    "# Encode the rest of the columns\n",
    "for col in ordinal.columns.drop(\"PavedDrive\"):\n",
    "    ordinal[col] = ordinal[col].map(temp_dict).astype(int)\n",
    "    "
   ]
  },
  {
   "cell_type": "code",
   "execution_count": 40,
   "metadata": {},
   "outputs": [],
   "source": [
    "# Replace columns in the train dataset\n",
    "for col in ordinal.columns:\n",
    "    df[col]=ordinal[col]"
   ]
  },
  {
   "cell_type": "code",
   "execution_count": 41,
   "metadata": {},
   "outputs": [
    {
     "data": {
      "text/plain": [
       "Index(['MSSubClass', 'MSZoning', 'Alley', 'LandContour', 'Utilities',\n",
       "       'LotConfig', 'Neighborhood', 'Condition1', 'Condition2', 'BldgType',\n",
       "       'HouseStyle', 'RoofStyle', 'RoofMatl', 'Exterior1st', 'Exterior2nd',\n",
       "       'MasVnrType', 'Foundation', 'Heating', 'Electrical', 'GarageType',\n",
       "       'MiscFeature', 'SaleType', 'SaleCondition', 'section'],\n",
       "      dtype='object')"
      ]
     },
     "execution_count": 41,
     "metadata": {},
     "output_type": "execute_result"
    }
   ],
   "source": [
    "# Checkout remaining Categorical Columns\n",
    "df.columns[df.dtypes == object]"
   ]
  },
  {
   "cell_type": "markdown",
   "metadata": {},
   "source": [
    "### Dummify and Split Data for Modeling"
   ]
  },
  {
   "cell_type": "code",
   "execution_count": 42,
   "metadata": {},
   "outputs": [],
   "source": [
    "# Code Breakdown to ordinal so that it is not dummified\n",
    "df['section'] = df['section'].map({'Test': 0, 'Train': 1}).astype(int)"
   ]
  },
  {
   "cell_type": "code",
   "execution_count": 43,
   "metadata": {},
   "outputs": [],
   "source": [
    "# Dummify\n",
    "df = pd.get_dummies(df,drop_first=True)"
   ]
  },
  {
   "cell_type": "markdown",
   "metadata": {},
   "source": [
    "### Transformations"
   ]
  },
  {
   "cell_type": "code",
   "execution_count": 44,
   "metadata": {},
   "outputs": [],
   "source": [
    "#skew(num)"
   ]
  },
  {
   "cell_type": "code",
   "execution_count": 45,
   "metadata": {},
   "outputs": [],
   "source": [
    "#skewed_feats = df[num_cols].apply(lambda x: skew(x.dropna())).sort_values(ascending=False)\n",
    "#skewness = pd.DataFrame({'Skew' :skewed_feats})\n",
    "#skewness.head(10)"
   ]
  },
  {
   "cell_type": "code",
   "execution_count": 46,
   "metadata": {},
   "outputs": [],
   "source": [
    "#skewness = skewness[abs(skewness.Skew)>0.75]\n",
    "\n",
    "#from scipy.special import boxcox1p\n",
    "#skewed_features = skewness.index\n",
    "#lam = 0.15\n",
    "#for feat in skewed_features:\n",
    "    #df[feat] = boxcox1p(df[feat], lam)"
   ]
  },
  {
   "cell_type": "code",
   "execution_count": 47,
   "metadata": {},
   "outputs": [],
   "source": [
    "# Split Data into Original Groups\n",
    "train = df[df['section'] == 1].drop(columns=['section'])\n",
    "test = df[df['section'] == 0].drop(columns=['section'])"
   ]
  },
  {
   "cell_type": "markdown",
   "metadata": {},
   "source": [
    "### Drop Outliers"
   ]
  },
  {
   "cell_type": "code",
   "execution_count": 48,
   "metadata": {},
   "outputs": [],
   "source": [
    "train = train[train['GrLivArea'] < 4500]"
   ]
  },
  {
   "cell_type": "code",
   "execution_count": 49,
   "metadata": {},
   "outputs": [],
   "source": [
    "# Remove Response Variable from X_tr\n",
    "X_tr = train.drop(columns=['SalePrice'])\n",
    "#X_tr.to_csv(\"X_tr.csv\",index = False)\n",
    "\n",
    "# Set Response Variable y_tr\n",
    "y_tr = train['SalePrice']\n",
    "#y_tr.to_csv(\"y_tr.csv\",index = False)\n",
    "\n",
    "# Remove Response Variable from X_tr\n",
    "X_te = test.drop(columns=['SalePrice'])\n",
    "#X_te.to_csv(\"X_te.csv\",index = False)"
   ]
  },
  {
   "cell_type": "markdown",
   "metadata": {},
   "source": [
    "### Ridge Regression"
   ]
  },
  {
   "cell_type": "code",
   "execution_count": 50,
   "metadata": {},
   "outputs": [],
   "source": [
    "from sklearn.linear_model import Ridge, Lasso, ElasticNet, LinearRegression\n",
    "ridge = Ridge()\n",
    "lasso = Lasso()\n",
    "net   = ElasticNet()"
   ]
  },
  {
   "cell_type": "code",
   "execution_count": 51,
   "metadata": {},
   "outputs": [],
   "source": [
    "from sklearn.preprocessing import RobustScaler\n",
    "transformer = RobustScaler().fit(X_tr)\n",
    "x_new = transformer.transform(X_tr)"
   ]
  },
  {
   "cell_type": "code",
   "execution_count": 52,
   "metadata": {},
   "outputs": [
    {
     "ename": "TypeError",
     "evalue": "__init__() got an unexpected keyword argument 'iid'",
     "output_type": "error",
     "traceback": [
      "\u001b[1;31m---------------------------------------------------------------------------\u001b[0m",
      "\u001b[1;31mTypeError\u001b[0m                                 Traceback (most recent call last)",
      "Input \u001b[1;32mIn [52]\u001b[0m, in \u001b[0;36m<cell line: 4>\u001b[1;34m()\u001b[0m\n\u001b[0;32m      1\u001b[0m \u001b[38;5;28;01mfrom\u001b[39;00m \u001b[38;5;21;01msklearn\u001b[39;00m\u001b[38;5;21;01m.\u001b[39;00m\u001b[38;5;21;01mmodel_selection\u001b[39;00m \u001b[38;5;28;01mimport\u001b[39;00m GridSearchCV\n\u001b[0;32m      3\u001b[0m alphas \u001b[38;5;241m=\u001b[39m np\u001b[38;5;241m.\u001b[39mlinspace(\u001b[38;5;241m1e-3\u001b[39m,\u001b[38;5;241m200\u001b[39m,\u001b[38;5;241m20\u001b[39m)\n\u001b[1;32m----> 4\u001b[0m gs \u001b[38;5;241m=\u001b[39m \u001b[43mGridSearchCV\u001b[49m\u001b[43m(\u001b[49m\u001b[43mridge\u001b[49m\u001b[43m,\u001b[49m\u001b[43m \u001b[49m\u001b[43m{\u001b[49m\u001b[38;5;124;43m\"\u001b[39;49m\u001b[38;5;124;43malpha\u001b[39;49m\u001b[38;5;124;43m\"\u001b[39;49m\u001b[43m:\u001b[49m\u001b[43malphas\u001b[49m\u001b[43m}\u001b[49m\u001b[43m,\u001b[49m\u001b[43mcv\u001b[49m\u001b[38;5;241;43m=\u001b[39;49m\u001b[38;5;241;43m5\u001b[39;49m\u001b[43m,\u001b[49m\u001b[43miid\u001b[49m\u001b[43m \u001b[49m\u001b[38;5;241;43m=\u001b[39;49m\u001b[43m \u001b[49m\u001b[38;5;28;43;01mTrue\u001b[39;49;00m\u001b[43m,\u001b[49m\u001b[43mscoring\u001b[49m\u001b[38;5;241;43m=\u001b[39;49m\u001b[38;5;124;43m\"\u001b[39;49m\u001b[38;5;124;43mneg_mean_squared_error\u001b[39;49m\u001b[38;5;124;43m\"\u001b[39;49m\u001b[43m)\u001b[49m\n\u001b[0;32m      5\u001b[0m gs\u001b[38;5;241m.\u001b[39mfit(X_tr, np\u001b[38;5;241m.\u001b[39mlog(y_tr))\n",
      "\u001b[1;31mTypeError\u001b[0m: __init__() got an unexpected keyword argument 'iid'"
     ]
    }
   ],
   "source": [
    "from sklearn.model_selection import GridSearchCV\n",
    "\n",
    "alphas = np.linspace(1e-3,200,20)\n",
    "gs = GridSearchCV(ridge, {\"alpha\":alphas},cv=5,iid = True,scoring=\"neg_mean_squared_error\")\n",
    "gs.fit(X_tr, np.log(y_tr))"
   ]
  },
  {
   "cell_type": "code",
   "execution_count": null,
   "metadata": {},
   "outputs": [],
   "source": [
    "gs.best_params_"
   ]
  },
  {
   "cell_type": "markdown",
   "metadata": {},
   "source": [
    "### Lets run cross valdiation to calculate our test error"
   ]
  },
  {
   "cell_type": "code",
   "execution_count": 55,
   "metadata": {},
   "outputs": [
    {
     "data": {
      "text/plain": [
       "dict_keys(['explained_variance', 'r2', 'max_error', 'neg_median_absolute_error', 'neg_mean_absolute_error', 'neg_mean_absolute_percentage_error', 'neg_mean_squared_error', 'neg_mean_squared_log_error', 'neg_root_mean_squared_error', 'neg_mean_poisson_deviance', 'neg_mean_gamma_deviance', 'accuracy', 'top_k_accuracy', 'roc_auc', 'roc_auc_ovr', 'roc_auc_ovo', 'roc_auc_ovr_weighted', 'roc_auc_ovo_weighted', 'balanced_accuracy', 'average_precision', 'neg_log_loss', 'neg_brier_score', 'adjusted_rand_score', 'rand_score', 'homogeneity_score', 'completeness_score', 'v_measure_score', 'mutual_info_score', 'adjusted_mutual_info_score', 'normalized_mutual_info_score', 'fowlkes_mallows_score', 'precision', 'precision_macro', 'precision_micro', 'precision_samples', 'precision_weighted', 'recall', 'recall_macro', 'recall_micro', 'recall_samples', 'recall_weighted', 'f1', 'f1_macro', 'f1_micro', 'f1_samples', 'f1_weighted', 'jaccard', 'jaccard_macro', 'jaccard_micro', 'jaccard_samples', 'jaccard_weighted'])"
      ]
     },
     "execution_count": 55,
     "metadata": {},
     "output_type": "execute_result"
    }
   ],
   "source": [
    "import sklearn.model_selection as ms\n",
    "import sklearn\n",
    "sklearn.metrics.SCORERS.keys()"
   ]
  },
  {
   "cell_type": "code",
   "execution_count": 56,
   "metadata": {},
   "outputs": [
    {
     "name": "stderr",
     "output_type": "stream",
     "text": [
      "C:\\Python\\lib\\site-packages\\sklearn\\linear_model\\_base.py:148: FutureWarning: 'normalize' was deprecated in version 1.0 and will be removed in 1.2. Please leave the normalize parameter to its default value to silence this warning. The default behavior of this estimator is to not do any normalization. If normalization is needed please use sklearn.preprocessing.StandardScaler instead.\n",
      "  warnings.warn(\n",
      "C:\\Python\\lib\\site-packages\\sklearn\\linear_model\\_base.py:148: FutureWarning: 'normalize' was deprecated in version 1.0 and will be removed in 1.2. Please leave the normalize parameter to its default value to silence this warning. The default behavior of this estimator is to not do any normalization. If normalization is needed please use sklearn.preprocessing.StandardScaler instead.\n",
      "  warnings.warn(\n",
      "C:\\Python\\lib\\site-packages\\sklearn\\linear_model\\_base.py:148: FutureWarning: 'normalize' was deprecated in version 1.0 and will be removed in 1.2. Please leave the normalize parameter to its default value to silence this warning. The default behavior of this estimator is to not do any normalization. If normalization is needed please use sklearn.preprocessing.StandardScaler instead.\n",
      "  warnings.warn(\n",
      "C:\\Python\\lib\\site-packages\\sklearn\\linear_model\\_base.py:148: FutureWarning: 'normalize' was deprecated in version 1.0 and will be removed in 1.2. Please leave the normalize parameter to its default value to silence this warning. The default behavior of this estimator is to not do any normalization. If normalization is needed please use sklearn.preprocessing.StandardScaler instead.\n",
      "  warnings.warn(\n",
      "C:\\Python\\lib\\site-packages\\sklearn\\linear_model\\_base.py:148: FutureWarning: 'normalize' was deprecated in version 1.0 and will be removed in 1.2. Please leave the normalize parameter to its default value to silence this warning. The default behavior of this estimator is to not do any normalization. If normalization is needed please use sklearn.preprocessing.StandardScaler instead.\n",
      "  warnings.warn(\n",
      "C:\\Users\\Sajawal_Randawa\\AppData\\Local\\Temp\\ipykernel_1060\\2349161311.py:2: RuntimeWarning: invalid value encountered in sqrt\n",
      "  rmse = np.sqrt(ms.cross_val_score(ridge,X=x_new, y=np.log(y_tr), scoring=\"neg_mean_squared_error\", cv = 5))\n"
     ]
    },
    {
     "data": {
      "text/plain": [
       "nan"
      ]
     },
     "execution_count": 56,
     "metadata": {},
     "output_type": "execute_result"
    }
   ],
   "source": [
    "ridge.set_params(alpha=21.053526315789476,normalize = False)\n",
    "rmse = np.sqrt(ms.cross_val_score(ridge,X=x_new, y=np.log(y_tr), scoring=\"neg_mean_squared_error\", cv = 5))\n",
    "rmse.mean()"
   ]
  },
  {
   "cell_type": "markdown",
   "metadata": {},
   "source": [
    "### Fit Model on Training Set"
   ]
  },
  {
   "cell_type": "code",
   "execution_count": 57,
   "metadata": {},
   "outputs": [
    {
     "name": "stderr",
     "output_type": "stream",
     "text": [
      "C:\\Python\\lib\\site-packages\\sklearn\\linear_model\\_base.py:148: FutureWarning: 'normalize' was deprecated in version 1.0 and will be removed in 1.2. Please leave the normalize parameter to its default value to silence this warning. The default behavior of this estimator is to not do any normalization. If normalization is needed please use sklearn.preprocessing.StandardScaler instead.\n",
      "  warnings.warn(\n"
     ]
    },
    {
     "data": {
      "text/plain": [
       "Ridge(alpha=21.053526315789476, normalize=False)"
      ]
     },
     "execution_count": 57,
     "metadata": {},
     "output_type": "execute_result"
    }
   ],
   "source": [
    "ridge.set_params(alpha=21.053526315789476)\n",
    "ridge.fit(x_new, np.log(y_tr))"
   ]
  },
  {
   "cell_type": "code",
   "execution_count": 58,
   "metadata": {},
   "outputs": [
    {
     "data": {
      "text/plain": [
       "array([ 9.61625899e-03,  7.87932322e-03, -3.24249012e-03,  9.50401671e-03,\n",
       "        9.86620467e-02,  4.12617193e-02,  6.59894541e-02,  2.50905683e-02,\n",
       "        6.16363624e-03,  1.35310734e-02, -1.48190731e-02,  9.44103717e-03,\n",
       "       -5.76013645e-03,  1.21586953e-02,  1.43409870e-02,  2.94624107e-02,\n",
       "       -5.90315323e-03,  3.30601563e-05, -1.43597958e-02,  2.50195943e-02,\n",
       "        2.41940638e-02,  5.13741842e-02,  3.79397521e-02,  3.79454745e-02,\n",
       "       -3.42251324e-05,  7.24727723e-02, -2.19195783e-03, -1.25479911e-02,\n",
       "        4.72985689e-03,  2.07436851e-02, -3.12528734e-03, -2.90052902e-02,\n",
       "        1.87442163e-02,  1.29973362e-02,  2.39945656e-02,  1.55130223e-02,\n",
       "        1.79963200e-02, -1.45361664e-03,  3.59233297e-03,  2.54036259e-02,\n",
       "        1.58159717e-02,  2.06070768e-02,  1.05182271e-02,  1.32380972e-02,\n",
       "        1.49775568e-02, -3.50219197e-03, -3.97276863e-03,  1.80916451e-03,\n",
       "        1.42259593e-02,  2.34972674e-03,  1.07584322e-02, -2.65900770e-03,\n",
       "       -7.55189839e-07, -2.72228324e-03, -7.38111717e-03,  1.88463623e-02,\n",
       "        1.32714921e-02,  5.99833047e-02, -8.49193607e-03,  0.00000000e+00,\n",
       "       -4.24963194e-02, -1.12815323e-02, -4.18896719e-03,  1.64579114e-02,\n",
       "       -3.43053408e-02,  2.14663719e-03,  1.06567892e-03,  1.29516057e-02,\n",
       "        8.72212211e-03,  3.28639074e-02,  1.33950267e-03,  6.44513731e-03,\n",
       "        2.96738051e-03, -2.54235865e-03,  4.28809348e-02,  2.30541683e-02,\n",
       "        5.41166131e-02,  7.29872317e-03, -4.34150720e-03,  9.05079248e-03,\n",
       "        1.29677642e-02, -9.89255289e-03, -5.13969769e-03, -6.79556812e-03,\n",
       "        3.00480206e-02, -1.38552487e-02, -8.05647497e-03, -7.19711869e-03,\n",
       "        1.67804789e-03, -6.01602245e-03,  3.25012281e-02,  2.27610346e-02,\n",
       "       -1.46299209e-02,  7.28353819e-02, -2.46651731e-02, -1.53429030e-02,\n",
       "       -4.45826402e-02, -4.45930370e-02, -1.85608833e-02, -1.11731576e-02,\n",
       "        7.32566046e-03, -2.19765131e-02,  4.04412423e-03,  3.37627408e-02,\n",
       "       -1.99684696e-02, -4.38592883e-03, -3.76398931e-03, -7.64981048e-03,\n",
       "        3.13836576e-02,  5.11202481e-02, -1.38766675e-02,  1.35519552e-02,\n",
       "        4.46194254e-04,  4.63171799e-02, -2.46983144e-03,  1.41756465e-02,\n",
       "       -2.26476782e-02,  1.36898727e-02, -3.20838486e-03,  4.41992087e-03,\n",
       "        5.42110116e-05,  1.09292684e-02,  4.54469889e-03, -3.61785786e-03,\n",
       "       -4.27458243e-03, -2.69300301e-03,  8.92200065e-04, -4.17337028e-04,\n",
       "       -2.54235865e-03, -3.00966143e-02, -9.56244088e-03,  6.97255190e-03,\n",
       "       -3.24876017e-03, -6.50348268e-03,  5.64616590e-03, -2.66817978e-03,\n",
       "       -4.18946385e-03,  1.15869323e-02, -4.49541588e-03, -1.54725353e-02,\n",
       "        1.21019283e-03,  7.72287501e-03,  2.81092673e-03, -1.20519387e-02,\n",
       "        1.16862913e-02,  2.95901988e-03, -1.94358657e-03, -9.10134103e-03,\n",
       "       -6.28858442e-03,  1.47401396e-02, -3.66161454e-04, -1.50280495e-02,\n",
       "        4.48497289e-02, -3.53648053e-03,  7.19127334e-04, -8.10024002e-03,\n",
       "        2.04888846e-04,  1.18895457e-02, -6.46142030e-03, -2.44040881e-03,\n",
       "        7.35604724e-03,  4.12768737e-03, -2.61858634e-02,  6.68288043e-03,\n",
       "        3.80055222e-03, -5.08349426e-03, -1.28990779e-02, -3.53648053e-03,\n",
       "        4.89281905e-03, -2.92116161e-03,  2.05917840e-03,  4.78369333e-03,\n",
       "       -1.97850793e-03,  1.93760554e-03,  6.09897458e-04,  2.57558611e-03,\n",
       "        2.45662078e-03,  1.82172174e-02, -3.16523581e-03, -2.89289415e-04,\n",
       "        7.29940341e-03,  2.51077803e-02, -1.80112787e-03,  3.08059697e-02,\n",
       "        1.58601277e-02,  4.91264238e-03, -1.25493228e-02,  3.39686897e-03,\n",
       "        1.59006800e-02, -2.16083338e-02, -4.04752133e-03,  1.05923638e-02,\n",
       "        1.68889090e-03,  3.67569313e-04,  6.33693511e-04, -8.56193168e-03,\n",
       "        1.10174200e-02, -8.99717885e-03,  1.41657696e-02, -1.31357895e-02,\n",
       "        1.28800824e-02,  1.06287884e-04,  9.76549872e-03,  3.17460533e-04,\n",
       "       -4.59477232e-04, -7.48499346e-03,  8.29215720e-03,  8.90777857e-03,\n",
       "        1.26119496e-02, -9.79201884e-03, -3.81499808e-04,  4.59623211e-02,\n",
       "        8.01596532e-03, -1.64391888e-02,  1.28585887e-02,  6.00690307e-03,\n",
       "       -1.84691475e-03,  5.95707013e-02,  3.87768688e-02])"
      ]
     },
     "execution_count": 58,
     "metadata": {},
     "output_type": "execute_result"
    }
   ],
   "source": [
    "ridge.coef_"
   ]
  },
  {
   "cell_type": "markdown",
   "metadata": {},
   "source": [
    "### Make a Prediction"
   ]
  },
  {
   "cell_type": "code",
   "execution_count": 59,
   "metadata": {},
   "outputs": [],
   "source": [
    "x_new1 = transformer.transform(X_te)\n",
    "predict_ridge = ridge.predict(x_new1)"
   ]
  },
  {
   "cell_type": "code",
   "execution_count": 60,
   "metadata": {},
   "outputs": [
    {
     "data": {
      "text/plain": [
       "array([11.64223996, 11.95567544, 12.08168448, ..., 12.05466901,\n",
       "       11.63765948, 12.31090875])"
      ]
     },
     "execution_count": 60,
     "metadata": {},
     "output_type": "execute_result"
    }
   ],
   "source": [
    "predict_ridge"
   ]
  },
  {
   "cell_type": "code",
   "execution_count": 61,
   "metadata": {},
   "outputs": [],
   "source": [
    "# pred('ridge_reg_3.csv',predict_ridge)"
   ]
  },
  {
   "cell_type": "markdown",
   "metadata": {},
   "source": [
    "### Lasso"
   ]
  },
  {
   "cell_type": "code",
   "execution_count": 63,
   "metadata": {},
   "outputs": [
    {
     "data": {
      "text/plain": [
       "GridSearchCV(cv=5, estimator=Lasso(),\n",
       "             param_grid={'alpha': array([1.00000000e-03, 1.05272632e+01, 2.10535263e+01, 3.15797895e+01,\n",
       "       4.21060526e+01, 5.26323158e+01, 6.31585789e+01, 7.36848421e+01,\n",
       "       8.42111053e+01, 9.47373684e+01, 1.05263632e+02, 1.15789895e+02,\n",
       "       1.26316158e+02, 1.36842421e+02, 1.47368684e+02, 1.57894947e+02,\n",
       "       1.68421211e+02, 1.78947474e+02, 1.89473737e+02, 2.00000000e+02])},\n",
       "             scoring='neg_mean_squared_error')"
      ]
     },
     "execution_count": 63,
     "metadata": {},
     "output_type": "execute_result"
    }
   ],
   "source": [
    "alphas = np.linspace(1e-3,200,20)\n",
    "gs = GridSearchCV(lasso, {\"alpha\":alphas},cv=5,scoring=\"neg_mean_squared_error\")\n",
    "gs.fit(x_new, np.log(y_tr))"
   ]
  },
  {
   "cell_type": "code",
   "execution_count": 64,
   "metadata": {},
   "outputs": [
    {
     "data": {
      "text/plain": [
       "{'alpha': 0.001}"
      ]
     },
     "execution_count": 64,
     "metadata": {},
     "output_type": "execute_result"
    }
   ],
   "source": [
    "gs.best_params_"
   ]
  },
  {
   "cell_type": "code",
   "execution_count": 65,
   "metadata": {},
   "outputs": [
    {
     "data": {
      "text/plain": [
       "0.114303468870482"
      ]
     },
     "execution_count": 65,
     "metadata": {},
     "output_type": "execute_result"
    }
   ],
   "source": [
    "lasso.set_params(alpha=0.001)\n",
    "rmse = np.sqrt(-ms.cross_val_score(lasso,X=x_new, y=np.log(y_tr), scoring=\"neg_mean_squared_error\", cv = 5))\n",
    "rmse.mean()"
   ]
  },
  {
   "cell_type": "code",
   "execution_count": 66,
   "metadata": {},
   "outputs": [
    {
     "data": {
      "text/plain": [
       "Lasso(alpha=0.001)"
      ]
     },
     "execution_count": 66,
     "metadata": {},
     "output_type": "execute_result"
    }
   ],
   "source": [
    "lasso.fit(x_new, np.log(y_tr))"
   ]
  },
  {
   "cell_type": "code",
   "execution_count": 67,
   "metadata": {},
   "outputs": [
    {
     "data": {
      "text/plain": [
       "array([ 1.03702088e-02,  7.66945445e-03, -3.84382281e-03,  0.00000000e+00,\n",
       "        1.16810612e-01,  4.11791932e-02,  7.69396599e-02,  2.14722259e-02,\n",
       "        4.95133628e-03,  1.18121457e-02, -6.22816680e-03,  2.44903833e-03,\n",
       "       -0.00000000e+00,  1.15397923e-02,  0.00000000e+00,  5.38399661e-02,\n",
       "       -3.76625884e-03,  5.24206303e-05, -0.00000000e+00,  0.00000000e+00,\n",
       "        2.37591048e-02,  4.28859561e-02,  6.69613933e-03,  0.00000000e+00,\n",
       "       -7.13437884e-05,  1.03290623e-01,  0.00000000e+00, -0.00000000e+00,\n",
       "       -0.00000000e+00,  9.52424476e-03, -0.00000000e+00, -2.19116277e-02,\n",
       "        1.96171269e-02,  3.47427019e-03,  2.25847315e-02,  1.50700926e-02,\n",
       "        1.64155642e-02,  2.54686888e-04,  1.83433881e-03,  2.57176826e-02,\n",
       "        1.44154124e-02,  1.19492036e-02,  7.89570419e-04,  7.36163662e-03,\n",
       "        1.35215084e-02, -0.00000000e+00, -0.00000000e+00,  0.00000000e+00,\n",
       "        5.14883560e-03,  0.00000000e+00,  0.00000000e+00, -2.63958977e-03,\n",
       "       -2.54463863e-06, -1.05580555e-03, -3.90143193e-03,  1.77123014e-02,\n",
       "        1.11846330e-02,  8.84083049e-02, -0.00000000e+00,  0.00000000e+00,\n",
       "       -5.09386123e-02, -0.00000000e+00, -0.00000000e+00,  1.04678784e-02,\n",
       "       -2.03180949e-02,  0.00000000e+00,  0.00000000e+00,  0.00000000e+00,\n",
       "       -0.00000000e+00,  1.87924123e-03, -0.00000000e+00,  0.00000000e+00,\n",
       "        0.00000000e+00, -0.00000000e+00,  4.28007489e-02,  0.00000000e+00,\n",
       "        5.74032517e-02, -0.00000000e+00, -0.00000000e+00,  0.00000000e+00,\n",
       "        0.00000000e+00, -0.00000000e+00, -0.00000000e+00, -0.00000000e+00,\n",
       "        2.60785132e-02, -0.00000000e+00, -0.00000000e+00, -0.00000000e+00,\n",
       "        0.00000000e+00, -0.00000000e+00,  3.89104720e-02,  0.00000000e+00,\n",
       "       -0.00000000e+00,  8.91607151e-02, -0.00000000e+00, -0.00000000e+00,\n",
       "       -7.58556919e-03, -7.77455492e-04, -0.00000000e+00,  0.00000000e+00,\n",
       "        0.00000000e+00, -0.00000000e+00,  0.00000000e+00,  2.57877783e-02,\n",
       "       -0.00000000e+00,  0.00000000e+00,  0.00000000e+00, -0.00000000e+00,\n",
       "        3.12359249e-02,  3.27285358e-02, -0.00000000e+00,  0.00000000e+00,\n",
       "        0.00000000e+00,  4.01610806e-02, -0.00000000e+00,  0.00000000e+00,\n",
       "       -0.00000000e+00,  0.00000000e+00, -0.00000000e+00,  0.00000000e+00,\n",
       "        0.00000000e+00,  0.00000000e+00,  0.00000000e+00, -0.00000000e+00,\n",
       "       -0.00000000e+00, -0.00000000e+00,  0.00000000e+00, -0.00000000e+00,\n",
       "       -0.00000000e+00, -2.95090066e-03, -0.00000000e+00,  0.00000000e+00,\n",
       "        0.00000000e+00, -0.00000000e+00, -0.00000000e+00, -0.00000000e+00,\n",
       "       -0.00000000e+00,  0.00000000e+00, -0.00000000e+00, -0.00000000e+00,\n",
       "        0.00000000e+00,  0.00000000e+00,  0.00000000e+00, -0.00000000e+00,\n",
       "        0.00000000e+00,  0.00000000e+00, -0.00000000e+00, -0.00000000e+00,\n",
       "       -0.00000000e+00,  0.00000000e+00, -0.00000000e+00, -0.00000000e+00,\n",
       "        3.57446979e-02, -0.00000000e+00, -0.00000000e+00, -5.43569155e-03,\n",
       "        0.00000000e+00,  8.92871245e-03, -0.00000000e+00, -0.00000000e+00,\n",
       "        0.00000000e+00,  0.00000000e+00, -7.12862059e-03,  0.00000000e+00,\n",
       "        0.00000000e+00, -0.00000000e+00, -0.00000000e+00, -0.00000000e+00,\n",
       "       -0.00000000e+00, -0.00000000e+00, -0.00000000e+00,  0.00000000e+00,\n",
       "       -0.00000000e+00, -0.00000000e+00,  0.00000000e+00,  0.00000000e+00,\n",
       "        0.00000000e+00,  0.00000000e+00, -0.00000000e+00, -4.80065679e-03,\n",
       "        0.00000000e+00,  1.13681297e-02, -0.00000000e+00,  3.08421906e-02,\n",
       "        0.00000000e+00,  0.00000000e+00, -0.00000000e+00, -0.00000000e+00,\n",
       "        0.00000000e+00, -0.00000000e+00, -0.00000000e+00,  0.00000000e+00,\n",
       "        0.00000000e+00, -0.00000000e+00, -0.00000000e+00, -0.00000000e+00,\n",
       "        0.00000000e+00, -0.00000000e+00,  0.00000000e+00, -0.00000000e+00,\n",
       "        0.00000000e+00, -0.00000000e+00,  0.00000000e+00, -0.00000000e+00,\n",
       "       -0.00000000e+00, -0.00000000e+00,  0.00000000e+00,  0.00000000e+00,\n",
       "        0.00000000e+00, -0.00000000e+00,  0.00000000e+00,  1.01923744e-01,\n",
       "        0.00000000e+00, -0.00000000e+00,  0.00000000e+00,  0.00000000e+00,\n",
       "       -0.00000000e+00,  5.31107069e-02,  0.00000000e+00])"
      ]
     },
     "execution_count": 67,
     "metadata": {},
     "output_type": "execute_result"
    }
   ],
   "source": [
    "lasso.coef_"
   ]
  },
  {
   "cell_type": "code",
   "execution_count": 68,
   "metadata": {},
   "outputs": [
    {
     "data": {
      "text/html": [
       "<div>\n",
       "<style scoped>\n",
       "    .dataframe tbody tr th:only-of-type {\n",
       "        vertical-align: middle;\n",
       "    }\n",
       "\n",
       "    .dataframe tbody tr th {\n",
       "        vertical-align: top;\n",
       "    }\n",
       "\n",
       "    .dataframe thead th {\n",
       "        text-align: right;\n",
       "    }\n",
       "</style>\n",
       "<table border=\"1\" class=\"dataframe\">\n",
       "  <thead>\n",
       "    <tr style=\"text-align: right;\">\n",
       "      <th></th>\n",
       "      <th>Feature</th>\n",
       "      <th>Coef</th>\n",
       "    </tr>\n",
       "  </thead>\n",
       "  <tbody>\n",
       "    <tr>\n",
       "      <th>4</th>\n",
       "      <td>OverallQual</td>\n",
       "      <td>0.116811</td>\n",
       "    </tr>\n",
       "    <tr>\n",
       "      <th>25</th>\n",
       "      <td>GrLivArea</td>\n",
       "      <td>0.103291</td>\n",
       "    </tr>\n",
       "    <tr>\n",
       "      <th>211</th>\n",
       "      <td>SaleType_New</td>\n",
       "      <td>0.101924</td>\n",
       "    </tr>\n",
       "    <tr>\n",
       "      <th>93</th>\n",
       "      <td>Neighborhood_Crawfor</td>\n",
       "      <td>0.089161</td>\n",
       "    </tr>\n",
       "    <tr>\n",
       "      <th>57</th>\n",
       "      <td>TotalSF</td>\n",
       "      <td>0.088408</td>\n",
       "    </tr>\n",
       "    <tr>\n",
       "      <th>...</th>\n",
       "      <td>...</td>\n",
       "      <td>...</td>\n",
       "    </tr>\n",
       "    <tr>\n",
       "      <th>162</th>\n",
       "      <td>Exterior1st_Wd Sdng</td>\n",
       "      <td>-0.007129</td>\n",
       "    </tr>\n",
       "    <tr>\n",
       "      <th>96</th>\n",
       "      <td>Neighborhood_IDOTRR</td>\n",
       "      <td>-0.007586</td>\n",
       "    </tr>\n",
       "    <tr>\n",
       "      <th>64</th>\n",
       "      <td>MSSubClass_30</td>\n",
       "      <td>-0.020318</td>\n",
       "    </tr>\n",
       "    <tr>\n",
       "      <th>31</th>\n",
       "      <td>KitchenAbvGr</td>\n",
       "      <td>-0.021912</td>\n",
       "    </tr>\n",
       "    <tr>\n",
       "      <th>60</th>\n",
       "      <td>MSSubClass_160</td>\n",
       "      <td>-0.050939</td>\n",
       "    </tr>\n",
       "  </tbody>\n",
       "</table>\n",
       "<p>68 rows × 2 columns</p>\n",
       "</div>"
      ],
      "text/plain": [
       "                  Feature      Coef\n",
       "4             OverallQual  0.116811\n",
       "25              GrLivArea  0.103291\n",
       "211          SaleType_New  0.101924\n",
       "93   Neighborhood_Crawfor  0.089161\n",
       "57                TotalSF  0.088408\n",
       "..                    ...       ...\n",
       "162   Exterior1st_Wd Sdng -0.007129\n",
       "96    Neighborhood_IDOTRR -0.007586\n",
       "64          MSSubClass_30 -0.020318\n",
       "31           KitchenAbvGr -0.021912\n",
       "60         MSSubClass_160 -0.050939\n",
       "\n",
       "[68 rows x 2 columns]"
      ]
     },
     "execution_count": 68,
     "metadata": {},
     "output_type": "execute_result"
    }
   ],
   "source": [
    "temp = pd.DataFrame({\n",
    "    \"Feature\": X_tr.columns,\n",
    "    \"Coef\": lasso.coef_\n",
    "})\n",
    "\n",
    "temp[temp.Coef != 0].sort_values(by = \"Coef\", ascending = False)"
   ]
  },
  {
   "cell_type": "code",
   "execution_count": 69,
   "metadata": {},
   "outputs": [],
   "source": [
    "predict_lasso = lasso.predict(x_new1)"
   ]
  },
  {
   "cell_type": "code",
   "execution_count": 70,
   "metadata": {},
   "outputs": [],
   "source": [
    "# predict('lasso_reg.csv',predict)"
   ]
  },
  {
   "cell_type": "markdown",
   "metadata": {},
   "source": [
    "### ElasticNet"
   ]
  },
  {
   "cell_type": "code",
   "execution_count": 71,
   "metadata": {},
   "outputs": [
    {
     "data": {
      "text/plain": [
       "GridSearchCV(cv=5, estimator=ElasticNet(),\n",
       "             param_grid={'alpha': array([ 0.01      ,  0.26615385,  0.52230769,  0.77846154,  1.03461538,\n",
       "        1.29076923,  1.54692308,  1.80307692,  2.05923077,  2.31538462,\n",
       "        2.57153846,  2.82769231,  3.08384615,  3.34      ,  3.59615385,\n",
       "        3.85230769,  4.10846154,  4.36461538,  4.62076923,  4.87692308,\n",
       "        5.13307692,  5.38923077,  5.64538462,  5.90153846,  6.15769231,\n",
       "        6.41384615,  6.67      ,  6.9...\n",
       "        8.97538462,  9.23153846,  9.48769231,  9.74384615, 10.        ]),\n",
       "                         'l1_ratio': array([0.01      , 0.04413793, 0.07827586, 0.11241379, 0.14655172,\n",
       "       0.18068966, 0.21482759, 0.24896552, 0.28310345, 0.31724138,\n",
       "       0.35137931, 0.38551724, 0.41965517, 0.4537931 , 0.48793103,\n",
       "       0.52206897, 0.5562069 , 0.59034483, 0.62448276, 0.65862069,\n",
       "       0.69275862, 0.72689655, 0.76103448, 0.79517241, 0.82931034,\n",
       "       0.86344828, 0.89758621, 0.93172414, 0.96586207, 1.        ])})"
      ]
     },
     "execution_count": 71,
     "metadata": {},
     "output_type": "execute_result"
    }
   ],
   "source": [
    "### ElasticNet\n",
    "alphaSize  = 40\n",
    "rhoSize    = 30\n",
    "alphaRange = np.linspace(1e-2, 10, alphaSize)\n",
    "rhoRange   = np.linspace(0.01, 1, rhoSize)\n",
    "\n",
    "parametersGrid = {\"alpha\": alphaRange,\n",
    "                  \"l1_ratio\": rhoRange}\n",
    "\n",
    "grid = GridSearchCV(net, parametersGrid, cv=5)\n",
    "grid.fit(x_new, np.log(y_tr))"
   ]
  },
  {
   "cell_type": "code",
   "execution_count": 72,
   "metadata": {},
   "outputs": [
    {
     "data": {
      "text/plain": [
       "{'alpha': 0.01, 'l1_ratio': 0.04413793103448276}"
      ]
     },
     "execution_count": 72,
     "metadata": {},
     "output_type": "execute_result"
    }
   ],
   "source": [
    "grid.best_params_"
   ]
  },
  {
   "cell_type": "code",
   "execution_count": 73,
   "metadata": {},
   "outputs": [
    {
     "data": {
      "text/plain": [
       "0.11376794893454438"
      ]
     },
     "execution_count": 73,
     "metadata": {},
     "output_type": "execute_result"
    }
   ],
   "source": [
    "net.set_params(alpha=0.01, l1_ratio=0.04413793103448276)\n",
    "rmse = np.sqrt(-ms.cross_val_score(net,X=x_new, y=np.log(y_tr), scoring=\"neg_mean_squared_error\", cv = 5))\n",
    "rmse.mean()"
   ]
  },
  {
   "cell_type": "code",
   "execution_count": 74,
   "metadata": {},
   "outputs": [
    {
     "data": {
      "text/plain": [
       "ElasticNet(alpha=0.01, l1_ratio=0.04413793103448276)"
      ]
     },
     "execution_count": 74,
     "metadata": {},
     "output_type": "execute_result"
    }
   ],
   "source": [
    "net.fit(x_new, np.log(y_tr))"
   ]
  },
  {
   "cell_type": "code",
   "execution_count": 75,
   "metadata": {},
   "outputs": [],
   "source": [
    "predict_net = net.predict(x_new1)"
   ]
  },
  {
   "cell_type": "code",
   "execution_count": 76,
   "metadata": {},
   "outputs": [],
   "source": [
    "# predict('net_reg.csv',predict)"
   ]
  },
  {
   "cell_type": "markdown",
   "metadata": {},
   "source": [
    "### Gradient Boosting"
   ]
  },
  {
   "cell_type": "code",
   "execution_count": 77,
   "metadata": {},
   "outputs": [],
   "source": [
    "from sklearn.ensemble import GradientBoostingClassifier, GradientBoostingRegressor"
   ]
  },
  {
   "cell_type": "code",
   "execution_count": 78,
   "metadata": {},
   "outputs": [],
   "source": [
    "gbm = GradientBoostingRegressor()"
   ]
  },
  {
   "cell_type": "code",
   "execution_count": 79,
   "metadata": {},
   "outputs": [
    {
     "data": {
      "text/plain": [
       "GradientBoostingRegressor()"
      ]
     },
     "execution_count": 79,
     "metadata": {},
     "output_type": "execute_result"
    }
   ],
   "source": [
    "gbm.fit(x_new, np.log(y_tr))"
   ]
  },
  {
   "cell_type": "code",
   "execution_count": 80,
   "metadata": {},
   "outputs": [
    {
     "data": {
      "text/plain": [
       "0.959692116135507"
      ]
     },
     "execution_count": 80,
     "metadata": {},
     "output_type": "execute_result"
    }
   ],
   "source": [
    "gbm.score(x_new, np.log(y_tr))"
   ]
  },
  {
   "cell_type": "code",
   "execution_count": 81,
   "metadata": {},
   "outputs": [],
   "source": [
    "predict_gbm = gbm.predict(x_new1)"
   ]
  },
  {
   "cell_type": "code",
   "execution_count": 82,
   "metadata": {},
   "outputs": [],
   "source": [
    "# predict('gbm_test.csv',predict)"
   ]
  },
  {
   "cell_type": "code",
   "execution_count": 83,
   "metadata": {},
   "outputs": [
    {
     "data": {
      "text/plain": [
       "array([4.67097321e-04, 1.39378003e-02, 1.28156793e-05, 0.00000000e+00,\n",
       "       3.66704745e-01, 1.56592185e-02, 1.16201056e-02, 1.53081093e-02,\n",
       "       9.11954587e-05, 1.37090159e-02, 9.44662150e-04, 4.93717413e-03,\n",
       "       0.00000000e+00, 2.19790022e-03, 2.07628269e-03, 5.28016686e-03,\n",
       "       0.00000000e+00, 6.94594231e-05, 1.44462954e-03, 1.02055864e-04,\n",
       "       1.45180747e-03, 1.40901863e-02, 6.79033359e-03, 2.35940027e-03,\n",
       "       1.10903092e-04, 1.18874650e-02, 9.73465987e-05, 0.00000000e+00,\n",
       "       7.05835876e-05, 0.00000000e+00, 2.02601647e-04, 0.00000000e+00,\n",
       "       1.93888804e-02, 8.11320215e-05, 1.99333376e-03, 2.84212806e-04,\n",
       "       1.55129376e-02, 4.89914021e-03, 1.38854871e-02, 1.53951042e-02,\n",
       "       4.92429802e-03, 0.00000000e+00, 5.47717481e-03, 1.25889656e-03,\n",
       "       1.09084178e-03, 2.34991343e-05, 3.20200573e-05, 0.00000000e+00,\n",
       "       5.40061979e-04, 0.00000000e+00, 3.04964398e-04, 0.00000000e+00,\n",
       "       0.00000000e+00, 6.20346602e-04, 1.16757548e-03, 2.83064036e-03,\n",
       "       5.16833441e-02, 3.41109837e-01, 0.00000000e+00, 0.00000000e+00,\n",
       "       0.00000000e+00, 0.00000000e+00, 0.00000000e+00, 0.00000000e+00,\n",
       "       9.57439195e-04, 0.00000000e+00, 0.00000000e+00, 4.33672442e-04,\n",
       "       0.00000000e+00, 5.28145980e-05, 5.92322198e-05, 4.02464894e-05,\n",
       "       0.00000000e+00, 0.00000000e+00, 1.82829755e-04, 4.26262770e-05,\n",
       "       5.81926131e-03, 3.02836354e-03, 1.11718387e-04, 9.88188966e-05,\n",
       "       8.49461261e-06, 0.00000000e+00, 0.00000000e+00, 0.00000000e+00,\n",
       "       4.62939266e-04, 5.35712687e-05, 0.00000000e+00, 1.49104112e-04,\n",
       "       0.00000000e+00, 0.00000000e+00, 3.32147703e-04, 3.51124891e-04,\n",
       "       0.00000000e+00, 3.25055419e-03, 2.93385377e-05, 0.00000000e+00,\n",
       "       6.19072236e-04, 0.00000000e+00, 0.00000000e+00, 0.00000000e+00,\n",
       "       0.00000000e+00, 5.91299951e-05, 0.00000000e+00, 0.00000000e+00,\n",
       "       2.75032765e-04, 0.00000000e+00, 0.00000000e+00, 0.00000000e+00,\n",
       "       0.00000000e+00, 2.99212143e-04, 0.00000000e+00, 0.00000000e+00,\n",
       "       0.00000000e+00, 3.48309632e-04, 2.24179390e-04, 0.00000000e+00,\n",
       "       2.39768463e-04, 4.39050694e-05, 0.00000000e+00, 0.00000000e+00,\n",
       "       0.00000000e+00, 0.00000000e+00, 0.00000000e+00, 0.00000000e+00,\n",
       "       0.00000000e+00, 0.00000000e+00, 0.00000000e+00, 0.00000000e+00,\n",
       "       0.00000000e+00, 0.00000000e+00, 0.00000000e+00, 0.00000000e+00,\n",
       "       0.00000000e+00, 1.41623444e-06, 0.00000000e+00, 0.00000000e+00,\n",
       "       0.00000000e+00, 5.04622047e-05, 0.00000000e+00, 0.00000000e+00,\n",
       "       3.55395122e-07, 0.00000000e+00, 0.00000000e+00, 2.87616796e-05,\n",
       "       0.00000000e+00, 0.00000000e+00, 0.00000000e+00, 8.75499439e-06,\n",
       "       0.00000000e+00, 0.00000000e+00, 0.00000000e+00, 3.38359563e-04,\n",
       "       1.07991874e-03, 0.00000000e+00, 0.00000000e+00, 8.85078327e-05,\n",
       "       0.00000000e+00, 0.00000000e+00, 0.00000000e+00, 0.00000000e+00,\n",
       "       0.00000000e+00, 0.00000000e+00, 0.00000000e+00, 0.00000000e+00,\n",
       "       0.00000000e+00, 1.41349222e-04, 1.63380569e-04, 0.00000000e+00,\n",
       "       0.00000000e+00, 1.84018212e-05, 0.00000000e+00, 1.04193639e-04,\n",
       "       0.00000000e+00, 0.00000000e+00, 0.00000000e+00, 0.00000000e+00,\n",
       "       6.28928501e-05, 1.46721726e-05, 0.00000000e+00, 0.00000000e+00,\n",
       "       4.64572553e-05, 0.00000000e+00, 0.00000000e+00, 0.00000000e+00,\n",
       "       0.00000000e+00, 0.00000000e+00, 0.00000000e+00, 1.27974552e-04,\n",
       "       0.00000000e+00, 0.00000000e+00, 0.00000000e+00, 0.00000000e+00,\n",
       "       0.00000000e+00, 0.00000000e+00, 0.00000000e+00, 0.00000000e+00,\n",
       "       2.12503417e-03, 0.00000000e+00, 2.45339067e-05, 8.60258720e-05,\n",
       "       0.00000000e+00, 0.00000000e+00, 0.00000000e+00, 0.00000000e+00,\n",
       "       0.00000000e+00, 0.00000000e+00, 0.00000000e+00, 0.00000000e+00,\n",
       "       0.00000000e+00, 0.00000000e+00, 0.00000000e+00, 1.00155589e-03,\n",
       "       0.00000000e+00, 2.36998320e-04, 0.00000000e+00, 1.22546625e-04,\n",
       "       7.22733582e-04, 1.63719255e-03, 6.78227061e-05])"
      ]
     },
     "execution_count": 83,
     "metadata": {},
     "output_type": "execute_result"
    }
   ],
   "source": [
    "gbm.feature_importances_"
   ]
  },
  {
   "cell_type": "code",
   "execution_count": 84,
   "metadata": {},
   "outputs": [
    {
     "data": {
      "text/plain": [
       "array([11.61064492, 11.94223241, 12.07285953, ..., 12.05644666,\n",
       "       11.65205255, 12.34692672])"
      ]
     },
     "execution_count": 84,
     "metadata": {},
     "output_type": "execute_result"
    }
   ],
   "source": [
    "predict_lasso"
   ]
  },
  {
   "cell_type": "code",
   "execution_count": 85,
   "metadata": {},
   "outputs": [],
   "source": [
    "predict_avg = ((0.5*predict_ridge) + (0.5*predict_net))"
   ]
  },
  {
   "cell_type": "code",
   "execution_count": 86,
   "metadata": {},
   "outputs": [
    {
     "data": {
      "text/plain": [
       "array([11.63280006, 11.94711948, 12.07944612, ..., 12.05767335,\n",
       "       11.6452796 , 12.320174  ])"
      ]
     },
     "execution_count": 86,
     "metadata": {},
     "output_type": "execute_result"
    }
   ],
   "source": [
    "predict_avg"
   ]
  },
  {
   "cell_type": "markdown",
   "metadata": {},
   "source": [
    "## Submit"
   ]
  },
  {
   "cell_type": "code",
   "execution_count": 87,
   "metadata": {},
   "outputs": [],
   "source": [
    "# Input filename as a .csv\n",
    "\n",
    "def predict(filename, prediction):\n",
    "    vals = np.exp(prediction)\n",
    "    indexes = list(range(1461,1461+len(vals)))\n",
    "    predictions = pd.DataFrame()\n",
    "    predictions['Id'] = indexes\n",
    "    predictions['SalePrice'] = vals\n",
    "    predictions.to_csv('./Prediction/'+filename,index = False)\n",
    "    print('File Saved!')"
   ]
  },
  {
   "cell_type": "code",
   "execution_count": 88,
   "metadata": {},
   "outputs": [
    {
     "name": "stdout",
     "output_type": "stream",
     "text": [
      "File Saved!\n"
     ]
    }
   ],
   "source": [
    "predict(\"predict_avg_4.csv\",predict_avg)"
   ]
  },
  {
   "cell_type": "markdown",
   "metadata": {},
   "source": [
    "- - -"
   ]
  }
 ],
 "metadata": {
  "kernelspec": {
   "display_name": "Python 3 (ipykernel)",
   "language": "python",
   "name": "python3"
  },
  "language_info": {
   "codemirror_mode": {
    "name": "ipython",
    "version": 3
   },
   "file_extension": ".py",
   "mimetype": "text/x-python",
   "name": "python",
   "nbconvert_exporter": "python",
   "pygments_lexer": "ipython3",
   "version": "3.9.12"
  }
 },
 "nbformat": 4,
 "nbformat_minor": 4
}
