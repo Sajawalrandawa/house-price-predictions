{
 "cells": [
  {
   "cell_type": "markdown",
   "metadata": {
    "slideshow": {
     "slide_type": "slide"
    }
   },
   "source": [
    "# Ames Real Estate\n"
   ]
  },
  {
   "cell_type": "markdown",
   "metadata": {
    "cell_style": "center",
    "slideshow": {
     "slide_type": "slide"
    }
   },
   "source": [
    "### Objective: The first part of this project explores the characteristics of Ames housing market. The second part of this project includes a comparison of different regression models and assess their test performances"
   ]
  },
  {
   "cell_type": "code",
   "execution_count": null,
   "metadata": {
    "hide_input": false,
    "slideshow": {
     "slide_type": "skip"
    }
   },
   "outputs": [],
   "source": [
    "# Import Libraries\n",
    "import matplotlib.pyplot as plt\n",
    "import matplotlib.dates as dates\n",
    "import seaborn as sns\n",
    "import pandas as pd\n",
    "import matplotlib as mpl\n",
    "# import chart_studio.plotly as py\n",
    "import numpy as np\n",
    "from datetime import datetime\n",
    "import numpy as np\n",
    "import matplotlib.pyplot as plt\n",
    "from scipy import stats\n",
    "# from geopy import Nominatim\n",
    "# from geopy.extra.rate_limiter import RateLimiter\n",
    "%matplotlib inline"
   ]
  },
  {
   "cell_type": "code",
   "execution_count": null,
   "metadata": {
    "slideshow": {
     "slide_type": "skip"
    }
   },
   "outputs": [],
   "source": [
    "# Run the file Data_Preprocessing.ipynb which cleaned the data. Pre-processed data are saved in the data file\n",
    "\n",
    "housing = pd.read_csv('../data/AmesHousing.csv', index_col = 0)\n",
    "real_estate = pd.read_csv('../data/Ames Real Estate Data.csv', index_col = 0)\n",
    "# combined data set:\n",
    "ames_df = pd.read_csv('../data/final_df.csv', index_col = 0)"
   ]
  },
  {
   "cell_type": "markdown",
   "metadata": {
    "slideshow": {
     "slide_type": "slide"
    }
   },
   "source": [
    "# Overview of Ames Housing Market"
   ]
  },
  {
   "cell_type": "code",
   "execution_count": null,
   "metadata": {
    "slideshow": {
     "slide_type": "-"
    }
   },
   "outputs": [],
   "source": [
    "!pip install geopandas"
   ]
  },
  {
   "cell_type": "code",
   "execution_count": null,
   "metadata": {
    "slideshow": {
     "slide_type": "skip"
    }
   },
   "outputs": [],
   "source": [
    "import geopandas as gpd\n",
    "nbh_geo_df = gpd.read_file('../data/map.geojson', driver='GeoJSON')\n",
    "nbh_geo_df"
   ]
  },
  {
   "cell_type": "code",
   "execution_count": null,
   "metadata": {
    "hide_input": false,
    "slideshow": {
     "slide_type": "skip"
    }
   },
   "outputs": [],
   "source": [
    "neighborhood_new = []\n",
    "for row in ames_df['Neighborhood']:\n",
    "   if row == 'Blmngtn': neighborhood_new.append('Gilbert')\n",
    "   if row == 'Blueste': neighborhood_new.append('Lincoln Way / State Ave')\n",
    "   if row == 'BrDale': neighborhood_new.append('Grand Ave / 30th St')\n",
    "   if row == 'BrkSide': neighborhood_new.append('E 13th St / Duff Ave')\n",
    "   if row == 'ClearCr': neighborhood_new.append('Ontario')\n",
    "   if row == 'CollgCr': neighborhood_new.append('Lincoln Way / 500th Ave')\n",
    "   if row == 'Crawfor': neighborhood_new.append('S Duff Ave / E Lincoln Way')\n",
    "   if row == 'Edwards': neighborhood_new.append('Woodland St / West St')\n",
    "   if row == 'Gilbert': neighborhood_new.append('Gilbert')\n",
    "   if row == 'IDOTRR' : neighborhood_new.append('S Duff Ave / E Lincoln Way')\n",
    "   if row == 'MeadowV': neighborhood_new.append('S Duff Ave / Airport Rd')\n",
    "   if row == 'Mitchel': neighborhood_new.append('S Duff Ave / Airport Rd')\n",
    "   if row == 'NAmes': neighborhood_new.append('City Center')\n",
    "   if row == 'NoRidge': neighborhood_new.append('Gilbert')\n",
    "   if row == 'NPkVill': neighborhood_new.append('Grand Ave / 30th St')\n",
    "   if row == 'NridgHt': neighborhood_new.append('Gilbert')\n",
    "   if row == 'NWAmes': neighborhood_new.append('24th St / Grand Ave')\n",
    "   if row == 'OldTown': neighborhood_new.append('E 13th St / Duff Ave')\n",
    "   if row == 'SWISU': neighborhood_new.append('Lincoln Way / State Ave')\n",
    "   if row == 'Sawyer': neighborhood_new.append('Ontario')\n",
    "   if row == 'SawyerW': neighborhood_new.append('Ontario')\n",
    "   if row == 'Somerst' : neighborhood_new.append('Grand Ave / 30th St')\n",
    "   if row == 'StoneBr': neighborhood_new.append('Grand Ave / 30th St')\n",
    "   if row == 'Timber': neighborhood_new.append('S Duff Ave / Airport Rd')\n",
    "   if row == 'Veenker': neighborhood_new.append('Stange Rd / Pammel Ct')\n",
    "   if row == 'Greens': neighborhood_new.append('Stange Rd / Pammel Ct')\n",
    "ames_df['Neighborhood_New'] = neighborhood_new"
   ]
  },
  {
   "cell_type": "code",
   "execution_count": null,
   "metadata": {
    "slideshow": {
     "slide_type": "skip"
    }
   },
   "outputs": [],
   "source": [
    "ames_df2 = ames_df.copy()"
   ]
  },
  {
   "cell_type": "markdown",
   "metadata": {
    "slideshow": {
     "slide_type": "subslide"
    }
   },
   "source": [
    "## Ames House Sale Price Distribution"
   ]
  },
  {
   "cell_type": "code",
   "execution_count": null,
   "metadata": {
    "hide_input": true,
    "slideshow": {
     "slide_type": "fragment"
    },
    "tags": [
     "to_remove"
    ]
   },
   "outputs": [],
   "source": [
    "sns.set(rc={'axes.facecolor':'#F0F1EB', 'figure.facecolor':'#F0F1EB'})\n",
    "colors = [\"#264653\", \"#2a9d8f\", \"#e9c46a\", \"#f4a261\", \"#e76f51\", \"#c64242\"]\n",
    "sns.set_palette(sns.color_palette(colors))\n",
    "plt.figure(figsize = (17,10))\n",
    "ax = sns.distplot(ames_df['SalePrice'], kde = True, kde_kws = {'shade': True})\n",
    "plt.xlabel('Sale Price', fontdict = {'fontsize' : 14})\n",
    "ax.axes.get_yaxis().set_visible(False)\n",
    "plt.ylabel('Density', fontdict = {'fontsize' : 14})\n",
    "\n",
    "\n"
   ]
  },
  {
   "cell_type": "markdown",
   "metadata": {
    "slideshow": {
     "slide_type": "fragment"
    }
   },
   "source": [
    "#### The distribution graph indicates that Ames housing market has more outliers on the expensive side"
   ]
  },
  {
   "cell_type": "markdown",
   "metadata": {
    "slideshow": {
     "slide_type": "subslide"
    }
   },
   "source": [
    "## Ames Housing Market Trend"
   ]
  },
  {
   "cell_type": "code",
   "execution_count": null,
   "metadata": {
    "slideshow": {
     "slide_type": "skip"
    }
   },
   "outputs": [],
   "source": [
    "ames_df2['PrPerAbvGrSF'] = ames_df2['SalePrice']/ames_df2['GrLivArea']\n",
    "ames_df2['PrPerAbvGrSF'].dtypes\n",
    "pd.to_datetime(ames_df2['YrSold'], format = '%Y')\n",
    "ames_df2[['YrSold']]"
   ]
  },
  {
   "cell_type": "code",
   "execution_count": null,
   "metadata": {
    "slideshow": {
     "slide_type": "skip"
    }
   },
   "outputs": [],
   "source": [
    "ames_df2['YrSold'].dtypes\n",
    "ames_df2['YrSold'] = pd.to_datetime(ames_df2['YrSold'], format = '%Y')\n",
    "ames_df2['YrSold'].dtypes\n",
    "ames_df2['year'] = pd.DatetimeIndex(ames_df2['YrSold']).year\n",
    "ames_df2['year'].dtypes\n",
    "ames_df2['year'] = ames_df2.year.astype(str)\n",
    "MedPrPerAbvGrSF = ames_df2.groupby('year')[['PrPerAbvGrSF']].mean().reset_index()"
   ]
  },
  {
   "cell_type": "code",
   "execution_count": null,
   "metadata": {
    "hide_input": true,
    "slideshow": {
     "slide_type": "fragment"
    },
    "tags": [
     "to_remove"
    ]
   },
   "outputs": [],
   "source": [
    "sns.set(rc={'axes.facecolor':'#F0F1EB', 'figure.facecolor':'#F0F1EB'})\n",
    "colors = [\"#264653\", \"#2a9d8f\", \"#e9c46a\", \"#f4a261\", \"#e76f51\", \"#c64242\"]\n",
    "sns.set_palette(sns.color_palette(colors))\n",
    "\n",
    "fig, ax1 = plt.subplots(figsize=(17,10))\n",
    "sns.lineplot(MedPrPerAbvGrSF['year'], MedPrPerAbvGrSF['PrPerAbvGrSF'])\n",
    "plt.ylim(0, 150)\n",
    "ax1.set_title('Year Sold vs Sale Price per Square Feet', fontsize=12)\n",
    "ax1.set_xlabel('Year Sold', fontsize=12)\n",
    "ax1.set_ylabel('Sale Price per Square Feet', fontsize=12)\n"
   ]
  },
  {
   "cell_type": "markdown",
   "metadata": {
    "slideshow": {
     "slide_type": "fragment"
    }
   },
   "source": [
    "#### Ames housing market is relatively stable in terms of per square foot pricing over the years"
   ]
  },
  {
   "cell_type": "markdown",
   "metadata": {
    "slideshow": {
     "slide_type": "subslide"
    }
   },
   "source": [
    "## Ames Housing Market Overview by Price"
   ]
  },
  {
   "cell_type": "code",
   "execution_count": null,
   "metadata": {
    "hide_input": true,
    "slideshow": {
     "slide_type": "fragment"
    },
    "tags": [
     "to_remove"
    ]
   },
   "outputs": [],
   "source": [
    "import geopandas as gpd\n",
    "nbh_geo_df = gpd.read_file('data/map.geojson', driver='GeoJSON')\n",
    "nbh_geo_df\n",
    "ames_df2 = ames_df.copy()\n",
    "Q1 = np.percentile(ames_df2['SalePrice'], 25, interpolation = 'midpoint')\n",
    "Q2 = np.percentile(ames_df2['SalePrice'], 50, interpolation = 'midpoint')\n",
    "Q3 = np.percentile(ames_df2['SalePrice'], 75, interpolation = 'midpoint')\n",
    "IQR = Q3 - Q1\n",
    "\n",
    "SalePrice_new = []\n",
    "for row in ames_df2['SalePrice']:\n",
    "    if row < 129950.0 : SalePrice_new.append('$')\n",
    "    elif row < 159500.0 : SalePrice_new.append('$$')\n",
    "    elif row < 208950.0 : SalePrice_new.append('$$$')\n",
    "    elif row < 327450.0 : SalePrice_new.append('$$$$')\n",
    "    else : SalePrice_new.append('$$$$$')\n",
    "ames_df2['price_type'] = SalePrice_new\n",
    "\n",
    "from shapely.geometry import Point, shape\n",
    "\n",
    "locs_geometry = [Point(xy) for xy in zip(ames_df2.longitude2,\n",
    "                                         ames_df2.latitude2)]\n",
    "\n",
    "crs = {'init': 'epsg:4326'}\n",
    "# Coordinate Reference Systems, \"epsg:4326\" is a common projection of WGS84 Latitude/Longitude\n",
    "locs_gdf = gpd.GeoDataFrame(ames_df2, crs=crs, geometry=locs_geometry)\n",
    "\n",
    "import folium\n",
    "locs_map = folium.Map(location=[42.045042, -93.6473567],\n",
    "                      zoom_start=13, tiles='cartodbpositron')\n",
    "\n",
    "feature_1 = folium.FeatureGroup(name='$')\n",
    "feature_2 = folium.FeatureGroup(name='$$')\n",
    "feature_3 = folium.FeatureGroup(name='$$$')\n",
    "feature_4 = folium.FeatureGroup(name='$$$$')\n",
    "feature_5 = folium.FeatureGroup(name='$$$$$')\n",
    "\n",
    "for i, v in locs_gdf.iterrows():\n",
    "    popup = \"\"\"\n",
    "    Location id : <b>%s</b><br>\n",
    "    Room type : <b>%s</b><br>\n",
    "    Neighbourhood : <b>%s</b><br>\n",
    "    Price : <b>%d</b><br>\n",
    "    \"\"\" % (v['PID'], v['price_type'], v['Neighborhood'], v['SalePrice'])\n",
    "    \n",
    "    if v['price_type'] == '$':\n",
    "        folium.CircleMarker(location=[v['latitude2'], v['longitude2']],\n",
    "                            radius=2,\n",
    "                            tooltip=popup,\n",
    "                            color='#264653',\n",
    "                            fill_color='#264653',\n",
    "                            fill=True).add_to(feature_1)\n",
    "    elif v['price_type'] == '$$':\n",
    "        folium.CircleMarker(location=[v['latitude2'], v['longitude2']],\n",
    "                            radius=2,\n",
    "                            tooltip=popup,\n",
    "                            color='#2a9d8f',\n",
    "                            fill_color='#2a9d8f',\n",
    "                            fill=True).add_to(feature_2)\n",
    "    elif v['price_type'] == '$$$':\n",
    "        folium.CircleMarker(location=[v['latitude2'], v['longitude2']],\n",
    "                            radius=2,\n",
    "                            tooltip=popup,\n",
    "                            color='#e9c46a',\n",
    "                            fill_color='#e9c46a',\n",
    "                            fill=True).add_to(feature_3)\n",
    "    elif v['price_type'] == '$$$$':\n",
    "        folium.CircleMarker(location=[v['latitude2'], v['longitude2']],\n",
    "                            radius=2,\n",
    "                            tooltip=popup,\n",
    "                            color='#f4a261',\n",
    "                            fill_color='#f4a261',\n",
    "                            fill=True).add_to(feature_4)\n",
    "    elif v['price_type'] == '$$$$$':\n",
    "        folium.CircleMarker(location=[v['latitude2'], v['longitude2']],\n",
    "                            radius=2,\n",
    "                            tooltip=popup,\n",
    "                            color='#e76f51',\n",
    "                            fill_color='#e76f51',\n",
    "                            fill=True).add_to(feature_5)\n",
    "\n",
    "feature_1.add_to(locs_map)\n",
    "feature_2.add_to(locs_map)\n",
    "feature_3.add_to(locs_map)\n",
    "feature_4.add_to(locs_map)\n",
    "feature_5.add_to(locs_map)\n",
    "folium.LayerControl(collapsed=False).add_to(locs_map)\n",
    "locs_map"
   ]
  },
  {
   "cell_type": "markdown",
   "metadata": {
    "slideshow": {
     "slide_type": "subslide"
    }
   },
   "source": [
    "## Ames Housing Market Overview by Price per Square Feet"
   ]
  },
  {
   "cell_type": "code",
   "execution_count": null,
   "metadata": {
    "hide_input": true,
    "slideshow": {
     "slide_type": "fragment"
    }
   },
   "outputs": [],
   "source": [
    "\n",
    "SalePrice_new = []\n",
    "for row in ames_df2['PrPerAbvGrSF']:\n",
    "    if row < 100.5887355495326 : SalePrice_new.append('$')\n",
    "    elif row < 119.76384498845812 : SalePrice_new.append('$$')\n",
    "    elif row < 138.9547130068457 : SalePrice_new.append('$$$')\n",
    "    elif row < 177.32069046415882 : SalePrice_new.append('$$$$')\n",
    "    else : SalePrice_new.append('$$$$$')\n",
    "ames_df2['price_type2'] = SalePrice_new\n",
    "\n",
    "from shapely.geometry import Point, shape\n",
    "\n",
    "locs_geometry = [Point(xy) for xy in zip(ames_df2.longitude2,\n",
    "                                         ames_df2.latitude2)]\n",
    "\n",
    "crs = {'init': 'epsg:4326'}\n",
    "# Coordinate Reference Systems, \"epsg:4326\" is a common projection of WGS84 Latitude/Longitude\n",
    "locs_gdf = gpd.GeoDataFrame(ames_df2, crs=crs, geometry=locs_geometry)\n",
    "\n",
    "import folium\n",
    "locs_map = folium.Map(location=[42.045042, -93.6473567],\n",
    "                      zoom_start=13, tiles='cartodbpositron')\n",
    "\n",
    "feature_1 = folium.FeatureGroup(name='$')\n",
    "feature_2 = folium.FeatureGroup(name='$$')\n",
    "feature_3 = folium.FeatureGroup(name='$$$')\n",
    "feature_4 = folium.FeatureGroup(name='$$$$')\n",
    "feature_5 = folium.FeatureGroup(name='$$$$$')\n",
    "\n",
    "for i, v in locs_gdf.iterrows():\n",
    "    popup = \"\"\"\n",
    "    Location id : <b>%s</b><br>\n",
    "    Room type : <b>%s</b><br>\n",
    "    Neighbourhood : <b>%s</b><br>\n",
    "    Price : <b>%d</b><br>\n",
    "    \"\"\" % (v['PID'], v['price_type2'], v['Neighborhood'], v['PrPerAbvGrSF'])\n",
    "    \n",
    "    if v['price_type2'] == '$':\n",
    "        folium.CircleMarker(location=[v['latitude2'], v['longitude2']],\n",
    "                            radius=2,\n",
    "                            tooltip=popup,\n",
    "                            color='#264653',\n",
    "                            fill_color='#264653',\n",
    "                            fill=True).add_to(feature_1)\n",
    "    elif v['price_type2'] == '$$':\n",
    "        folium.CircleMarker(location=[v['latitude2'], v['longitude2']],\n",
    "                            radius=2,\n",
    "                            tooltip=popup,\n",
    "                            color='#2a9d8f',\n",
    "                            fill_color='#2a9d8f',\n",
    "                            fill=True).add_to(feature_2)\n",
    "    elif v['price_type2'] == '$$$':\n",
    "        folium.CircleMarker(location=[v['latitude2'], v['longitude2']],\n",
    "                            radius=2,\n",
    "                            tooltip=popup,\n",
    "                            color='#e9c46a',\n",
    "                            fill_color='#e9c46a',\n",
    "                            fill=True).add_to(feature_3)\n",
    "    elif v['price_type2'] == '$$$$':\n",
    "        folium.CircleMarker(location=[v['latitude2'], v['longitude2']],\n",
    "                            radius=2,\n",
    "                            tooltip=popup,\n",
    "                            color='#f4a261',\n",
    "                            fill_color='#f4a261',\n",
    "                            fill=True).add_to(feature_4)\n",
    "    elif v['price_type2'] == '$$$$$':\n",
    "        folium.CircleMarker(location=[v['latitude2'], v['longitude2']],\n",
    "                            radius=2,\n",
    "                            tooltip=popup,\n",
    "                            color='#e76f51',\n",
    "                            fill_color='#e76f51',\n",
    "                            fill=True).add_to(feature_5)\n",
    "\n",
    "feature_1.add_to(locs_map)\n",
    "feature_2.add_to(locs_map)\n",
    "feature_3.add_to(locs_map)\n",
    "feature_4.add_to(locs_map)\n",
    "feature_5.add_to(locs_map)\n",
    "folium.LayerControl(collapsed=False).add_to(locs_map)\n",
    "\n",
    "locs_map"
   ]
  },
  {
   "cell_type": "markdown",
   "metadata": {
    "slideshow": {
     "slide_type": "subslide"
    }
   },
   "source": [
    "## Building Type in Ames"
   ]
  },
  {
   "cell_type": "code",
   "execution_count": null,
   "metadata": {
    "hide_input": true,
    "slideshow": {
     "slide_type": "fragment"
    },
    "tags": [
     "to_remove"
    ]
   },
   "outputs": [],
   "source": [
    "import geopandas as gpd\n",
    "nbh_geo_df = gpd.read_file('data/map.geojson', driver='GeoJSON')\n",
    "nbh_geo_df\n",
    "ames_df2 = ames_df.copy()\n",
    "\n",
    "SalePrice_new = []\n",
    "for row in ames_df2['BldgType']:\n",
    "    if row == '1Fam' : SalePrice_new.append('1 Family Detached')\n",
    "    elif row == 'TwnhsE' : SalePrice_new.append('Townhouse End Unit')\n",
    "    elif row == 'Twnhs': SalePrice_new.append('Townhouse Inner Unit')\n",
    "    elif row == 'Duplex' : SalePrice_new.append('Duplex')\n",
    "    else : SalePrice_new.append('2-Family Conversion')\n",
    "ames_df2['building_type'] = SalePrice_new\n",
    "\n",
    "from shapely.geometry import Point, shape\n",
    "\n",
    "locs_geometry = [Point(xy) for xy in zip(ames_df2.longitude2,\n",
    "                                         ames_df2.latitude2)]\n",
    "\n",
    "crs = {'init': 'epsg:4326'}\n",
    "# Coordinate Reference Systems, \"epsg:4326\" is a common projection of WGS84 Latitude/Longitude\n",
    "locs_gdf = gpd.GeoDataFrame(ames_df2, crs=crs, geometry=locs_geometry)\n",
    "\n",
    "import folium\n",
    "locs_map = folium.Map(location=[42.045042, -93.6473567],\n",
    "                      zoom_start=13, tiles='cartodbpositron')\n",
    "\n",
    "feature_1 = folium.FeatureGroup(name='1 Family Detached')\n",
    "feature_2 = folium.FeatureGroup(name='Townhouse End Unit')\n",
    "feature_3 = folium.FeatureGroup(name='Townhouse Inner Unit')\n",
    "feature_4 = folium.FeatureGroup(name='Duplex')\n",
    "feature_5 = folium.FeatureGroup(name='2-Family Conversion')\n",
    "\n",
    "for i, v in locs_gdf.iterrows():\n",
    "    popup = \"\"\"\n",
    "    Location id : <b>%s</b><br>\n",
    "    Room type : <b>%s</b><br>\n",
    "    Neighbourhood : <b>%s</b><br>\n",
    "    Price : <b>%d</b><br>\n",
    "    \"\"\" % (v['PID'], v['building_type'], v['Neighborhood'], v['SalePrice'])\n",
    "    \n",
    "    if v['building_type'] == '1 Family Detached':\n",
    "        folium.CircleMarker(location=[v['latitude2'], v['longitude2']],\n",
    "                            radius=2,\n",
    "                            tooltip=popup,\n",
    "                            color='#264653',\n",
    "                            fill_color='#264653',\n",
    "                            fill=True).add_to(feature_1)\n",
    "    elif v['building_type'] == 'Townhouse End Unit':\n",
    "        folium.CircleMarker(location=[v['latitude2'], v['longitude2']],\n",
    "                            radius=2,\n",
    "                            tooltip=popup,\n",
    "                            color='#2a9d8f',\n",
    "                            fill_color='#2a9d8f',\n",
    "                            fill=True).add_to(feature_2)\n",
    "    elif v['building_type'] == 'Townhouse Inner Unit':\n",
    "        folium.CircleMarker(location=[v['latitude2'], v['longitude2']],\n",
    "                            radius=2,\n",
    "                            tooltip=popup,\n",
    "                            color='#e9c46a',\n",
    "                            fill_color='#e9c46a',\n",
    "                            fill=True).add_to(feature_3)\n",
    "    elif v['building_type'] == 'Duplex':\n",
    "        folium.CircleMarker(location=[v['latitude2'], v['longitude2']],\n",
    "                            radius=2,\n",
    "                            tooltip=popup,\n",
    "                            color='#f4a261',\n",
    "                            fill_color='#f4a261',\n",
    "                            fill=True).add_to(feature_4)\n",
    "    elif v['building_type'] == '2-Family Conversion':\n",
    "        folium.CircleMarker(location=[v['latitude2'], v['longitude2']],\n",
    "                            radius=2,\n",
    "                            tooltip=popup,\n",
    "                            color='#e76f51',\n",
    "                            fill_color='#e76f51',\n",
    "                            fill=True).add_to(feature_5)\n",
    "\n",
    "feature_1.add_to(locs_map)\n",
    "feature_2.add_to(locs_map)\n",
    "feature_3.add_to(locs_map)\n",
    "feature_4.add_to(locs_map)\n",
    "feature_5.add_to(locs_map)\n",
    "folium.LayerControl(collapsed=False).add_to(locs_map)\n",
    "locs_map"
   ]
  },
  {
   "cell_type": "markdown",
   "metadata": {
    "slideshow": {
     "slide_type": "slide"
    }
   },
   "source": [
    "# Break it down into different categories"
   ]
  },
  {
   "cell_type": "markdown",
   "metadata": {
    "slideshow": {
     "slide_type": "fragment"
    }
   },
   "source": [
    "#### 1. Neighborhood"
   ]
  },
  {
   "cell_type": "markdown",
   "metadata": {
    "slideshow": {
     "slide_type": "fragment"
    }
   },
   "source": [
    "#### 2. House Size"
   ]
  },
  {
   "cell_type": "markdown",
   "metadata": {
    "slideshow": {
     "slide_type": "fragment"
    }
   },
   "source": [
    "#### 3. House Age"
   ]
  },
  {
   "cell_type": "markdown",
   "metadata": {
    "slideshow": {
     "slide_type": "fragment"
    }
   },
   "source": [
    "#### 4. House Features: Basement, Kitchen, and Garage"
   ]
  },
  {
   "cell_type": "markdown",
   "metadata": {
    "slideshow": {
     "slide_type": "fragment"
    }
   },
   "source": [
    "#### 5. Other Features"
   ]
  },
  {
   "cell_type": "markdown",
   "metadata": {
    "slideshow": {
     "slide_type": "slide"
    }
   },
   "source": [
    "## Neighborhood"
   ]
  },
  {
   "cell_type": "code",
   "execution_count": null,
   "metadata": {
    "hide_input": false,
    "slideshow": {
     "slide_type": "skip"
    }
   },
   "outputs": [],
   "source": [
    "ames_df3 = ames_df2.groupby(['Neighborhood_New'])['SalePrice', 'total_LivArea'].mean().reset_index()\n",
    "ames_df3\n",
    "ames_geo_mean_df = pd.merge(nbh_geo_df, ames_df3, left_on = 'Neighborhood', right_on='Neighborhood_New')\n",
    "ames_geo_mean_df\n",
    "ames_geo_mean_df['price_per_sf'] = ames_geo_mean_df['SalePrice'] / ames_geo_mean_df['total_LivArea']\n",
    "ames_geo_mean_df"
   ]
  },
  {
   "cell_type": "markdown",
   "metadata": {
    "slideshow": {
     "slide_type": "subslide"
    }
   },
   "source": [
    "## Sale Price per Square Feet by Neighborhood"
   ]
  },
  {
   "cell_type": "code",
   "execution_count": null,
   "metadata": {
    "hide_input": true,
    "slideshow": {
     "slide_type": "fragment"
    }
   },
   "outputs": [],
   "source": [
    "from branca.colormap import linear\n",
    "nbh_count_colormap2 = linear.YlGnBu_09.scale(min(ames_geo_mean_df['price_per_sf']),\n",
    "                                            max(ames_geo_mean_df['price_per_sf']))\n",
    "\n",
    "nbh_locs_map2 = folium.Map(location=[42.045042, -93.6473567],\n",
    "                          zoom_start = 11.5, tiles='cartodbpositron')\n",
    "\n",
    "style_function = lambda x: {\n",
    "    'fillColor': nbh_count_colormap2(x['properties']['price_per_sf']),\n",
    "    'color': 'black',\n",
    "    'weight': 2,\n",
    "    'fillOpacity': 0.7\n",
    "}\n",
    "\n",
    "folium.GeoJson(\n",
    "    ames_geo_mean_df,\n",
    "    style_function=style_function,\n",
    "    tooltip=folium.GeoJsonTooltip(\n",
    "        fields=['Neighborhood_New', 'price_per_sf'],\n",
    "        aliases=['Neighborhood', 'Sales Price per Square Feet'],\n",
    "        localize=True\n",
    "    )\n",
    ").add_to(nbh_locs_map2)\n",
    "\n",
    "nbh_count_colormap2.add_to(nbh_locs_map2)\n",
    "nbh_count_colormap2.caption = 'Ames Housing Sale Price per Square Feet by Neighborhood'\n",
    "nbh_count_colormap2.add_to(nbh_locs_map2)\n",
    "folium.map.CustomPane('labels').add_to(nbh_locs_map2)\n",
    "folium.TileLayer('CartoDBPositronOnlyLabels',\n",
    "                 pane='labels').add_to(nbh_locs_map2)\n",
    "nbh_locs_map2"
   ]
  },
  {
   "cell_type": "markdown",
   "metadata": {
    "slideshow": {
     "slide_type": "subslide"
    }
   },
   "source": [
    "## Ames House Average Sale Price by Neighborhood"
   ]
  },
  {
   "cell_type": "code",
   "execution_count": null,
   "metadata": {
    "cell_style": "center",
    "hide_input": true,
    "slideshow": {
     "slide_type": "fragment"
    },
    "tags": [
     "to_remove"
    ]
   },
   "outputs": [],
   "source": [
    "from branca.colormap import linear\n",
    "nbh_count_colormap = linear.YlGnBu_09.scale(min(ames_df3['SalePrice']),\n",
    "                                            max(ames_df3['SalePrice']))\n",
    "\n",
    "nbh_locs_map = folium.Map(location=[42.045042, -93.6473567],\n",
    "                          zoom_start = 11.5, tiles='cartodbpositron')\n",
    "\n",
    "style_function = lambda x: {\n",
    "    'fillColor': nbh_count_colormap(x['properties']['SalePrice']),\n",
    "    'color': 'black',\n",
    "    'weight': 2,\n",
    "    'fillOpacity': 0.7\n",
    "}\n",
    "\n",
    "folium.GeoJson(\n",
    "    ames_geo_mean_df,\n",
    "    style_function=style_function,\n",
    "    tooltip=folium.GeoJsonTooltip(\n",
    "        fields=['Neighborhood_New', 'SalePrice'],\n",
    "        aliases=['Neighborhood_New', 'Sales Price Mean Value'],\n",
    "        localize=True\n",
    "    )\n",
    ").add_to(nbh_locs_map)\n",
    "\n",
    "nbh_count_colormap.add_to(nbh_locs_map)\n",
    "nbh_count_colormap.caption = 'Ames Housing Sale Price by Neighborhood'\n",
    "nbh_count_colormap.add_to(nbh_locs_map)\n",
    "folium.map.CustomPane('labels').add_to(nbh_locs_map)\n",
    "folium.TileLayer('CartoDBPositronOnlyLabels',\n",
    "                 pane='labels').add_to(nbh_locs_map)\n",
    "nbh_locs_map"
   ]
  },
  {
   "cell_type": "markdown",
   "metadata": {
    "slideshow": {
     "slide_type": "fragment"
    }
   },
   "source": [
    "#### Most expensive houses are concentrated in northern part of Ames "
   ]
  },
  {
   "cell_type": "markdown",
   "metadata": {
    "slideshow": {
     "slide_type": "subslide"
    }
   },
   "source": [
    "## Distance from Iowa State University vs Sale Price"
   ]
  },
  {
   "cell_type": "code",
   "execution_count": null,
   "metadata": {
    "cell_style": "center",
    "hide_input": true,
    "slideshow": {
     "slide_type": "fragment"
    },
    "tags": [
     "to_remove"
    ]
   },
   "outputs": [],
   "source": [
    "sns.set(rc={'axes.facecolor':'#F0F1EB', 'figure.facecolor':'#F0F1EB'})\n",
    "\n",
    "colors = [\"#264653\", \"#2a9d8f\", \"#e9c46a\", \"#f4a261\", \"#e76f51\", \"#c64242\"]\n",
    "sns.set_palette(sns.color_palette(colors))\n",
    "fig, ax1 = plt.subplots(figsize=(17,10))\n",
    "sns.regplot(x = 'Distance', y = 'SalePrice', data = ames_df2)\n",
    "ax1.set_title('Sale Price vs Distance from ISU', fontsize=12)\n",
    "ax1.set_xlabel('Distance (KM) from Iowa State University', fontsize=12)\n",
    "ax1.set_ylabel('Sale Price per Square Feet', fontsize=12)"
   ]
  },
  {
   "cell_type": "markdown",
   "metadata": {
    "slideshow": {
     "slide_type": "subslide"
    }
   },
   "source": [
    "## Distance from Iowa State University vs Sale Price\n"
   ]
  },
  {
   "cell_type": "code",
   "execution_count": null,
   "metadata": {
    "cell_style": "center",
    "hide_input": true,
    "slideshow": {
     "slide_type": "fragment"
    },
    "tags": [
     "to_remove"
    ]
   },
   "outputs": [],
   "source": [
    "# Distance VS Sale Price\n",
    "sns.set(rc={'axes.facecolor':'#F0F1EB', 'figure.facecolor':'#F0F1EB'})\n",
    "sns.set(rc={'axes.facecolor':'#F0F1EB', 'figure.facecolor':'#F0F1EB'})\n",
    "colors = [\"#264653\", \"#2a9d8f\", \"#e9c46a\", \"#f4a261\", \"#e76f51\", \"#c64242\"]\n",
    "sns.set_palette(sns.color_palette(colors))\n",
    "plt.figure(figsize = (17,10))\n",
    "log_distance = np.log(ames_df['Distance'])\n",
    "log_SalePrice= np.log(ames_df['SalePrice'])\n",
    "sns.scatterplot(x = log_distance, y = log_SalePrice, hue = 'total_LivArea', data = ames_df2)"
   ]
  },
  {
   "cell_type": "markdown",
   "metadata": {
    "slideshow": {
     "slide_type": "slide"
    }
   },
   "source": [
    "# House Size"
   ]
  },
  {
   "cell_type": "markdown",
   "metadata": {
    "slideshow": {
     "slide_type": "subslide"
    }
   },
   "source": [
    "## Sale Price vs Total Living Area"
   ]
  },
  {
   "cell_type": "code",
   "execution_count": null,
   "metadata": {
    "hide_input": true,
    "slideshow": {
     "slide_type": "fragment"
    },
    "tags": [
     "to_remove"
    ]
   },
   "outputs": [],
   "source": [
    "X = np.log(ames_df['total_LivArea']) \n",
    "Y = np.log(ames_df['SalePrice'])\n",
    "\n",
    "plt.figure(figsize = (17,10))\n",
    "sns.set(rc={'axes.facecolor':'#F0F1EB', 'figure.facecolor':'#F0F1EB'})\n",
    "colors = [\"#264653\", \"#2a9d8f\", \"#e9c46a\", \"#f4a261\", \"#e76f51\", \"#c64242\"]\n",
    "sns.set_palette(sns.color_palette(colors))\n",
    "\n",
    "ax1 = plt.subplot(2,1,2).set_title(\"Log of Total Living Area and Price\")\n",
    "sns.regplot(x = X, y = Y, data = ames_df)\n",
    "\n",
    "ax2 = plt.subplot(2,1,1).set_title(\"Living Area and Price\")\n",
    "sns.regplot(x = 'total_LivArea', y = 'SalePrice', data = ames_df)"
   ]
  },
  {
   "cell_type": "markdown",
   "metadata": {
    "slideshow": {
     "slide_type": "fragment"
    }
   },
   "source": [
    "#### Larger living area leads to higher sale price; in addition, the impact of living area on sale price wanes off as the living area continues to increase."
   ]
  },
  {
   "cell_type": "markdown",
   "metadata": {
    "slideshow": {
     "slide_type": "subslide"
    }
   },
   "source": [
    "## Living Area vs Sale Price"
   ]
  },
  {
   "cell_type": "code",
   "execution_count": null,
   "metadata": {
    "cell_style": "center",
    "hide_input": true,
    "slideshow": {
     "slide_type": "fragment"
    },
    "tags": [
     "to_remove"
    ]
   },
   "outputs": [],
   "source": [
    "X = np.log(ames_df['1stFlrSF']) \n",
    "Y = np.log(ames_df['SalePrice'])\n",
    "\n",
    "XX = np.log(ames_df['2ndFlrSF']) \n",
    "YY = np.log(ames_df['SalePrice'])\n",
    "\n",
    "plt.figure(figsize = (17,7))\n",
    "colors = [\"#264653\", \"#2a9d8f\", \"#e9c46a\", \"#f4a261\", \"#e76f51\", \"#c64242\"]\n",
    "sns.set_palette(sns.color_palette(colors))\n",
    "\n",
    "ax1 = plt.subplot(1,2,1).set_title(\"Log of1st Floor Living Area and Log of Sale Price\")\n",
    "sns.regplot(x = X, y = Y, data = ames_df)\n",
    "\n",
    "ax2 = plt.subplot(1,2,2).set_title(\"Log of 2nd Floor Living Area and Log of Sale Price\")\n",
    "sns.regplot(x = XX, y = Y, data = ames_df)"
   ]
  },
  {
   "cell_type": "markdown",
   "metadata": {
    "slideshow": {
     "slide_type": "slide"
    }
   },
   "source": [
    "# House Age"
   ]
  },
  {
   "cell_type": "markdown",
   "metadata": {
    "slideshow": {
     "slide_type": "subslide"
    }
   },
   "source": [
    "## Age Characteristics of Houses at Ames  "
   ]
  },
  {
   "cell_type": "code",
   "execution_count": null,
   "metadata": {
    "hide_input": true,
    "slideshow": {
     "slide_type": "fragment"
    },
    "tags": [
     "to_remove"
    ]
   },
   "outputs": [],
   "source": [
    "import geopandas as gpd\n",
    "nbh_geo_df = gpd.read_file('data/map.geojson', driver='GeoJSON')\n",
    "nbh_geo_df\n",
    "ames_df2 = ames_df.copy()\n",
    "Q1 = np.percentile(ames_df2['age_building'], 25, interpolation = 'midpoint')\n",
    "Q2 = np.percentile(ames_df2['age_building'], 50, interpolation = 'midpoint')\n",
    "Q3 = np.percentile(ames_df2['age_building'], 75, interpolation = 'midpoint')\n",
    "IQR = Q3 - Q1\n",
    "\n",
    "building_age_new = []\n",
    "for row in ames_df2['age_building']:\n",
    "    if row < 5 : building_age_new.append('New')\n",
    "    elif row < 16 : building_age_new.append('Fairly New')\n",
    "    elif row < 42 : building_age_new.append('Fairly Old')\n",
    "    else : building_age_new.append('Old')\n",
    "ames_df2['age_building_new'] = building_age_new\n",
    "\n",
    "from shapely.geometry import Point, shape\n",
    "\n",
    "locs_geometry = [Point(xy) for xy in zip(ames_df2.longitude2,\n",
    "                                         ames_df2.latitude2)]\n",
    "\n",
    "crs = {'init': 'epsg:4326'}\n",
    "# Coordinate Reference Systems, \"epsg:4326\" is a common projection of WGS84 Latitude/Longitude\n",
    "locs_gdf = gpd.GeoDataFrame(ames_df2, crs=crs, geometry=locs_geometry)\n",
    "\n",
    "import folium\n",
    "locs_map = folium.Map(location=[42.045042, -93.6473567],\n",
    "                      zoom_start=13, tiles='cartodbpositron')\n",
    "\n",
    "feature_1 = folium.FeatureGroup(name='New')\n",
    "feature_2 = folium.FeatureGroup(name='Fairly New')\n",
    "feature_3 = folium.FeatureGroup(name='Fairly Old')\n",
    "feature_4 = folium.FeatureGroup(name='Old')\n",
    "\n",
    "\n",
    "for i, v in locs_gdf.iterrows():\n",
    "    popup = \"\"\"\n",
    "    Location id : <b>%s</b><br>\n",
    "    Room type : <b>%s</b><br>\n",
    "    Neighbourhood : <b>%s</b><br>\n",
    "    Price : <b>%d</b><br>\n",
    "    \"\"\" % (v['PID'], v['age_building_new'], v['Neighborhood'], v['age_building'])\n",
    "    \n",
    "    if v['age_building_new'] == 'New':\n",
    "        folium.CircleMarker(location=[v['latitude2'], v['longitude2']],\n",
    "                            radius=2,\n",
    "                            tooltip=popup,\n",
    "                            color='#264653',\n",
    "                            fill_color='#264653',\n",
    "                            fill=True).add_to(feature_1)\n",
    "    elif v['age_building_new'] == 'Fairly New':\n",
    "        folium.CircleMarker(location=[v['latitude2'], v['longitude2']],\n",
    "                            radius=2,\n",
    "                            tooltip=popup,\n",
    "                            color='#2a9d8f',\n",
    "                            fill_color='#2a9d8f',\n",
    "                            fill=True).add_to(feature_2)\n",
    "    elif v['age_building_new'] == 'Fairly Old':\n",
    "        folium.CircleMarker(location=[v['latitude2'], v['longitude2']],\n",
    "                            radius=2,\n",
    "                            tooltip=popup,\n",
    "                            color='#e9c46a',\n",
    "                            fill_color='#e9c46a',\n",
    "                            fill=True).add_to(feature_3)\n",
    "    elif v['age_building_new'] == 'Old':\n",
    "        folium.CircleMarker(location=[v['latitude2'], v['longitude2']],\n",
    "                            radius=2,\n",
    "                            tooltip=popup,\n",
    "                            color='#f4a261',\n",
    "                            fill_color='#f4a261',\n",
    "                            fill=True).add_to(feature_4)\n",
    "\n",
    "feature_1.add_to(locs_map)\n",
    "feature_2.add_to(locs_map)\n",
    "feature_3.add_to(locs_map)\n",
    "feature_4.add_to(locs_map)\n",
    "folium.LayerControl(collapsed=False).add_to(locs_map)\n",
    "locs_map"
   ]
  },
  {
   "cell_type": "code",
   "execution_count": null,
   "metadata": {
    "slideshow": {
     "slide_type": "skip"
    }
   },
   "outputs": [],
   "source": [
    "from ames_function import feature_eng\n",
    "house_df_eng = feature_eng(ames_df)\n",
    "ames_df['effective_age'] = ames_df['YrSold'] - ames_df['YearRemodAdd']\n",
    "ames_df['actual_age'] = ames_df['YrSold'] - ames_df['YearBuilt']"
   ]
  },
  {
   "cell_type": "markdown",
   "metadata": {
    "slideshow": {
     "slide_type": "subslide"
    }
   },
   "source": [
    "## Effective House Age vs Sale Price"
   ]
  },
  {
   "cell_type": "code",
   "execution_count": null,
   "metadata": {
    "hide_input": true,
    "slideshow": {
     "slide_type": "fragment"
    },
    "tags": [
     "to_remove"
    ]
   },
   "outputs": [],
   "source": [
    "sns.set(rc={'axes.facecolor':'#F0F1EB', 'figure.facecolor':'#F0F1EB'})\n",
    "var = 'effective_age'\n",
    "data = pd.concat([ames_df['SalePrice'], ames_df[var]], axis=1)\n",
    "f, ax = plt.subplots(figsize=(16, 8))\n",
    "fig = sns.lineplot(x=var, y=\"SalePrice\", data=data, color = '#c64242')\n",
    "fig.axis(ymin=0, ymax=800000)\n",
    "ax.set_title('Sale Price vs Effective Age', fontsize=12)\n",
    "ax.set_xlabel('Effective Age', fontsize=12)\n",
    "ax.set_ylabel('Sale Price', fontsize=12)\n",
    "plt.xlim(1, 62)"
   ]
  },
  {
   "cell_type": "markdown",
   "metadata": {
    "slideshow": {
     "slide_type": "fragment"
    }
   },
   "source": [
    "#### Effective house age is calculated as Year Sold - Year Remodeled. The lower the effective age, the more expensive houses are. This indicates that there is an investment opportunity for home flippers to make profit in Ames. "
   ]
  },
  {
   "cell_type": "markdown",
   "metadata": {
    "slideshow": {
     "slide_type": "subslide"
    }
   },
   "source": [
    "## Actual Age vs Sale Price"
   ]
  },
  {
   "cell_type": "code",
   "execution_count": null,
   "metadata": {
    "hide_input": false,
    "slideshow": {
     "slide_type": "fragment"
    },
    "tags": [
     "to_remove"
    ]
   },
   "outputs": [],
   "source": [
    "sns.set(rc={'axes.facecolor':'#F0F1EB', 'figure.facecolor':'#F0F1EB'})\n",
    "f, ax = plt.subplots(figsize=(16, 8))\n",
    "fig = sns.lineplot(x='actual_age', y=\"SalePrice\", data=ames_df, color = '#c64242')\n",
    "fig.axis(ymin=0, ymax=800000)\n",
    "ax.set_title('Sale Price vs Actual Age', fontsize=12)\n",
    "ax.set_xlabel('Actual Age', fontsize=12)\n",
    "ax.set_ylabel('Sale Price', fontsize=12)"
   ]
  },
  {
   "cell_type": "markdown",
   "metadata": {
    "slideshow": {
     "slide_type": "fragment"
    }
   },
   "source": [
    "#### Actual age is calculated as Year Sold - Year Built. If we exclude the outlier, newer houses have a higher selling price. "
   ]
  },
  {
   "cell_type": "code",
   "execution_count": null,
   "metadata": {
    "hide_input": false,
    "slideshow": {
     "slide_type": "skip"
    }
   },
   "outputs": [],
   "source": [
    "ames_df2['effective_age'] = ames_df2['YrSold'] - ames_df2['YearRemodAdd']\n",
    "ames_df2['actual_age'] = ames_df2['YrSold'] - ames_df2['YearBuilt']\n",
    "ames_df4 = ames_df2.groupby(['Neighborhood_New'])['effective_age', 'actual_age'].mean().reset_index()\n",
    "ames_geo_mean_df2 = pd.merge(nbh_geo_df, ames_df4, left_on = 'Neighborhood', right_on='Neighborhood_New')\n",
    "ames_geo_mean_df2"
   ]
  },
  {
   "cell_type": "markdown",
   "metadata": {
    "slideshow": {
     "slide_type": "subslide"
    }
   },
   "source": [
    "## Average House Age by Neighborhood"
   ]
  },
  {
   "cell_type": "code",
   "execution_count": null,
   "metadata": {
    "hide_input": true,
    "slideshow": {
     "slide_type": "fragment"
    },
    "tags": [
     "to_remove"
    ]
   },
   "outputs": [],
   "source": [
    "import folium\n",
    "from branca.colormap import linear\n",
    "\n",
    "\n",
    "nbh_count_colormap3 = linear.YlGnBu_09.scale(min(ames_geo_mean_df2['effective_age']),\n",
    "                                            max(ames_geo_mean_df2['effective_age']))\n",
    "\n",
    "nbh_locs_map3 = folium.Map(location=[42.045042, -93.6473567],\n",
    "                          zoom_start = 11.5, tiles='cartodbpositron')\n",
    "\n",
    "style_function = lambda x: {\n",
    "    'fillColor': nbh_count_colormap2(x['properties']['effective_age']),\n",
    "    'color': 'black',\n",
    "    'weight': 2,\n",
    "    'fillOpacity': 0.7\n",
    "}\n",
    "\n",
    "folium.GeoJson(\n",
    "    ames_geo_mean_df2,\n",
    "    style_function=style_function,\n",
    "    tooltip=folium.GeoJsonTooltip(\n",
    "        fields=['Neighborhood_New', 'effective_age'],\n",
    "        aliases=['Neighborhood', 'Sales Price per Square Feet'],\n",
    "        localize=True\n",
    "    )\n",
    ").add_to(nbh_locs_map3)\n",
    "\n",
    "nbh_count_colormap3.add_to(nbh_locs_map3)\n",
    "nbh_count_colormap3.caption = 'Average Effective House Age by Neighborhood'\n",
    "nbh_count_colormap3.add_to(nbh_locs_map3)\n",
    "folium.map.CustomPane('labels').add_to(nbh_locs_map3)\n",
    "folium.TileLayer('CartoDBPositronOnlyLabels',\n",
    "                 pane='labels').add_to(nbh_locs_map3)\n",
    "nbh_locs_map3"
   ]
  },
  {
   "cell_type": "markdown",
   "metadata": {
    "slideshow": {
     "slide_type": "slide"
    }
   },
   "source": [
    "# House Features"
   ]
  },
  {
   "cell_type": "markdown",
   "metadata": {
    "hide_input": false,
    "slideshow": {
     "slide_type": "subslide"
    }
   },
   "source": [
    "## Basement"
   ]
  },
  {
   "cell_type": "code",
   "execution_count": null,
   "metadata": {
    "hide_input": true,
    "slideshow": {
     "slide_type": "fragment"
    },
    "tags": [
     "to_remove"
    ]
   },
   "outputs": [],
   "source": [
    "sns.set(rc={'axes.facecolor':'#F0F1EB', 'figure.facecolor':'#F0F1EB'})\n",
    "colors = [\"#264653\", \"#2a9d8f\", \"#e9c46a\", \"#f4a261\", \"#e76f51\", \"#c64242\"]\n",
    "sns.set_palette(sns.color_palette(colors))\n",
    "\n",
    "\n",
    "plt.figure(figsize = (17,10))\n",
    "\n",
    "plt.subplot(2,2,1).set_title(\"Basement Quality and Price\")\n",
    "sns.boxplot(x = 'BsmtQual', y = 'SalePrice', order=[\"Po\",\"Fa\",\"TA\",\"Gd\", \"Ex\"], data = housing)\n",
    "\n",
    "plt.subplot(2,2,2).set_title(\"Basement Condition and Price\")\n",
    "sns.boxplot(x = 'BsmtCond', y = 'SalePrice', order=[\"Po\",\"Fa\",\"TA\",\"Gd\", \"Ex\"], data = housing)\n",
    "\n",
    "plt.subplot(2,2,3).set_title(\"Basement Exposure and Price\")\n",
    "sns.boxplot(x = 'BsmtExposure', y = 'SalePrice', order=[\"No\",\"Mn\",\"Av\",\"Gd\"], data = housing)\n",
    "\n",
    "plt.subplot(2,2,4).set_title(\"Basement Final (Square Feet) and Price\")\n",
    "sns.regplot(x = 'BasmtFinSF', y = 'SalePrice', data = housing)"
   ]
  },
  {
   "cell_type": "markdown",
   "metadata": {
    "slideshow": {
     "slide_type": "fragment"
    }
   },
   "source": [
    "#### Greater quality and greater size of the basement are related to higher sale price. "
   ]
  },
  {
   "cell_type": "markdown",
   "metadata": {
    "slideshow": {
     "slide_type": "subslide"
    }
   },
   "source": [
    "## Kitchen"
   ]
  },
  {
   "cell_type": "code",
   "execution_count": null,
   "metadata": {
    "hide_input": true,
    "slideshow": {
     "slide_type": "fragment"
    },
    "tags": [
     "to_remove"
    ]
   },
   "outputs": [],
   "source": [
    "plt.figure(figsize = (17,10))\n",
    "sns.set(rc={'axes.facecolor':'#F0F1EB', 'figure.facecolor':'#F0F1EB'})\n",
    "colors = [\"#264653\", \"#2a9d8f\", \"#e9c46a\", \"#f4a261\", \"#e76f51\", \"#c64242\"]\n",
    "sns.set_palette(sns.color_palette(colors))\n",
    "plt.title('Kitchen quality and Price')\n",
    "sns.barplot(x = 'KitchenQual', y = 'SalePrice', data = ames_df, \\\n",
    "            order=[\"Po\",\"Fa\",\"TA\",\"Gd\", \"Ex\"], hue = 'KitchenAbvGr').legend(loc='upper right')\n"
   ]
  },
  {
   "cell_type": "markdown",
   "metadata": {
    "slideshow": {
     "slide_type": "fragment"
    }
   },
   "source": [
    "- Higher kitchen quality could increase house price\n",
    "- Price has no significant difference in number of kitchen with same quality."
   ]
  },
  {
   "cell_type": "markdown",
   "metadata": {
    "slideshow": {
     "slide_type": "subslide"
    }
   },
   "source": [
    "## Garage"
   ]
  },
  {
   "cell_type": "code",
   "execution_count": null,
   "metadata": {
    "hide_input": true,
    "slideshow": {
     "slide_type": "fragment"
    },
    "tags": [
     "to_remove"
    ]
   },
   "outputs": [],
   "source": [
    "plt.figure(figsize = (17,12))\n",
    "sns.set(rc={'axes.facecolor':'#F0F1EB', 'figure.facecolor':'#F0F1EB'})\n",
    "colors = [\"#264653\", \"#2a9d8f\", \"#e9c46a\", \"#f4a261\", \"#e76f51\", \"#c64242\"]\n",
    "sns.set_palette(sns.color_palette(colors))\n",
    "\n",
    "plt.subplot(2,1,1).set_title(\"Garage type and Price\")\n",
    "sns.boxplot(x = 'GarageType', y = 'SalePrice', hue = 'GarageCars',\\\n",
    "            data = ames_df)\n",
    "\n",
    "plt.subplot(2,1,2).set_title(\"Garage quality and Price\")\n",
    "sns.boxplot(x = 'GarageQual', y = 'SalePrice', order=[\"Po\",\"Fa\",\"TA\",\"Gd\", \"Ex\"], hue = 'PavedDrive',\\\n",
    "            data = ames_df)"
   ]
  },
  {
   "cell_type": "markdown",
   "metadata": {
    "slideshow": {
     "slide_type": "fragment"
    }
   },
   "source": [
    "- Garage with good and excellent quality, they do have paved drive way and higher house price\n",
    "- Paved drive way has higher house price compare to no paved for the same garage quality"
   ]
  },
  {
   "cell_type": "markdown",
   "metadata": {
    "slideshow": {
     "slide_type": "subslide"
    }
   },
   "source": [
    "## Bathroom"
   ]
  },
  {
   "cell_type": "code",
   "execution_count": null,
   "metadata": {
    "hide_input": true,
    "slideshow": {
     "slide_type": "fragment"
    },
    "tags": [
     "to_remove"
    ]
   },
   "outputs": [],
   "source": [
    "sns.set(rc={'axes.facecolor':'#F0F1EB', 'figure.facecolor':'#F0F1EB'})\n",
    "fig, ax1 = plt.subplots(figsize=(17,10))\n",
    "sns.regplot(x = 'num_bathroom', y = 'SalePrice', color = '#264653', data = housing)"
   ]
  },
  {
   "cell_type": "markdown",
   "metadata": {
    "slideshow": {
     "slide_type": "fragment"
    }
   },
   "source": [
    "#### The graph shows that there is a relationship between number of bathrooms and sale price"
   ]
  },
  {
   "cell_type": "markdown",
   "metadata": {
    "slideshow": {
     "slide_type": "slide"
    }
   },
   "source": [
    "# Other Interior Features:"
   ]
  },
  {
   "cell_type": "markdown",
   "metadata": {
    "slideshow": {
     "slide_type": "subslide"
    }
   },
   "source": [
    "## Electricity, Heating, Central Air, and Fireplace"
   ]
  },
  {
   "cell_type": "code",
   "execution_count": null,
   "metadata": {
    "hide_input": false,
    "slideshow": {
     "slide_type": "fragment"
    }
   },
   "outputs": [],
   "source": [
    "sns.set(rc={'axes.facecolor':'#F0F1EB', 'figure.facecolor':'#F0F1EB'})\n",
    "colors = [\"#264653\", \"#2a9d8f\", \"#e9c46a\", \"#f4a261\", \"#e76f51\"]\n",
    "sns.set_palette(sns.color_palette(colors))\n",
    "\n",
    "plt.figure(figsize = (17,12))\n",
    "\n",
    "plt.subplot(2,2,1).set_title(\"Heating Quality and Price\")\n",
    "sns.barplot(x = 'HeatingQC', y = 'SalePrice', order=[\"Po\",\"Fa\",\"TA\",\"Gd\", \"Ex\"], data = ames_df)\n",
    "\n",
    "plt.subplot(2,2,2).set_title(\"Central Air and Price\")\n",
    "sns.barplot(x = 'CentralAir', y = 'SalePrice', data = housing)\n",
    "\n",
    "plt.subplot(2,2,3).set_title(\"Electrical and Price\")\n",
    "sns.boxplot(x = 'Electrical', y = 'SalePrice', data = housing)\n",
    "\n",
    "plt.subplot(2,2,4).set_title(\"Fire Place and Price\")\n",
    "sns.boxplot(x = 'FireplaceQu', y = 'SalePrice', order=[\"Po\",\"Fa\",\"TA\",\"Gd\", \"Ex\"], hue = 'Fireplaces',\\\n",
    "            data = ames_df)"
   ]
  },
  {
   "cell_type": "markdown",
   "metadata": {
    "slideshow": {
     "slide_type": "fragment"
    }
   },
   "source": [
    "- Having better heating quality is related to higher sale price\n",
    "- Having central air is related to higher sale price\n",
    "- Having more and having better quality of fire place is related to higher sale price"
   ]
  },
  {
   "cell_type": "markdown",
   "metadata": {
    "slideshow": {
     "slide_type": "slide"
    }
   },
   "source": [
    "# Other Exterior Features"
   ]
  },
  {
   "cell_type": "markdown",
   "metadata": {
    "slideshow": {
     "slide_type": "subslide"
    }
   },
   "source": [
    " ### Land Slope, Building Type, Porch, Roof Style"
   ]
  },
  {
   "cell_type": "code",
   "execution_count": null,
   "metadata": {
    "hide_input": false,
    "slideshow": {
     "slide_type": "fragment"
    },
    "tags": [
     "to_remove"
    ]
   },
   "outputs": [],
   "source": [
    "sns.set(rc={'axes.facecolor':'#F0F1EB', 'figure.facecolor':'#F0F1EB'})\n",
    "colors = [\"#264653\", \"#2a9d8f\", \"#899878\",\"#e9c46a\", \"#f4a261\", \"#F28123\", \"#e76f51\",\"#563F1B\"]\n",
    "sns.set_palette(sns.color_palette(colors))\n",
    "\n",
    "\n",
    "log_porch = np.log(ames_df['Total_porch_sf'])\n",
    "log_SalePrice= np.log(ames_df['SalePrice'])\n",
    "\n",
    "plt.figure(figsize = (17,10))\n",
    "\n",
    "\n",
    "\n",
    "plt.subplot(2,2,1).set_title(\"Land Slope and Price\")\n",
    "sns.barplot(x = 'LandSlope', y = 'SalePrice', data = ames_df)\n",
    "\n",
    "plt.subplot(2,2,2).set_title(\"Building Type and Price\")\n",
    "sns.barplot(x = 'BldgType', y = 'SalePrice', data = ames_df)\n",
    "\n",
    "plt.subplot(2,2,3).set_title(\"Porch Square Feet and Price\")\n",
    "sns.scatterplot(x = log_porch, y = log_SalePrice, data = ames_df)\n",
    "\n",
    "plt.subplot(2,2,4).set_title(\"Roof Style and Price\")\n",
    "sns.boxplot(x = 'RoofStyle', y = 'SalePrice', data = ames_df)"
   ]
  },
  {
   "cell_type": "markdown",
   "metadata": {
    "slideshow": {
     "slide_type": "skip"
    }
   },
   "source": [
    "- Houses that are on the steeper hill seem to be more expensive\n",
    "- End-unit town houses seem to be significantly more expensive than in-unit town houses\n",
    "- Duplexes are more expensive than 2 family conversion\n",
    "- Houses with a shed roof style are associated with higher median sale price\n",
    "- Houses with greater porch area is associated with higher sale price"
   ]
  },
  {
   "cell_type": "markdown",
   "metadata": {
    "slideshow": {
     "slide_type": "subslide"
    }
   },
   "source": [
    "# Masonry Veneer, Foundation, Exterior Condition and Quality"
   ]
  },
  {
   "cell_type": "code",
   "execution_count": null,
   "metadata": {
    "hide_input": true,
    "slideshow": {
     "slide_type": "fragment"
    },
    "tags": [
     "to_remove"
    ]
   },
   "outputs": [],
   "source": [
    "sns.set(rc={'axes.facecolor':'#F0F1EB', 'figure.facecolor':'#F0F1EB'})\n",
    "colors = [\"#264653\", \"#2a9d8f\", \"#e9c46a\", \"#f4a261\", \"#F28123\", \"#e76f51\",\"#563F1B\"]\n",
    "sns.set_palette(sns.color_palette(colors))\n",
    "\n",
    "plt.figure(figsize = (17,10))\n",
    "\n",
    "plt.subplot(1,2,1).set_title(\"Exterior Condition and Price\")\n",
    "sns.boxplot(x = 'ExterCond', y = 'SalePrice', data = ames_df)\n",
    "\n",
    "plt.subplot(1,2,2).set_title(\"Exterior Quality and Price\")\n",
    "sns.boxplot(x = 'ExterQual', y = 'SalePrice', data = ames_df)"
   ]
  },
  {
   "cell_type": "code",
   "execution_count": null,
   "metadata": {
    "slideshow": {
     "slide_type": "skip"
    }
   },
   "outputs": [],
   "source": [
    "from sklearn.linear_model import LinearRegression, Ridge, RidgeCV, Lasso, LassoCV, ElasticNet, ElasticNetCV, HuberRegressor\n",
    "from sklearn.impute import SimpleImputer\n",
    "from sklearn.tree import DecisionTreeRegressor\n",
    "from sklearn.ensemble import RandomForestRegressor, RandomForestClassifier\n",
    "from sklearn.model_selection import cross_val_score, cross_val_predict,cross_validate, GridSearchCV, train_test_split\n",
    "import statsmodels.api as sm\n",
    "from statsmodels.stats.outliers_influence import variance_inflation_factor \n",
    "import statistics\n",
    "import matplotlib.pyplot as plt\n",
    "import seaborn as sns"
   ]
  },
  {
   "cell_type": "code",
   "execution_count": null,
   "metadata": {
    "slideshow": {
     "slide_type": "skip"
    }
   },
   "outputs": [],
   "source": [
    "ames_df = pd.read_csv('./data/final_df.csv', index_col = 0)\n",
    "\n",
    "# Checking final_df after generating geoCode, found duplicated observations\n",
    "ames_df.shape"
   ]
  },
  {
   "cell_type": "code",
   "execution_count": null,
   "metadata": {
    "slideshow": {
     "slide_type": "skip"
    }
   },
   "outputs": [],
   "source": [
    "# drop duplicated observations\n",
    "ames_df = ames_df.drop_duplicates(subset=['PID'],keep = 'first')\n",
    "ames_df.shape"
   ]
  },
  {
   "cell_type": "code",
   "execution_count": null,
   "metadata": {
    "slideshow": {
     "slide_type": "skip"
    }
   },
   "outputs": [],
   "source": [
    "ames_df_use = ames_df.copy()\n",
    "\n",
    "# convert MSSubClass to str\n",
    "ames_df_use['MSSubClass'] = ames_df_use[['MSSubClass']].astype('str')\n",
    "\n",
    "# characterize tax distr and sch distr\n",
    "ames_df_use['TxD_S'] = ames_df_use[['TxD_S']].astype('str')\n",
    "ames_df_use['SchD_S'] = ames_df_use[['SchD_S']].astype('str')\n",
    "\n",
    "# convert NA's to 0s in LotFrontage and Alley\n",
    "ames_df_use['LotFrontage'] = np.where(pd.isnull(ames_df_use['LotFrontage']), 0, ames_df_use['LotFrontage'])\n",
    "ames_df_use['Alley'] = np.where(pd.isnull(ames_df_use['Alley']), 0, 1)\n",
    "\n",
    "# impute None to Nan value in columns\n",
    "none_features = ['FireplaceQu','GarageType','GarageFinish','GarageQual','GarageCond','Fence','BsmtQual','BsmtCond']\n",
    "for feature in none_features:\n",
    "    ames_df_use[feature] = ames_df_use[feature].fillna('None')\n",
    "\n",
    "# impute None to 0 values in columns\n",
    "zero_features = ['1stFlrSF','2ndFlrSF','GarageCars','TtlBsmtSF','BsmtFinSF1','BsmtFinSF2','BsmtUnfSF','GarageArea',\n",
    "                 'BsmtFullBath','BsmtHalfBath','FullBath','HalfBath','Fireplaces']\n",
    "for feature in zero_features:\n",
    "    ames_df_use[feature] = ames_df_use[feature].fillna(0)\n",
    "\n",
    "# drop rows with NA garage car / garage area\n",
    "garage_NA_index = ames_df_use.loc[pd.isnull(ames_df_use['GarageArea'])].index\n",
    "ames_df_use = ames_df_use.drop(garage_NA_index,axis=0)\n",
    "\n",
    "# add in proper bathroom numbers for 918 and 2328\n",
    "ames_df_use.at[918, 'num_bathroom'] = 1\n",
    "ames_df_use.at[2328, 'num_bathroom'] = 3.5"
   ]
  },
  {
   "cell_type": "code",
   "execution_count": null,
   "metadata": {
    "slideshow": {
     "slide_type": "skip"
    }
   },
   "outputs": [],
   "source": [
    "X_full = ames_df_use[['YearBuilt','GrLivArea','OverallQual','OverallCond','TtlBsmtSF','BsmtUnfSF',\\\n",
    "                      'GarageArea','GarageQual','KitchenAbvGr','KitchenQual','BedroomAbvGr','FullBath',\\\n",
    "                      'Fireplaces','FireplaceQu','Neighborhood','MSSubClass','TxD_S']]\n",
    "\n",
    "# X_full['1stFlrSF'] = np.log(X_full['1stFlrSF']+1)\n",
    "# X_full['2ndFlrSF'] = np.log(X_full['2ndFlrSF']+1)\n",
    "X_full['GrLivArea'] = np.log(X_full['GrLivArea'])\n",
    "X_full['TtlBsmtSF'] = np.log(X_full['TtlBsmtSF']+1)\n",
    "# X_full['BsmtFinSF1'] = np.log(X_full['BsmtFinSF1']+1)\n",
    "# X_full['BsmtFinSF2'] = np.log(X_full['BsmtFinSF2']+1)\n",
    "X_full['GarageArea'] = np.log(X_full['GarageArea']+1)\n",
    "\n",
    "X_full_dum = pd.get_dummies(X_full, drop_first = True)\n",
    "print(X_full_dum.shape)\n",
    "\n",
    "y_full = np.log(ames_df_use['SalePrice'])"
   ]
  },
  {
   "cell_type": "code",
   "execution_count": null,
   "metadata": {
    "hide_input": true,
    "scrolled": true,
    "slideshow": {
     "slide_type": "subslide"
    },
    "tags": [
     "to_remove"
    ]
   },
   "outputs": [],
   "source": [
    "lin_reg = LinearRegression(normalize = True).fit(X_full_dum, y_full)\n",
    "lin_reg.score(X_full_dum, y_full)\n",
    "\n",
    "x_feature = sm.add_constant(X_full_dum)\n",
    "\n",
    "model = sm.OLS(y_full, x_feature)\n",
    "results_feature = model.fit()\n",
    "print(results_feature.summary())\n",
    "pValue = results_feature.pvalues\n",
    "pValue[pValue<0.05]"
   ]
  },
  {
   "cell_type": "markdown",
   "metadata": {
    "slideshow": {
     "slide_type": "slide"
    }
   },
   "source": [
    "# Feature Engineering"
   ]
  },
  {
   "cell_type": "markdown",
   "metadata": {
    "slideshow": {
     "slide_type": "fragment"
    }
   },
   "source": [
    "- Building Age: Year Sold - Year Built\n",
    "- Remodeled: 1 if remodeled, 0 if not\n",
    "- IsPUD: 1 if PUD, 0 if not\n",
    "- PosFeat: 1 if near/adjacent to positive feature, 0 if not\n",
    "- Extmatl: exterior material 1 + 2\n",
    "- TotalPorchSF: all porch sf\n",
    "- HasFence: 1 if has fence, 0 if not\n",
    "- Funct_3: normal, minor, moderate to severe\n",
    "- num_bathroom: all bathrooms\n",
    "- BsmtTtlFinSF: FinSF1+2\n",
    "- Qual/Cond: Quantified quality/condition\n",
    "- Direction: direction relative to ISU"
   ]
  },
  {
   "cell_type": "code",
   "execution_count": null,
   "metadata": {
    "hide_input": true,
    "slideshow": {
     "slide_type": "skip"
    }
   },
   "outputs": [],
   "source": [
    "# remove unnecessary columns\n",
    "ames_df_use = ames_df_use.drop(\n",
    "    ['PA-PreD','PA-PostD','PA-UnTyp','PA-UntNo','X1TPr_D','X1TSc_D','Rcrd_Mo','Legal_Pr','SchD_S',\\\n",
    "    'X2TPr_D','X2TSc_D','X1TPr_S','X1TSc_S','X2TPr_S','X2TSc_S','ISU_lat_long','address','MA_Ownr1','MA_Ownr2',\\\n",
    "    'MA_Line1','MA_Line2','MA_City','MA_State','address3','location2','point2','SaleCond','Source','Date',\\\n",
    "    'ParType','BldgNo_S','DwlgNo_S','YrBuilt','Ext1','Ext2','GLA','GarYrBlt','Cars','MA_Zip1','MA_Zip2',\\\n",
    "    'ZngCdPr','ZngCdSc','ZngOLPr','ZngOLSc','PA-Nmbr','PA-Strt','PA-StSfx','Inst1_No','Inst1_Yr','Inst1_Mo',\\\n",
    "    'Inst1TPr','TtlVal_AsrYr','ValType','OthAc_S','ImpAc_S','LndAc_S','Prop_Addr','HSTtl_D','MilVal_D',\\\n",
    "    'HSTtl_S','MilVal_S','GeoRefNo','Tier','Range','AcreX_S1','ClassPr_S','ClassSc_S','LndAcX1S','ImpAcX1S',\\\n",
    "    'Central Air','ImpAcX2S','AcreGr','AcreNt_S','ParclRel','Rcrd_Yr','address2','SaleType',\\\n",
    "    'latitude2','longitude2','ISU_lat','ISU_long','altitude2','Central Air',\\\n",
    "\n",
    "    'index','MiscVal','YrSold_YYYY','MoSold_MM','PoolArea','PoolQC','MiscFeature','Street','PID','Utilities',\\\n",
    "    'BsmtHalfBath2','FullBath','HalfBath','TtlBsmtSF','HalfBath2','BsmtFullBath','BsmtHalfBath',\\\n",
    "    'BsmtFinType1','BsmtFinType2','LowQualFinSF',\\\n",
    "    '1stFlrSF','2ndFlrSF','MasVnrType','MasVnrArea','GarageArea2','PoolArea2','NmbrBRs',\\\n",
    "    'TotalBsmtSF','GarageYrBlt','BasmtFinSF','Heating'],\\\n",
    "    axis=1)\n",
    "\n",
    "print(ames_df_use.columns)\n",
    "print(f'has null: {ames_df_use.columns[ames_df_use.isnull().sum() > 0]}')"
   ]
  },
  {
   "cell_type": "code",
   "execution_count": null,
   "metadata": {
    "slideshow": {
     "slide_type": "skip"
    }
   },
   "outputs": [],
   "source": [
    "def feature_eng(df):\n",
    "    # num_bathroom = adding up all the bathroom variables\n",
    "    \n",
    "    # calculate age of building\n",
    "    df['BldgAge'] = df['YrSold'] - df['YearBuilt']\n",
    "    #effectiveage: df['BldgAge'] = df['YearBuilt'] - df['YearRemodAdd']\n",
    "    \n",
    "    # adding up BsmtFinSF 1 and 2\n",
    "    df['BsmtTtlFinSF'] = df['BsmtFinSF1'] + df['BsmtFinSF2']\n",
    "    \n",
    "    # binarize YearRemodAdd\n",
    "    df['Remodeled'] = np.where(df['YearRemodAdd'] == df['YearBuilt'], 0, 1)\n",
    "\n",
    "    # binarize MSSubClass to PUD or not PUD\n",
    "    df['IsPUD'] = np.where(df['MSSubClass'].isin(['120','150','160','180']), 1, 0)\n",
    "    \n",
    "    # binarize Condition1/2 to positive feature or no positive feature\n",
    "    df['PosFeat'] = np.where(df['Condition1'].isin(['PosN','PosA'])|df['Condition2'].isin(['PosN','PosA']), 1, 0)\n",
    "    \n",
    "    # combine exterior material 1/2 to one column\n",
    "    df['ExtMatl'] = np.where((df['Exterior1st']==df['Exterior2nd']),df['Exterior1st'], 'Mixed')\n",
    "    \n",
    "    # simply qual/cond features\n",
    "    for col in ['ExterQual','BsmtQual','KitchenQual','FireplaceQu','GarageQual','ExterCond',\\\n",
    "                'BsmtCond','GarageCond','HeatingQC']:\n",
    "        df[col+'_num'] = df[col].replace(['Ex','Gd','TA','Fa','Po','None'],[10,8,6,4,2,0])\n",
    "\n",
    "    # sum up porch/housefront area\n",
    "    df['TotalPorchSF'] = df['OpenPorchSF'] + df['3SsnPorch'] + df['EnclosedPorch'] +\\\n",
    "                                df['ScreenPorch'] + df['WoodDeckSF']\n",
    "    \n",
    "    # binarize fences to having a fence or not having a fence\n",
    "    df['HasFence'] = np.where(df['Fence']=='None', 0, 1)\n",
    "\n",
    "    # simplify Functional to 3 classes\n",
    "    df['Funct_3'] = df['Functional'].replace(['Maj1', 'Maj2', 'Min1', 'Min2', 'Mod', 'Sal', 'Typ'],\\\n",
    "                                             ['ModToSev','ModToSev','Minor','Minor','ModToSev','ModToSev','Normal'])\n",
    "    \n",
    "    # assign a direction for each neighborhood\n",
    "    df['Direction'] = df['Neighborhood'].replace(['Blmngtn','Blueste','BrDale','BrkSide','ClearCr','CollgCr','Crawfor',\\\n",
    "                                                  'Edwards','Gilbert','Greens','IDOTRR','MeadowV','Mitchel','NAmes',\\\n",
    "                                                  'NPkVill','NWAmes','NoRidge','NridgHt','OldTown','SWISU','Sawyer',\\\n",
    "                                                  'SawyerW','Somerst','StoneBr','Timber','Veenker'],\\\n",
    "                                                 ['N','S','N','E','N','W','S','W','N','S','W','S','S','N','N','N','N',\\\n",
    "                                                 'N','E','S','W','W','N','N','S','N'])\n",
    "    \n",
    "    # drop the original columns or unused columns\n",
    "    df = df.drop(['MSSubClass','YearBuilt','YearRemodAdd','LotFrontage','LotArea','LotConfig','LandSlope',\\\n",
    "                  'Condition1','Condition2','Exterior1st','Exterior2nd','LotShape','LandContour',\\\n",
    "                  'OpenPorchSF','3SsnPorch','EnclosedPorch','ScreenPorch','WoodDeckSF',\\\n",
    "                  'Fence','Functional','ExterQual','BsmtQual','KitchenQual','FireplaceQu',\\\n",
    "                  'GarageQual','ExterCond','BsmtCond','GarageCond','HeatingQC','MSZoning',\\\n",
    "                  'GarageCars','RoofStyle','RoofMatl','KitchenAbvGr','Functional','Neighborhood',\\\n",
    "                  'BsmtFinSF1', 'BsmtFinSF2','BasmtFinSF1', 'BasmtFinSF2','BedroomAbvGr',\\\n",
    "                 'total_LivArea','Alley','MoSold','YrSold'],\\\n",
    "                 axis = 1)\n",
    "    return df"
   ]
  },
  {
   "cell_type": "code",
   "execution_count": null,
   "metadata": {
    "slideshow": {
     "slide_type": "skip"
    }
   },
   "outputs": [],
   "source": [
    "ames_df_eng = feature_eng(ames_df_use)"
   ]
  },
  {
   "cell_type": "code",
   "execution_count": null,
   "metadata": {
    "slideshow": {
     "slide_type": "skip"
    }
   },
   "outputs": [],
   "source": [
    "# dummify the dataset\n",
    "ames_df_dum = pd.get_dummies(ames_df_eng, drop_first=True)\n",
    "print(ames_df_dum.shape)\n",
    "print(ames_df_dum.shape)\n",
    "\n",
    "# apply log()\n",
    "ames_df_dum['SalePrice'] = np.log(ames_df_dum['SalePrice'])\n",
    "ames_df_dum['GrLivArea'] = np.log(ames_df_dum['GrLivArea'])\n",
    "ames_df_dum['BsmtUnfSF'] = np.log(ames_df_dum['BsmtUnfSF']+1)\n",
    "ames_df_dum['BsmtTtlFinSF'] = np.log(ames_df_dum['BsmtTtlFinSF']+1)\n",
    "# ames_df_dum['total_LivArea'] = np.log(ames_df_dum['total_LivArea'])\n",
    "# ames_df_dum['Distance'] = np.log(X_train_dum['Distance'])\n",
    "ames_df_dum['TotalPorchSF'] = np.log(ames_df_dum['TotalPorchSF']+1)"
   ]
  },
  {
   "cell_type": "code",
   "execution_count": null,
   "metadata": {
    "slideshow": {
     "slide_type": "skip"
    }
   },
   "outputs": [],
   "source": [
    "features = ames_df_dum.drop('SalePrice', axis = 1)\n",
    "target = ames_df_dum['SalePrice']\n",
    "\n",
    "X_train, X_test, y_train, y_test = train_test_split(features, target, test_size=0.2)\n",
    "\n",
    "print(X_train.shape)\n",
    "print(X_test.shape)\n",
    "print(y_train.shape)\n",
    "print(y_test.shape)"
   ]
  },
  {
   "cell_type": "code",
   "execution_count": null,
   "metadata": {
    "hide_input": true,
    "scrolled": true,
    "slideshow": {
     "slide_type": "subslide"
    },
    "tags": [
     "to_remove"
    ]
   },
   "outputs": [],
   "source": [
    "lin_reg = LinearRegression().fit(X_train, y_train)\n",
    "lin_reg.score(X_train, y_train)\n",
    "\n",
    "x_feature = sm.add_constant(X_train)\n",
    "\n",
    "model = sm.OLS(y_train, x_feature)\n",
    "results_feature = model.fit()\n",
    "print(results_feature.summary())\n",
    "pValue = results_feature.pvalues\n",
    "pValue[pValue<0.05]"
   ]
  },
  {
   "cell_type": "code",
   "execution_count": null,
   "metadata": {
    "hide_input": true,
    "slideshow": {
     "slide_type": "fragment"
    }
   },
   "outputs": [],
   "source": [
    "print(f'Num of features: {len(X_train.columns)}')\n",
    "print(f'AIC: {results_feature.aic}')\n",
    "print(f'BIC: {results_feature.bic}')\n",
    "print(f'train score: {lin_reg.score(X_train, y_train)}')\n",
    "print(f'test score: {lin_reg.score(X_test, y_test)}')"
   ]
  },
  {
   "cell_type": "code",
   "execution_count": null,
   "metadata": {
    "slideshow": {
     "slide_type": "skip"
    }
   },
   "outputs": [],
   "source": [
    "sig_feat = pValue[pValue<0.05].index.drop('const')"
   ]
  },
  {
   "cell_type": "code",
   "execution_count": null,
   "metadata": {
    "slideshow": {
     "slide_type": "skip"
    }
   },
   "outputs": [],
   "source": [
    "X_train2 = X_train[sig_feat]\n",
    "X_test2 = X_test[sig_feat]"
   ]
  },
  {
   "cell_type": "code",
   "execution_count": null,
   "metadata": {
    "hide_input": true,
    "slideshow": {
     "slide_type": "subslide"
    }
   },
   "outputs": [],
   "source": [
    "lin_reg = LinearRegression().fit(X_train2, y_train)\n",
    "lin_reg.score(X_train2, y_train)\n",
    "\n",
    "x_feature = sm.add_constant(X_train2)\n",
    "model = sm.OLS(y_train, x_feature)\n",
    "results_feature = model.fit()\n",
    "print(results_feature.summary())\n",
    "pValue = results_feature.pvalues\n",
    "pValue[pValue<0.05]"
   ]
  },
  {
   "cell_type": "code",
   "execution_count": null,
   "metadata": {
    "hide_input": true,
    "slideshow": {
     "slide_type": "fragment"
    }
   },
   "outputs": [],
   "source": [
    "print(f'Num of features: {len(X_train2.columns)}')\n",
    "print(f'AIC: {results_feature.aic}')\n",
    "print(f'BIC: {results_feature.bic}')\n",
    "print(f'train score: {lin_reg.score(X_train2, y_train)}')\n",
    "print(f'test score: {lin_reg.score(X_test2, y_test)}')"
   ]
  },
  {
   "cell_type": "markdown",
   "metadata": {
    "slideshow": {
     "slide_type": "subslide"
    }
   },
   "source": [
    "#### Decision Tree"
   ]
  },
  {
   "cell_type": "code",
   "execution_count": null,
   "metadata": {
    "hide_input": true,
    "scrolled": true,
    "slideshow": {
     "slide_type": "fragment"
    },
    "tags": [
     "to_remove"
    ]
   },
   "outputs": [],
   "source": [
    "# Decision Tree Model\n",
    "tree_reg = DecisionTreeRegressor(max_depth=8).fit(X_train,y_train)\n",
    "print(f'R^2 of Train set: {tree_reg.score(X_train,y_train)}')\n",
    "print(f'R^2 Test set: {tree_reg.score(X_test,y_test)}')\n",
    "feature_importance_tree = list(zip(X_train.columns ,tree_reg.feature_importances_))\n",
    "dtype = [('feature', 'S10'), ('importance', 'float')]\n",
    "feature_importance_tree = np.array(feature_importance_tree, dtype=dtype)\n",
    "feature_sort_tree = np.sort(feature_importance_tree, order = 'importance')[::-1]\n",
    "name, score = zip(*list(feature_sort_tree))\n",
    "print(pd.DataFrame(feature_sort_tree[:20]))\n",
    "pd.DataFrame({'name':name,'score':score})[:20].plot.bar(x='name', y='score')\n",
    "plt.title('Feature Importance Plot of Decision Tree')"
   ]
  },
  {
   "cell_type": "code",
   "execution_count": null,
   "metadata": {
    "hide_input": true,
    "slideshow": {
     "slide_type": "fragment"
    }
   },
   "outputs": [],
   "source": [
    "from sklearn.model_selection import GridSearchCV\n",
    "grid_para_tree = [{\n",
    "    \"criterion\": ['mse'],\n",
    "    \"min_samples_leaf\": range(1, 10),\n",
    "    \"min_samples_split\": np.linspace(start=2, stop=30, num=15, dtype=int)\n",
    "}]\n",
    "tree_reg.set_params(random_state=42)\n",
    "grid_search_tree = GridSearchCV(tree_reg, grid_para_tree, cv=10, scoring='r2', n_jobs=-1)\n",
    "grid_search_tree.fit(X_train, y_train)\n",
    "print(f'Grid Search Best Parameters: {grid_search_tree.best_params_}')\n",
    "# print(f'Grid Search Best Scores: {grid_search_tree.best_score_}')\n",
    "print(f'Grid Search R2 of Train set: {grid_search_tree.score(X_train,y_train)}')\n",
    "print(f'Grid Search R2 of Test set: {grid_search_tree.score(X_test,y_test)}')"
   ]
  },
  {
   "cell_type": "code",
   "execution_count": null,
   "metadata": {
    "hide_input": true,
    "slideshow": {
     "slide_type": "subslide"
    },
    "tags": [
     "to_remove"
    ]
   },
   "outputs": [],
   "source": [
    "depth = range(5, 50)\n",
    "train_error = []\n",
    "test_error = []\n",
    "for i in depth:\n",
    "    tree_reg.set_params(max_depth=i, min_samples_leaf=9)\n",
    "    tree_reg.fit(X_train, y_train)\n",
    "    train_error.append(1 - tree_reg.score(X_train, y_train))\n",
    "    test_error.append(1 - tree_reg.score(X_test, y_test))\n",
    "\n",
    "plt.figure(figsize = (17,10))\n",
    "plt.plot(depth, train_error, c='red', label='training error')\n",
    "plt.plot(depth, test_error, c='blue', label='test error')\n",
    "plt.ylim(0, 0.30)\n",
    "plt.ylabel('Error')\n",
    "plt.xlabel('Depth')\n",
    "plt.legend()\n",
    "plt.show()"
   ]
  },
  {
   "cell_type": "markdown",
   "metadata": {
    "slideshow": {
     "slide_type": "subslide"
    }
   },
   "source": [
    "### Random Forest Model"
   ]
  },
  {
   "cell_type": "code",
   "execution_count": null,
   "metadata": {
    "hide_input": true,
    "scrolled": true,
    "slideshow": {
     "slide_type": "fragment"
    },
    "tags": [
     "to_remove"
    ]
   },
   "outputs": [],
   "source": [
    "# Random Forest Model\n",
    "forest_reg = RandomForestRegressor(n_estimators=100,max_features=5).fit(X_train,y_train)\n",
    "print(f'R^2 of Train set: {forest_reg.score(X_train,y_train)}')\n",
    "print(f'R^2 Test set: {forest_reg.score(X_test,y_test)}')\n",
    "\n",
    "\n",
    "feature_importance_forest = list(zip(X_train.columns, forest_reg.feature_importances_))\n",
    "feature_importance_forest = np.array(feature_importance_forest, dtype=dtype)\n",
    "feature_sort_forest = np.sort(feature_importance_forest, order='importance')[::-1]\n",
    "name, score = zip(*list(feature_sort_forest))\n",
    "print(pd.DataFrame(feature_sort_forest[:20]))\n",
    "pd.DataFrame({'name':name,'score':score})[:20].plot.bar(x='name', y='score')\n",
    "plt.title('Feature Importance Plot of 500 Trees Random Forest')\n",
    "\n",
    "\n",
    "grid_para_forest = [{\n",
    "    \"n_estimators\": [100,500,1000],\n",
    "    \"criterion\": [\"mse\"],\n",
    "    \"min_samples_leaf\": range(1, 10),\n",
    "    \"min_samples_split\": np.linspace(start=2, stop=30, num=15, dtype=int),\n",
    "    \"random_state\": [42]}]\n",
    "grid_search_forest = GridSearchCV(forest_reg, grid_para_forest, cv=10, scoring='r2', n_jobs=-1)\n",
    "%time grid_search_forest.fit(X_train, y_train)\n",
    "\n",
    "print(f'Grid Search Best Parameters: {grid_search_forest.best_params_}')\n",
    "\n",
    "# print(f'Grid Search Best Scores: {grid_search_forest.best_score_}')\n",
    "\n",
    "print(f'Grid Search R2 of Train set: {grid_search_forest.score(X_train,y_train)}')\n",
    "print(f'Grid Search R2 of Test set: {grid_search_forest.score(X_test,y_test)}')"
   ]
  },
  {
   "cell_type": "code",
   "execution_count": null,
   "metadata": {
    "hide_input": true,
    "slideshow": {
     "slide_type": "subslide"
    },
    "tags": [
     "to_remove"
    ]
   },
   "outputs": [],
   "source": [
    "n_trees_range = range(100, 1000, 100)  # OOB score will warning if too few trees\n",
    "train_error2 = []\n",
    "test_error2 = []\n",
    "\n",
    "\n",
    "for n_trees in n_trees_range:\n",
    "    forest_reg.set_params(n_estimators=n_trees)\n",
    "    forest_reg.fit(X_train, y_train)\n",
    "    train_error2.append(1 - forest_reg.score(X_train, y_train))\n",
    "    test_error2.append(1 - forest_reg.score(X_test, y_test))\n",
    "    \n",
    "plt.figure(figsize = (17,10))\n",
    "plt.plot(n_trees_range, train_error2, c='red', label='training error')\n",
    "plt.plot(n_trees_range, test_error2, c='blue', label='test error')\n",
    "plt.ylabel('Error')\n",
    "plt.xlabel('Number of trees')\n",
    "plt.legend()\n",
    "plt.show()"
   ]
  },
  {
   "cell_type": "markdown",
   "metadata": {
    "hide_input": false,
    "slideshow": {
     "slide_type": "subslide"
    }
   },
   "source": [
    "###  Gradient Boosting Model"
   ]
  },
  {
   "cell_type": "code",
   "execution_count": null,
   "metadata": {
    "hide_input": true,
    "scrolled": true,
    "slideshow": {
     "slide_type": "fragment"
    },
    "tags": [
     "to_remove"
    ]
   },
   "outputs": [],
   "source": [
    "# Gradient Boosting Model\n",
    "from sklearn.ensemble import GradientBoostingRegressor\n",
    "sns.set(rc={'axes.facecolor':'#F0F1EB', 'figure.facecolor':'#F0F1EB'})\n",
    "\n",
    "gbm = GradientBoostingRegressor()\n",
    "gbm.set_params(learning_rate=0.01, n_estimators=5000, verbose=1, warm_start=False,loss='ls',max_features=2, min_impurity_decrease=0.01)\n",
    "gbm.fit(X_train,y_train)\n",
    "print(f'R^2 of Train set: {gbm.score(X_train,y_train)}')\n",
    "print(f'R^2 Test set: {gbm.score(X_test,y_test)}')\n",
    "sorted_importance = sorted(zip(X_train.columns, gbm.feature_importances_), key=lambda t:t[1], reverse=True)\n",
    "a, b = zip(*sorted_importance) # this splits the list of tuples into two lists\n",
    "pd.DataFrame({'feature_name':a, 'importance_score':b})[:20].plot.bar(x='feature_name',y='importance_score', legend=None)"
   ]
  },
  {
   "cell_type": "code",
   "execution_count": null,
   "metadata": {
    "hide_input": true,
    "slideshow": {
     "slide_type": "subslide"
    }
   },
   "outputs": [],
   "source": [
    "from sklearn.metrics import r2_score\n",
    "# The staged_predict returns generators\n",
    "sns.set(rc={'axes.facecolor':'#F0F1EB', 'figure.facecolor':'#F0F1EB'})\n",
    "\n",
    "gen_train = gbm.staged_predict(X_train)\n",
    "gen_test  = gbm.staged_predict(X_test)\n",
    "trainR2 = []\n",
    "testR2  = []\n",
    "steps   = range(1,5000)\n",
    "for n in steps:\n",
    "    y_pred_train = next(gen_train)\n",
    "    y_pred_test  = next(gen_test)\n",
    "    trainR2.append(1-r2_score(y_pred_train, y_train))\n",
    "    testR2.append(1-r2_score(y_pred_test, y_test))\n",
    "start = 4000\n",
    "\n",
    "plt.figure(figsize = (17,10))\n",
    "plt.plot(steps[start:], trainR2[start:],label='train')\n",
    "plt.plot(steps[start:], testR2[start:],label='test')\n",
    "plt.legend(loc=4)\n",
    "plt.xlabel('n_estimators')\n",
    "plt.ylabel(r'Error')"
   ]
  },
  {
   "cell_type": "markdown",
   "metadata": {
    "slideshow": {
     "slide_type": "subslide"
    }
   },
   "source": [
    "### Lasso Regression"
   ]
  },
  {
   "cell_type": "code",
   "execution_count": null,
   "metadata": {
    "hide_input": true,
    "scrolled": true,
    "slideshow": {
     "slide_type": "fragment"
    },
    "tags": [
     "to_remove"
    ]
   },
   "outputs": [],
   "source": [
    "reg_lasso_cv = LassoCV(normalize = True, n_alphas = 200)\n",
    "reg_lasso_cv.fit(X_train, y_train)\n",
    "print(reg_lasso_cv.alpha_)\n",
    "\n",
    "reg_lasso = Lasso(normalize=True)\n",
    "reg_lasso.set_params(alpha = reg_lasso_cv.alpha_)\n",
    "reg_lasso.fit(X_train, y_train)\n",
    "lasso_coef_df = pd.DataFrame({'feature':X_train.columns,\n",
    "                              'coef':reg_lasso.coef_})\n",
    "num_feat = len(lasso_coef_df[lasso_coef_df['coef']!=0])\n",
    "print(f'{num_feat} non-zero features')\n",
    "lasso_coef_df[lasso_coef_df['coef']>0]\n"
   ]
  },
  {
   "cell_type": "code",
   "execution_count": null,
   "metadata": {
    "hide_input": true,
    "slideshow": {
     "slide_type": "fragment"
    }
   },
   "outputs": [],
   "source": [
    "print(reg_lasso.score(X_train, y_train))\n",
    "print(reg_lasso.score(X_test, y_test))"
   ]
  },
  {
   "cell_type": "markdown",
   "metadata": {
    "slideshow": {
     "slide_type": "slide"
    }
   },
   "source": [
    "# Conclusion"
   ]
  },
  {
   "cell_type": "markdown",
   "metadata": {
    "slideshow": {
     "slide_type": "fragment"
    }
   },
   "source": [
    "- Linear regression model may be better at predicting Ames housing prices\n",
    "- Housing price at Ames, Iowa is stable from 2006 to 2010\n",
    "- We recommend that home buyers focus on the overall quality (overall material and finish) of the house first and foremost in order to maximize profit"
   ]
  }
 ],
 "metadata": {
  "celltoolbar": "Slideshow",
  "kernelspec": {
   "display_name": "Python 3 (ipykernel)",
   "language": "python",
   "name": "python3"
  },
  "language_info": {
   "codemirror_mode": {
    "name": "ipython",
    "version": 3
   },
   "file_extension": ".py",
   "mimetype": "text/x-python",
   "name": "python",
   "nbconvert_exporter": "python",
   "pygments_lexer": "ipython3",
   "version": "3.9.12"
  },
  "toc": {
   "base_numbering": 1,
   "nav_menu": {},
   "number_sections": false,
   "sideBar": true,
   "skip_h1_title": false,
   "title_cell": "Table of Contents",
   "title_sidebar": "Contents",
   "toc_cell": false,
   "toc_position": {},
   "toc_section_display": true,
   "toc_window_display": false
  }
 },
 "nbformat": 4,
 "nbformat_minor": 4
}
